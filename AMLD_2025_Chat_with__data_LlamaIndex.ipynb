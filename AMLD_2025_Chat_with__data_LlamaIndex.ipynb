{
  "cells": [
    {
      "cell_type": "markdown",
      "metadata": {
        "id": "view-in-github",
        "colab_type": "text"
      },
      "source": [
        "<a href=\"https://colab.research.google.com/github/dankaparaficz/tensorflow/blob/master/AMLD_2025_Chat_with__data_LlamaIndex.ipynb\" target=\"_parent\"><img src=\"https://colab.research.google.com/assets/colab-badge.svg\" alt=\"Open In Colab\"/></a>"
      ]
    },
    {
      "cell_type": "markdown",
      "id": "f59565a0-62c0-4048-8a7c-e60fba161cd2",
      "metadata": {
        "id": "f59565a0-62c0-4048-8a7c-e60fba161cd2"
      },
      "source": [
        "# **Chat with Data: Retrieval Augmented Generation (RAG) with LlamaIndex and OpenAI API**\n",
        "\n",
        "## Overview\n",
        "\n",
        "LlamaIndex https://www.llamaindex.ai/ is a powerful data framework that helps you:\n",
        "- Create vector embeddings from documents\n",
        "- Build efficient retrieval systems\n",
        "- Connect your data with Large Language Models\n",
        "- Generate contextualized responses"
      ]
    },
    {
      "cell_type": "markdown",
      "id": "433ea1f0-86e8-4912-8db8-dfe3d6a00b6d",
      "metadata": {
        "id": "433ea1f0-86e8-4912-8db8-dfe3d6a00b6d"
      },
      "source": [
        "## **Part 1. Structural data**\n",
        "We will build a simple RAG system to retrieve information about players at EURO 2024 using LlamaIndex library"
      ]
    },
    {
      "cell_type": "markdown",
      "id": "3a29935d",
      "metadata": {
        "id": "3a29935d"
      },
      "source": [
        "**Data**: CSV file: euro2024_players.csv\n",
        "\n",
        "This table presents information about football players participating in Euro 2024. It includes the following details for each player:\n",
        "\n",
        "**Name**: Full name of the player\n",
        "\n",
        "**Position**: The position they play on the field (e.g., goalkeeper, centre-back)\n",
        "\n",
        "**Age**: Age of the player\n",
        "\n",
        "**Club**: The club they currently play for\n",
        "\n",
        "**Height**: Height of the player in centimeters\n",
        "\n",
        "**Foot**: Their dominant foot (right or left)\n",
        "\n",
        "**Caps**: The number of international matches played for their country\n",
        "\n",
        "**Goals**: The number of goals scored in international matches\n",
        "\n",
        "**Market Value**: Estimated market value of the player in Euros\n",
        "\n",
        "**Country**: Country the player represents"
      ]
    },
    {
      "cell_type": "markdown",
      "source": [
        "#LLamaIndex\n",
        "https://docs.llamaindex.ai/en/stable/\n",
        "\n",
        "LlamaIndex, formerly known as GPT Index, is a data framework designed to streamline the development of applications that leverage Large Language Models (LLMs). It provides developers with tools and functionalities for integrating various data sources (e.g., documents, APIs, databases) with LLMs, enabling them to build more intelligent and context-aware applications.\n",
        "\n",
        "\n",
        "##Chat Engine\n",
        "###Concept:\n",
        "\n",
        "Chat engine is a high-level interface for having a conversation with your data (multiple back-and-forth instead of a single question & answer). Think ChatGPT, but augmented with your knowledge base.\n",
        "\n",
        "By keeping track of the conversation history, it can answer questions with past context in mind.\n",
        "\n",
        "Configuring a Chat Engine\n",
        "https://docs.llamaindex.ai/en/stable/module_guides/deploying/chat_engines/usage_pattern/\n",
        "\n",
        "\n"
      ],
      "metadata": {
        "id": "HxTCfVGmneJo"
      },
      "id": "HxTCfVGmneJo"
    },
    {
      "cell_type": "markdown",
      "source": [
        "#Setup"
      ],
      "metadata": {
        "id": "T3j_zKQUnp3t"
      },
      "id": "T3j_zKQUnp3t"
    },
    {
      "cell_type": "code",
      "source": [
        "import sys\n",
        "import os\n",
        "import pandas as pd"
      ],
      "metadata": {
        "id": "2nUIDFmZw3Qe"
      },
      "id": "2nUIDFmZw3Qe",
      "execution_count": null,
      "outputs": []
    },
    {
      "cell_type": "markdown",
      "source": [
        "Install LlamaIndex library, adopted to OpenAI\n",
        "The optional flag -q installs \"quietly\" without printing out details of the installation."
      ],
      "metadata": {
        "id": "ba5jkvHIxF2m"
      },
      "id": "ba5jkvHIxF2m"
    },
    {
      "cell_type": "code",
      "source": [
        "%pip install llama-index-llms-openai -q"
      ],
      "metadata": {
        "id": "yAyUjDg7w6h1",
        "colab": {
          "base_uri": "https://localhost:8080/"
        },
        "outputId": "fc639c89-f068-479c-b329-23f264e15bb9"
      },
      "id": "yAyUjDg7w6h1",
      "execution_count": null,
      "outputs": [
        {
          "output_type": "stream",
          "name": "stdout",
          "text": [
            "\u001b[?25l   \u001b[90m━━━━━━━━━━━━━━━━━━━━━━━━━━━━━━━━━━━━━━━━\u001b[0m \u001b[32m0.0/1.6 MB\u001b[0m \u001b[31m?\u001b[0m eta \u001b[36m-:--:--\u001b[0m\r\u001b[2K   \u001b[91m━━━━━━━━━━━━━━━━━━━━━━━━━━━━━━━━━━━━━\u001b[0m\u001b[91m╸\u001b[0m\u001b[90m━━\u001b[0m \u001b[32m1.5/1.6 MB\u001b[0m \u001b[31m45.0 MB/s\u001b[0m eta \u001b[36m0:00:01\u001b[0m\r\u001b[2K   \u001b[90m━━━━━━━━━━━━━━━━━━━━━━━━━━━━━━━━━━━━━━━━\u001b[0m \u001b[32m1.6/1.6 MB\u001b[0m \u001b[31m31.8 MB/s\u001b[0m eta \u001b[36m0:00:00\u001b[0m\n",
            "\u001b[2K   \u001b[90m━━━━━━━━━━━━━━━━━━━━━━━━━━━━━━━━━━━━━━━━\u001b[0m \u001b[32m1.2/1.2 MB\u001b[0m \u001b[31m64.7 MB/s\u001b[0m eta \u001b[36m0:00:00\u001b[0m\n",
            "\u001b[2K   \u001b[90m━━━━━━━━━━━━━━━━━━━━━━━━━━━━━━━━━━━━━━━━\u001b[0m \u001b[32m50.9/50.9 kB\u001b[0m \u001b[31m4.3 MB/s\u001b[0m eta \u001b[36m0:00:00\u001b[0m\n",
            "\u001b[?25h"
          ]
        }
      ]
    },
    {
      "cell_type": "code",
      "source": [
        "!pip install llama-index -q"
      ],
      "metadata": {
        "id": "Dtasottrw_4z",
        "colab": {
          "base_uri": "https://localhost:8080/"
        },
        "outputId": "2417b000-ebe0-49f7-af9b-7ee73ce5631b"
      },
      "id": "Dtasottrw_4z",
      "execution_count": null,
      "outputs": [
        {
          "output_type": "stream",
          "name": "stdout",
          "text": [
            "\u001b[?25l   \u001b[90m━━━━━━━━━━━━━━━━━━━━━━━━━━━━━━━━━━━━━━━━\u001b[0m \u001b[32m0.0/253.0 kB\u001b[0m \u001b[31m?\u001b[0m eta \u001b[36m-:--:--\u001b[0m\r\u001b[2K   \u001b[90m━━━━━━━━━━━━━━━━━━━━━━━━━━━━━━━━━━━━━━━━\u001b[0m \u001b[32m253.0/253.0 kB\u001b[0m \u001b[31m11.3 MB/s\u001b[0m eta \u001b[36m0:00:00\u001b[0m\n",
            "\u001b[?25h\u001b[?25l   \u001b[90m━━━━━━━━━━━━━━━━━━━━━━━━━━━━━━━━━━━━━━━━\u001b[0m \u001b[32m0.0/300.7 kB\u001b[0m \u001b[31m?\u001b[0m eta \u001b[36m-:--:--\u001b[0m\r\u001b[2K   \u001b[90m━━━━━━━━━━━━━━━━━━━━━━━━━━━━━━━━━━━━━━━━\u001b[0m \u001b[32m300.7/300.7 kB\u001b[0m \u001b[31m19.6 MB/s\u001b[0m eta \u001b[36m0:00:00\u001b[0m\n",
            "\u001b[?25h"
          ]
        }
      ]
    },
    {
      "cell_type": "code",
      "source": [
        "from llama_index.core import VectorStoreIndex, SimpleDirectoryReader\n",
        "from llama_index.llms.openai import OpenAI"
      ],
      "metadata": {
        "id": "dZXErrDdAtVf"
      },
      "id": "dZXErrDdAtVf",
      "execution_count": null,
      "outputs": []
    },
    {
      "cell_type": "markdown",
      "source": [
        "##Set your OpenAI API key"
      ],
      "metadata": {
        "id": "8hjc84OansUB"
      },
      "id": "8hjc84OansUB"
    },
    {
      "cell_type": "markdown",
      "source": [
        "By default, we use the OpenAI gpt-3.5-turbo model for text generation and text-embedding-ada-002 for retrieval and embeddings. In order to use this, you must have an OPENAI_API_KEY set up as an environment variable. You can obtain an API key by logging into your OpenAI account and creating a new API key. https://platform.openai.com/api-keys"
      ],
      "metadata": {
        "id": "jXKnpqOooR5b"
      },
      "id": "jXKnpqOooR5b"
    },
    {
      "cell_type": "markdown",
      "source": [
        "###Obtain an OpenAI API Key\n",
        "Log in to Your Account:\n",
        "Go to https://platform.openai.com/login and log in with your credentials.\n",
        "\n",
        "Navigate to the API Section:\n",
        "Once logged in, click on your profile icon in the top-right corner and select \"API Keys\" from the dropdown menu.\n",
        "\n",
        "Generate a New API Key:\n",
        "Click the \"Create new secret key\" button.\n",
        "Copy the generated API key. You will not be able to view it again, so store it securely in a password manager or a safe document."
      ],
      "metadata": {
        "id": "NU9B_2Gzvw8H"
      },
      "id": "NU9B_2Gzvw8H"
    },
    {
      "cell_type": "code",
      "source": [
        "#put open ai key\n",
        "os.environ['OPENAI_API_KEY'] = input(\"Enter Open API key \")\n"
      ],
      "metadata": {
        "id": "rbnER0HMwzjj",
        "colab": {
          "base_uri": "https://localhost:8080/"
        },
        "outputId": "46a80712-d60c-452c-eb35-23382daaa07e"
      },
      "id": "rbnER0HMwzjj",
      "execution_count": null,
      "outputs": [
        {
          "name": "stdout",
          "output_type": "stream",
          "text": [
            "Enter Open API key sk-80Ob2O4mx0sOQZW4fpzdRNo6FxQ8ykKzoHd9rhJz1UT3BlbkFJpoonmyzE8Z4vOHPecc8hGeZWW5jMGh9k42VaGV7hcA\n"
          ]
        }
      ]
    },
    {
      "cell_type": "markdown",
      "source": [
        "## Upload Data from Kaggle\n",
        "Dataset of all the players that are in the squad of the teams participating in the UEFA EURO 2024.\n",
        "\n",
        "Source and short description: https://www.kaggle.com/datasets/damirdizdarevic/uefa-euro-2024-players\n"
      ],
      "metadata": {
        "id": "ydSPU-zOwhXM"
      },
      "id": "ydSPU-zOwhXM"
    },
    {
      "cell_type": "code",
      "source": [
        "# Create data directory\n",
        "!mkdir -p 'data_euro/'"
      ],
      "metadata": {
        "id": "uNbi-fHfZqVa"
      },
      "id": "uNbi-fHfZqVa",
      "execution_count": null,
      "outputs": []
    },
    {
      "cell_type": "code",
      "source": [
        "#!/bin/bash\n",
        "!curl -L -o data_euro/uefa-euro-2024-players.zip\\\n",
        "  https://www.kaggle.com/api/v1/datasets/download/damirdizdarevic/uefa-euro-2024-players"
      ],
      "metadata": {
        "colab": {
          "base_uri": "https://localhost:8080/"
        },
        "id": "W2jSY3TmSCXI",
        "outputId": "1f59b828-37de-4a2b-a0b0-8d8ebbb91ba7"
      },
      "id": "W2jSY3TmSCXI",
      "execution_count": null,
      "outputs": [
        {
          "output_type": "stream",
          "name": "stdout",
          "text": [
            "  % Total    % Received % Xferd  Average Speed   Time    Time     Time  Current\n",
            "                                 Dload  Upload   Total   Spent    Left  Speed\n",
            "  0     0    0     0    0     0      0      0 --:--:-- --:--:-- --:--:--     0\n",
            "100 15446  100 15446    0     0  40535      0 --:--:-- --:--:-- --:--:-- 40535\n"
          ]
        }
      ]
    },
    {
      "cell_type": "code",
      "source": [
        "#unzip data into data_euro folder\n",
        "!unzip -o data_euro/uefa-euro-2024-players.zip -d data_euro\n"
      ],
      "metadata": {
        "colab": {
          "base_uri": "https://localhost:8080/"
        },
        "id": "RBpQYLiFbiK0",
        "outputId": "5a38e6e7-517e-4550-abd3-a75c481bde92"
      },
      "id": "RBpQYLiFbiK0",
      "execution_count": null,
      "outputs": [
        {
          "output_type": "stream",
          "name": "stdout",
          "text": [
            "Archive:  data_euro/uefa-euro-2024-players.zip\n",
            "  inflating: data_euro/euro2024_players.csv  \n"
          ]
        }
      ]
    },
    {
      "cell_type": "code",
      "source": [
        "#remove zip file from data_euro folder\n",
        "!rm data_euro/uefa-euro-2024-players.zip"
      ],
      "metadata": {
        "id": "voCfHV1PdMCD"
      },
      "id": "voCfHV1PdMCD",
      "execution_count": null,
      "outputs": []
    },
    {
      "cell_type": "code",
      "source": [
        "#load data to dataframe to explore\n",
        "data = pd.read_csv(\"./data_euro/euro2024_players.csv\")"
      ],
      "metadata": {
        "id": "YuuuLg4JS1ty"
      },
      "id": "YuuuLg4JS1ty",
      "execution_count": null,
      "outputs": []
    },
    {
      "cell_type": "code",
      "source": [
        "# Print a concise summary of the DataFrame 'data',\n",
        "# including information about columns, data types\n",
        "data.info()"
      ],
      "metadata": {
        "colab": {
          "base_uri": "https://localhost:8080/"
        },
        "id": "KRpqhWgwxkaC",
        "outputId": "ca5da376-41fb-4356-e7ce-191678586be8"
      },
      "id": "KRpqhWgwxkaC",
      "execution_count": null,
      "outputs": [
        {
          "output_type": "stream",
          "name": "stdout",
          "text": [
            "<class 'pandas.core.frame.DataFrame'>\n",
            "RangeIndex: 623 entries, 0 to 622\n",
            "Data columns (total 10 columns):\n",
            " #   Column       Non-Null Count  Dtype \n",
            "---  ------       --------------  ----- \n",
            " 0   Name         623 non-null    object\n",
            " 1   Position     623 non-null    object\n",
            " 2   Age          623 non-null    int64 \n",
            " 3   Club         623 non-null    object\n",
            " 4   Height       623 non-null    int64 \n",
            " 5   Foot         620 non-null    object\n",
            " 6   Caps         623 non-null    int64 \n",
            " 7   Goals        623 non-null    int64 \n",
            " 8   MarketValue  623 non-null    int64 \n",
            " 9   Country      623 non-null    object\n",
            "dtypes: int64(5), object(5)\n",
            "memory usage: 48.8+ KB\n"
          ]
        }
      ]
    },
    {
      "cell_type": "code",
      "source": [
        "#first 5 players\n",
        "data.head()"
      ],
      "metadata": {
        "colab": {
          "base_uri": "https://localhost:8080/",
          "height": 204
        },
        "id": "oRh8MvI7yHpJ",
        "outputId": "b416e3dc-4d56-49a7-ff37-e871e0281fb7"
      },
      "id": "oRh8MvI7yHpJ",
      "execution_count": null,
      "outputs": [
        {
          "output_type": "execute_result",
          "data": {
            "text/plain": [
              "                    Name     Position  Age                 Club  Height  \\\n",
              "0  Marc-André ter Stegen   Goalkeeper   32         FC Barcelona     187   \n",
              "1           Manuel Neuer   Goalkeeper   38        Bayern Munich     193   \n",
              "2         Oliver Baumann   Goalkeeper   34  TSG 1899 Hoffenheim     187   \n",
              "3     Nico Schlotterbeck  Centre-Back   24    Borussia Dortmund     191   \n",
              "4           Jonathan Tah  Centre-Back   28  Bayer 04 Leverkusen     195   \n",
              "\n",
              "    Foot  Caps  Goals  MarketValue  Country  \n",
              "0  right    40      0     28000000  Germany  \n",
              "1  right   119      0      4000000  Germany  \n",
              "2  right     0      0      3000000  Germany  \n",
              "3   left    12      0     40000000  Germany  \n",
              "4  right    25      0     30000000  Germany  "
            ],
            "text/html": [
              "\n",
              "  <div id=\"df-54be796f-0569-4671-bb9b-aaa6dd7645c8\" class=\"colab-df-container\">\n",
              "    <div>\n",
              "<style scoped>\n",
              "    .dataframe tbody tr th:only-of-type {\n",
              "        vertical-align: middle;\n",
              "    }\n",
              "\n",
              "    .dataframe tbody tr th {\n",
              "        vertical-align: top;\n",
              "    }\n",
              "\n",
              "    .dataframe thead th {\n",
              "        text-align: right;\n",
              "    }\n",
              "</style>\n",
              "<table border=\"1\" class=\"dataframe\">\n",
              "  <thead>\n",
              "    <tr style=\"text-align: right;\">\n",
              "      <th></th>\n",
              "      <th>Name</th>\n",
              "      <th>Position</th>\n",
              "      <th>Age</th>\n",
              "      <th>Club</th>\n",
              "      <th>Height</th>\n",
              "      <th>Foot</th>\n",
              "      <th>Caps</th>\n",
              "      <th>Goals</th>\n",
              "      <th>MarketValue</th>\n",
              "      <th>Country</th>\n",
              "    </tr>\n",
              "  </thead>\n",
              "  <tbody>\n",
              "    <tr>\n",
              "      <th>0</th>\n",
              "      <td>Marc-André ter Stegen</td>\n",
              "      <td>Goalkeeper</td>\n",
              "      <td>32</td>\n",
              "      <td>FC Barcelona</td>\n",
              "      <td>187</td>\n",
              "      <td>right</td>\n",
              "      <td>40</td>\n",
              "      <td>0</td>\n",
              "      <td>28000000</td>\n",
              "      <td>Germany</td>\n",
              "    </tr>\n",
              "    <tr>\n",
              "      <th>1</th>\n",
              "      <td>Manuel Neuer</td>\n",
              "      <td>Goalkeeper</td>\n",
              "      <td>38</td>\n",
              "      <td>Bayern Munich</td>\n",
              "      <td>193</td>\n",
              "      <td>right</td>\n",
              "      <td>119</td>\n",
              "      <td>0</td>\n",
              "      <td>4000000</td>\n",
              "      <td>Germany</td>\n",
              "    </tr>\n",
              "    <tr>\n",
              "      <th>2</th>\n",
              "      <td>Oliver Baumann</td>\n",
              "      <td>Goalkeeper</td>\n",
              "      <td>34</td>\n",
              "      <td>TSG 1899 Hoffenheim</td>\n",
              "      <td>187</td>\n",
              "      <td>right</td>\n",
              "      <td>0</td>\n",
              "      <td>0</td>\n",
              "      <td>3000000</td>\n",
              "      <td>Germany</td>\n",
              "    </tr>\n",
              "    <tr>\n",
              "      <th>3</th>\n",
              "      <td>Nico Schlotterbeck</td>\n",
              "      <td>Centre-Back</td>\n",
              "      <td>24</td>\n",
              "      <td>Borussia Dortmund</td>\n",
              "      <td>191</td>\n",
              "      <td>left</td>\n",
              "      <td>12</td>\n",
              "      <td>0</td>\n",
              "      <td>40000000</td>\n",
              "      <td>Germany</td>\n",
              "    </tr>\n",
              "    <tr>\n",
              "      <th>4</th>\n",
              "      <td>Jonathan Tah</td>\n",
              "      <td>Centre-Back</td>\n",
              "      <td>28</td>\n",
              "      <td>Bayer 04 Leverkusen</td>\n",
              "      <td>195</td>\n",
              "      <td>right</td>\n",
              "      <td>25</td>\n",
              "      <td>0</td>\n",
              "      <td>30000000</td>\n",
              "      <td>Germany</td>\n",
              "    </tr>\n",
              "  </tbody>\n",
              "</table>\n",
              "</div>\n",
              "    <div class=\"colab-df-buttons\">\n",
              "\n",
              "  <div class=\"colab-df-container\">\n",
              "    <button class=\"colab-df-convert\" onclick=\"convertToInteractive('df-54be796f-0569-4671-bb9b-aaa6dd7645c8')\"\n",
              "            title=\"Convert this dataframe to an interactive table.\"\n",
              "            style=\"display:none;\">\n",
              "\n",
              "  <svg xmlns=\"http://www.w3.org/2000/svg\" height=\"24px\" viewBox=\"0 -960 960 960\">\n",
              "    <path d=\"M120-120v-720h720v720H120Zm60-500h600v-160H180v160Zm220 220h160v-160H400v160Zm0 220h160v-160H400v160ZM180-400h160v-160H180v160Zm440 0h160v-160H620v160ZM180-180h160v-160H180v160Zm440 0h160v-160H620v160Z\"/>\n",
              "  </svg>\n",
              "    </button>\n",
              "\n",
              "  <style>\n",
              "    .colab-df-container {\n",
              "      display:flex;\n",
              "      gap: 12px;\n",
              "    }\n",
              "\n",
              "    .colab-df-convert {\n",
              "      background-color: #E8F0FE;\n",
              "      border: none;\n",
              "      border-radius: 50%;\n",
              "      cursor: pointer;\n",
              "      display: none;\n",
              "      fill: #1967D2;\n",
              "      height: 32px;\n",
              "      padding: 0 0 0 0;\n",
              "      width: 32px;\n",
              "    }\n",
              "\n",
              "    .colab-df-convert:hover {\n",
              "      background-color: #E2EBFA;\n",
              "      box-shadow: 0px 1px 2px rgba(60, 64, 67, 0.3), 0px 1px 3px 1px rgba(60, 64, 67, 0.15);\n",
              "      fill: #174EA6;\n",
              "    }\n",
              "\n",
              "    .colab-df-buttons div {\n",
              "      margin-bottom: 4px;\n",
              "    }\n",
              "\n",
              "    [theme=dark] .colab-df-convert {\n",
              "      background-color: #3B4455;\n",
              "      fill: #D2E3FC;\n",
              "    }\n",
              "\n",
              "    [theme=dark] .colab-df-convert:hover {\n",
              "      background-color: #434B5C;\n",
              "      box-shadow: 0px 1px 3px 1px rgba(0, 0, 0, 0.15);\n",
              "      filter: drop-shadow(0px 1px 2px rgba(0, 0, 0, 0.3));\n",
              "      fill: #FFFFFF;\n",
              "    }\n",
              "  </style>\n",
              "\n",
              "    <script>\n",
              "      const buttonEl =\n",
              "        document.querySelector('#df-54be796f-0569-4671-bb9b-aaa6dd7645c8 button.colab-df-convert');\n",
              "      buttonEl.style.display =\n",
              "        google.colab.kernel.accessAllowed ? 'block' : 'none';\n",
              "\n",
              "      async function convertToInteractive(key) {\n",
              "        const element = document.querySelector('#df-54be796f-0569-4671-bb9b-aaa6dd7645c8');\n",
              "        const dataTable =\n",
              "          await google.colab.kernel.invokeFunction('convertToInteractive',\n",
              "                                                    [key], {});\n",
              "        if (!dataTable) return;\n",
              "\n",
              "        const docLinkHtml = 'Like what you see? Visit the ' +\n",
              "          '<a target=\"_blank\" href=https://colab.research.google.com/notebooks/data_table.ipynb>data table notebook</a>'\n",
              "          + ' to learn more about interactive tables.';\n",
              "        element.innerHTML = '';\n",
              "        dataTable['output_type'] = 'display_data';\n",
              "        await google.colab.output.renderOutput(dataTable, element);\n",
              "        const docLink = document.createElement('div');\n",
              "        docLink.innerHTML = docLinkHtml;\n",
              "        element.appendChild(docLink);\n",
              "      }\n",
              "    </script>\n",
              "  </div>\n",
              "\n",
              "\n",
              "<div id=\"df-aa50a9a6-fe86-4142-9dbc-d91f5d72d025\">\n",
              "  <button class=\"colab-df-quickchart\" onclick=\"quickchart('df-aa50a9a6-fe86-4142-9dbc-d91f5d72d025')\"\n",
              "            title=\"Suggest charts\"\n",
              "            style=\"display:none;\">\n",
              "\n",
              "<svg xmlns=\"http://www.w3.org/2000/svg\" height=\"24px\"viewBox=\"0 0 24 24\"\n",
              "     width=\"24px\">\n",
              "    <g>\n",
              "        <path d=\"M19 3H5c-1.1 0-2 .9-2 2v14c0 1.1.9 2 2 2h14c1.1 0 2-.9 2-2V5c0-1.1-.9-2-2-2zM9 17H7v-7h2v7zm4 0h-2V7h2v10zm4 0h-2v-4h2v4z\"/>\n",
              "    </g>\n",
              "</svg>\n",
              "  </button>\n",
              "\n",
              "<style>\n",
              "  .colab-df-quickchart {\n",
              "      --bg-color: #E8F0FE;\n",
              "      --fill-color: #1967D2;\n",
              "      --hover-bg-color: #E2EBFA;\n",
              "      --hover-fill-color: #174EA6;\n",
              "      --disabled-fill-color: #AAA;\n",
              "      --disabled-bg-color: #DDD;\n",
              "  }\n",
              "\n",
              "  [theme=dark] .colab-df-quickchart {\n",
              "      --bg-color: #3B4455;\n",
              "      --fill-color: #D2E3FC;\n",
              "      --hover-bg-color: #434B5C;\n",
              "      --hover-fill-color: #FFFFFF;\n",
              "      --disabled-bg-color: #3B4455;\n",
              "      --disabled-fill-color: #666;\n",
              "  }\n",
              "\n",
              "  .colab-df-quickchart {\n",
              "    background-color: var(--bg-color);\n",
              "    border: none;\n",
              "    border-radius: 50%;\n",
              "    cursor: pointer;\n",
              "    display: none;\n",
              "    fill: var(--fill-color);\n",
              "    height: 32px;\n",
              "    padding: 0;\n",
              "    width: 32px;\n",
              "  }\n",
              "\n",
              "  .colab-df-quickchart:hover {\n",
              "    background-color: var(--hover-bg-color);\n",
              "    box-shadow: 0 1px 2px rgba(60, 64, 67, 0.3), 0 1px 3px 1px rgba(60, 64, 67, 0.15);\n",
              "    fill: var(--button-hover-fill-color);\n",
              "  }\n",
              "\n",
              "  .colab-df-quickchart-complete:disabled,\n",
              "  .colab-df-quickchart-complete:disabled:hover {\n",
              "    background-color: var(--disabled-bg-color);\n",
              "    fill: var(--disabled-fill-color);\n",
              "    box-shadow: none;\n",
              "  }\n",
              "\n",
              "  .colab-df-spinner {\n",
              "    border: 2px solid var(--fill-color);\n",
              "    border-color: transparent;\n",
              "    border-bottom-color: var(--fill-color);\n",
              "    animation:\n",
              "      spin 1s steps(1) infinite;\n",
              "  }\n",
              "\n",
              "  @keyframes spin {\n",
              "    0% {\n",
              "      border-color: transparent;\n",
              "      border-bottom-color: var(--fill-color);\n",
              "      border-left-color: var(--fill-color);\n",
              "    }\n",
              "    20% {\n",
              "      border-color: transparent;\n",
              "      border-left-color: var(--fill-color);\n",
              "      border-top-color: var(--fill-color);\n",
              "    }\n",
              "    30% {\n",
              "      border-color: transparent;\n",
              "      border-left-color: var(--fill-color);\n",
              "      border-top-color: var(--fill-color);\n",
              "      border-right-color: var(--fill-color);\n",
              "    }\n",
              "    40% {\n",
              "      border-color: transparent;\n",
              "      border-right-color: var(--fill-color);\n",
              "      border-top-color: var(--fill-color);\n",
              "    }\n",
              "    60% {\n",
              "      border-color: transparent;\n",
              "      border-right-color: var(--fill-color);\n",
              "    }\n",
              "    80% {\n",
              "      border-color: transparent;\n",
              "      border-right-color: var(--fill-color);\n",
              "      border-bottom-color: var(--fill-color);\n",
              "    }\n",
              "    90% {\n",
              "      border-color: transparent;\n",
              "      border-bottom-color: var(--fill-color);\n",
              "    }\n",
              "  }\n",
              "</style>\n",
              "\n",
              "  <script>\n",
              "    async function quickchart(key) {\n",
              "      const quickchartButtonEl =\n",
              "        document.querySelector('#' + key + ' button');\n",
              "      quickchartButtonEl.disabled = true;  // To prevent multiple clicks.\n",
              "      quickchartButtonEl.classList.add('colab-df-spinner');\n",
              "      try {\n",
              "        const charts = await google.colab.kernel.invokeFunction(\n",
              "            'suggestCharts', [key], {});\n",
              "      } catch (error) {\n",
              "        console.error('Error during call to suggestCharts:', error);\n",
              "      }\n",
              "      quickchartButtonEl.classList.remove('colab-df-spinner');\n",
              "      quickchartButtonEl.classList.add('colab-df-quickchart-complete');\n",
              "    }\n",
              "    (() => {\n",
              "      let quickchartButtonEl =\n",
              "        document.querySelector('#df-aa50a9a6-fe86-4142-9dbc-d91f5d72d025 button');\n",
              "      quickchartButtonEl.style.display =\n",
              "        google.colab.kernel.accessAllowed ? 'block' : 'none';\n",
              "    })();\n",
              "  </script>\n",
              "</div>\n",
              "\n",
              "    </div>\n",
              "  </div>\n"
            ],
            "application/vnd.google.colaboratory.intrinsic+json": {
              "type": "dataframe",
              "variable_name": "data",
              "summary": "{\n  \"name\": \"data\",\n  \"rows\": 623,\n  \"fields\": [\n    {\n      \"column\": \"Name\",\n      \"properties\": {\n        \"dtype\": \"string\",\n        \"num_unique_values\": 623,\n        \"samples\": [\n          \"Adam Wharton\",\n          \"Giorgi Kochorashvili\",\n          \"Ernest Muci\"\n        ],\n        \"semantic_type\": \"\",\n        \"description\": \"\"\n      }\n    },\n    {\n      \"column\": \"Position\",\n      \"properties\": {\n        \"dtype\": \"category\",\n        \"num_unique_values\": 13,\n        \"samples\": [\n          \"Right Midfield\",\n          \"Second Striker\",\n          \"Goalkeeper\"\n        ],\n        \"semantic_type\": \"\",\n        \"description\": \"\"\n      }\n    },\n    {\n      \"column\": \"Age\",\n      \"properties\": {\n        \"dtype\": \"number\",\n        \"std\": 4,\n        \"min\": 16,\n        \"max\": 41,\n        \"num_unique_values\": 24,\n        \"samples\": [\n          29,\n          35,\n          32\n        ],\n        \"semantic_type\": \"\",\n        \"description\": \"\"\n      }\n    },\n    {\n      \"column\": \"Club\",\n      \"properties\": {\n        \"dtype\": \"category\",\n        \"num_unique_values\": 219,\n        \"samples\": [\n          \"Girona FC\",\n          \"SS Lazio\",\n          \"Wolverhampton Wanderers\"\n        ],\n        \"semantic_type\": \"\",\n        \"description\": \"\"\n      }\n    },\n    {\n      \"column\": \"Height\",\n      \"properties\": {\n        \"dtype\": \"number\",\n        \"std\": 6,\n        \"min\": 167,\n        \"max\": 202,\n        \"num_unique_values\": 34,\n        \"samples\": [\n          192,\n          170,\n          169\n        ],\n        \"semantic_type\": \"\",\n        \"description\": \"\"\n      }\n    },\n    {\n      \"column\": \"Foot\",\n      \"properties\": {\n        \"dtype\": \"category\",\n        \"num_unique_values\": 4,\n        \"samples\": [\n          \"left\",\n          \"-\",\n          \"right\"\n        ],\n        \"semantic_type\": \"\",\n        \"description\": \"\"\n      }\n    },\n    {\n      \"column\": \"Caps\",\n      \"properties\": {\n        \"dtype\": \"number\",\n        \"std\": 30,\n        \"min\": 0,\n        \"max\": 206,\n        \"num_unique_values\": 113,\n        \"samples\": [\n          64,\n          25,\n          26\n        ],\n        \"semantic_type\": \"\",\n        \"description\": \"\"\n      }\n    },\n    {\n      \"column\": \"Goals\",\n      \"properties\": {\n        \"dtype\": \"number\",\n        \"std\": 10,\n        \"min\": 0,\n        \"max\": 128,\n        \"num_unique_values\": 39,\n        \"samples\": [\n          44,\n          46,\n          18\n        ],\n        \"semantic_type\": \"\",\n        \"description\": \"\"\n      }\n    },\n    {\n      \"column\": \"MarketValue\",\n      \"properties\": {\n        \"dtype\": \"number\",\n        \"std\": 24261948,\n        \"min\": 50000,\n        \"max\": 180000000,\n        \"num_unique_values\": 83,\n        \"samples\": [\n          75000000,\n          28000000,\n          7500000\n        ],\n        \"semantic_type\": \"\",\n        \"description\": \"\"\n      }\n    },\n    {\n      \"column\": \"Country\",\n      \"properties\": {\n        \"dtype\": \"category\",\n        \"num_unique_values\": 24,\n        \"samples\": [\n          \"Slovenia\",\n          \"Belgium\",\n          \"Germany\"\n        ],\n        \"semantic_type\": \"\",\n        \"description\": \"\"\n      }\n    }\n  ]\n}"
            }
          },
          "metadata": {},
          "execution_count": 12
        }
      ]
    },
    {
      "cell_type": "code",
      "source": [
        "#filter by country\n",
        "data[data['Country'] == 'Spain']"
      ],
      "metadata": {
        "colab": {
          "base_uri": "https://localhost:8080/",
          "height": 855
        },
        "id": "ucMb51iZyOy8",
        "outputId": "ceca140d-bc3f-4a56-a325-3096033b4307"
      },
      "id": "ucMb51iZyOy8",
      "execution_count": null,
      "outputs": [
        {
          "output_type": "execute_result",
          "data": {
            "text/plain": [
              "                   Name            Position  Age                 Club  Height  \\\n",
              "104          David Raya          Goalkeeper   28           Arsenal FC     183   \n",
              "105          Unai Simón          Goalkeeper   26      Athletic Bilbao     190   \n",
              "106         Álex Remiro          Goalkeeper   29        Real Sociedad     191   \n",
              "107    Robin Le Normand         Centre-Back   27        Real Sociedad     187   \n",
              "108         Dani Vivian         Centre-Back   24      Athletic Bilbao     184   \n",
              "109     Aymeric Laporte         Centre-Back   30          Al-Nassr FC     191   \n",
              "110     Nacho Fernández         Centre-Back   34          Real Madrid     180   \n",
              "111  Alejandro Grimaldo           Left-Back   28  Bayer 04 Leverkusen     171   \n",
              "112      Marc Cucurella           Left-Back   25           Chelsea FC     173   \n",
              "113     Daniel Carvajal          Right-Back   32          Real Madrid     173   \n",
              "114         Jesús Navas          Right-Back   38           Sevilla FC     170   \n",
              "115               Rodri  Defensive Midfield   27      Manchester City     191   \n",
              "116    Martín Zubimendi  Defensive Midfield   25        Real Sociedad     181   \n",
              "117               Pedri    Central Midfield   21         FC Barcelona     174   \n",
              "118        Mikel Merino    Central Midfield   27        Real Sociedad     189   \n",
              "119         Fabián Ruiz    Central Midfield   28  Paris Saint-Germain     189   \n",
              "120        Fermín López    Central Midfield   21         FC Barcelona     174   \n",
              "121           Dani Olmo  Attacking Midfield   26           RB Leipzig     179   \n",
              "122          Álex Baena  Attacking Midfield   22        Villarreal CF     174   \n",
              "123       Nico Williams         Left Winger   21      Athletic Bilbao     181   \n",
              "124       Ferran Torres         Left Winger   24         FC Barcelona     184   \n",
              "125         Ayoze Pérez         Left Winger   30  Real Betis Balompié     178   \n",
              "126        Lamine Yamal        Right Winger   16         FC Barcelona     178   \n",
              "127     Mikel Oyarzabal      Centre-Forward   27        Real Sociedad     181   \n",
              "128       Álvaro Morata      Centre-Forward   31   Atlético de Madrid     189   \n",
              "129              Joselu      Centre-Forward   34          Real Madrid     191   \n",
              "\n",
              "      Foot  Caps  Goals  MarketValue Country  \n",
              "104  right     5      0     35000000   Spain  \n",
              "105  right    39      0     30000000   Spain  \n",
              "106  right     1      0     25000000   Spain  \n",
              "107  right    10      1     40000000   Spain  \n",
              "108  right     2      0     25000000   Spain  \n",
              "109   left    28      1     20000000   Spain  \n",
              "110  right    24      1      3000000   Spain  \n",
              "111   left     3      0     45000000   Spain  \n",
              "112   left     3      0     25000000   Spain  \n",
              "113  right    43      0     12000000   Spain  \n",
              "114  right    52      5      2500000   Spain  \n",
              "115  right    49      3    120000000   Spain  \n",
              "116  right     6      0     50000000   Spain  \n",
              "117  right    19      0     80000000   Spain  \n",
              "118   left    20      1     50000000   Spain  \n",
              "119   left    22      1     30000000   Spain  \n",
              "120  right     1      0     30000000   Spain  \n",
              "121  right    33      8     50000000   Spain  \n",
              "122  right     3      1     40000000   Spain  \n",
              "123  right    13      2     60000000   Spain  \n",
              "124  right    41     19     30000000   Spain  \n",
              "125  right     1      1      7000000   Spain  \n",
              "126   left     6      2     90000000   Spain  \n",
              "127   left    29     10     45000000   Spain  \n",
              "128  right    72     34     16000000   Spain  \n",
              "129  right    10      5      5000000   Spain  "
            ],
            "text/html": [
              "\n",
              "  <div id=\"df-cbbd554f-a0af-4282-bb5f-838c3a19322a\" class=\"colab-df-container\">\n",
              "    <div>\n",
              "<style scoped>\n",
              "    .dataframe tbody tr th:only-of-type {\n",
              "        vertical-align: middle;\n",
              "    }\n",
              "\n",
              "    .dataframe tbody tr th {\n",
              "        vertical-align: top;\n",
              "    }\n",
              "\n",
              "    .dataframe thead th {\n",
              "        text-align: right;\n",
              "    }\n",
              "</style>\n",
              "<table border=\"1\" class=\"dataframe\">\n",
              "  <thead>\n",
              "    <tr style=\"text-align: right;\">\n",
              "      <th></th>\n",
              "      <th>Name</th>\n",
              "      <th>Position</th>\n",
              "      <th>Age</th>\n",
              "      <th>Club</th>\n",
              "      <th>Height</th>\n",
              "      <th>Foot</th>\n",
              "      <th>Caps</th>\n",
              "      <th>Goals</th>\n",
              "      <th>MarketValue</th>\n",
              "      <th>Country</th>\n",
              "    </tr>\n",
              "  </thead>\n",
              "  <tbody>\n",
              "    <tr>\n",
              "      <th>104</th>\n",
              "      <td>David Raya</td>\n",
              "      <td>Goalkeeper</td>\n",
              "      <td>28</td>\n",
              "      <td>Arsenal FC</td>\n",
              "      <td>183</td>\n",
              "      <td>right</td>\n",
              "      <td>5</td>\n",
              "      <td>0</td>\n",
              "      <td>35000000</td>\n",
              "      <td>Spain</td>\n",
              "    </tr>\n",
              "    <tr>\n",
              "      <th>105</th>\n",
              "      <td>Unai Simón</td>\n",
              "      <td>Goalkeeper</td>\n",
              "      <td>26</td>\n",
              "      <td>Athletic Bilbao</td>\n",
              "      <td>190</td>\n",
              "      <td>right</td>\n",
              "      <td>39</td>\n",
              "      <td>0</td>\n",
              "      <td>30000000</td>\n",
              "      <td>Spain</td>\n",
              "    </tr>\n",
              "    <tr>\n",
              "      <th>106</th>\n",
              "      <td>Álex Remiro</td>\n",
              "      <td>Goalkeeper</td>\n",
              "      <td>29</td>\n",
              "      <td>Real Sociedad</td>\n",
              "      <td>191</td>\n",
              "      <td>right</td>\n",
              "      <td>1</td>\n",
              "      <td>0</td>\n",
              "      <td>25000000</td>\n",
              "      <td>Spain</td>\n",
              "    </tr>\n",
              "    <tr>\n",
              "      <th>107</th>\n",
              "      <td>Robin Le Normand</td>\n",
              "      <td>Centre-Back</td>\n",
              "      <td>27</td>\n",
              "      <td>Real Sociedad</td>\n",
              "      <td>187</td>\n",
              "      <td>right</td>\n",
              "      <td>10</td>\n",
              "      <td>1</td>\n",
              "      <td>40000000</td>\n",
              "      <td>Spain</td>\n",
              "    </tr>\n",
              "    <tr>\n",
              "      <th>108</th>\n",
              "      <td>Dani Vivian</td>\n",
              "      <td>Centre-Back</td>\n",
              "      <td>24</td>\n",
              "      <td>Athletic Bilbao</td>\n",
              "      <td>184</td>\n",
              "      <td>right</td>\n",
              "      <td>2</td>\n",
              "      <td>0</td>\n",
              "      <td>25000000</td>\n",
              "      <td>Spain</td>\n",
              "    </tr>\n",
              "    <tr>\n",
              "      <th>109</th>\n",
              "      <td>Aymeric Laporte</td>\n",
              "      <td>Centre-Back</td>\n",
              "      <td>30</td>\n",
              "      <td>Al-Nassr FC</td>\n",
              "      <td>191</td>\n",
              "      <td>left</td>\n",
              "      <td>28</td>\n",
              "      <td>1</td>\n",
              "      <td>20000000</td>\n",
              "      <td>Spain</td>\n",
              "    </tr>\n",
              "    <tr>\n",
              "      <th>110</th>\n",
              "      <td>Nacho Fernández</td>\n",
              "      <td>Centre-Back</td>\n",
              "      <td>34</td>\n",
              "      <td>Real Madrid</td>\n",
              "      <td>180</td>\n",
              "      <td>right</td>\n",
              "      <td>24</td>\n",
              "      <td>1</td>\n",
              "      <td>3000000</td>\n",
              "      <td>Spain</td>\n",
              "    </tr>\n",
              "    <tr>\n",
              "      <th>111</th>\n",
              "      <td>Alejandro Grimaldo</td>\n",
              "      <td>Left-Back</td>\n",
              "      <td>28</td>\n",
              "      <td>Bayer 04 Leverkusen</td>\n",
              "      <td>171</td>\n",
              "      <td>left</td>\n",
              "      <td>3</td>\n",
              "      <td>0</td>\n",
              "      <td>45000000</td>\n",
              "      <td>Spain</td>\n",
              "    </tr>\n",
              "    <tr>\n",
              "      <th>112</th>\n",
              "      <td>Marc Cucurella</td>\n",
              "      <td>Left-Back</td>\n",
              "      <td>25</td>\n",
              "      <td>Chelsea FC</td>\n",
              "      <td>173</td>\n",
              "      <td>left</td>\n",
              "      <td>3</td>\n",
              "      <td>0</td>\n",
              "      <td>25000000</td>\n",
              "      <td>Spain</td>\n",
              "    </tr>\n",
              "    <tr>\n",
              "      <th>113</th>\n",
              "      <td>Daniel Carvajal</td>\n",
              "      <td>Right-Back</td>\n",
              "      <td>32</td>\n",
              "      <td>Real Madrid</td>\n",
              "      <td>173</td>\n",
              "      <td>right</td>\n",
              "      <td>43</td>\n",
              "      <td>0</td>\n",
              "      <td>12000000</td>\n",
              "      <td>Spain</td>\n",
              "    </tr>\n",
              "    <tr>\n",
              "      <th>114</th>\n",
              "      <td>Jesús Navas</td>\n",
              "      <td>Right-Back</td>\n",
              "      <td>38</td>\n",
              "      <td>Sevilla FC</td>\n",
              "      <td>170</td>\n",
              "      <td>right</td>\n",
              "      <td>52</td>\n",
              "      <td>5</td>\n",
              "      <td>2500000</td>\n",
              "      <td>Spain</td>\n",
              "    </tr>\n",
              "    <tr>\n",
              "      <th>115</th>\n",
              "      <td>Rodri</td>\n",
              "      <td>Defensive Midfield</td>\n",
              "      <td>27</td>\n",
              "      <td>Manchester City</td>\n",
              "      <td>191</td>\n",
              "      <td>right</td>\n",
              "      <td>49</td>\n",
              "      <td>3</td>\n",
              "      <td>120000000</td>\n",
              "      <td>Spain</td>\n",
              "    </tr>\n",
              "    <tr>\n",
              "      <th>116</th>\n",
              "      <td>Martín Zubimendi</td>\n",
              "      <td>Defensive Midfield</td>\n",
              "      <td>25</td>\n",
              "      <td>Real Sociedad</td>\n",
              "      <td>181</td>\n",
              "      <td>right</td>\n",
              "      <td>6</td>\n",
              "      <td>0</td>\n",
              "      <td>50000000</td>\n",
              "      <td>Spain</td>\n",
              "    </tr>\n",
              "    <tr>\n",
              "      <th>117</th>\n",
              "      <td>Pedri</td>\n",
              "      <td>Central Midfield</td>\n",
              "      <td>21</td>\n",
              "      <td>FC Barcelona</td>\n",
              "      <td>174</td>\n",
              "      <td>right</td>\n",
              "      <td>19</td>\n",
              "      <td>0</td>\n",
              "      <td>80000000</td>\n",
              "      <td>Spain</td>\n",
              "    </tr>\n",
              "    <tr>\n",
              "      <th>118</th>\n",
              "      <td>Mikel Merino</td>\n",
              "      <td>Central Midfield</td>\n",
              "      <td>27</td>\n",
              "      <td>Real Sociedad</td>\n",
              "      <td>189</td>\n",
              "      <td>left</td>\n",
              "      <td>20</td>\n",
              "      <td>1</td>\n",
              "      <td>50000000</td>\n",
              "      <td>Spain</td>\n",
              "    </tr>\n",
              "    <tr>\n",
              "      <th>119</th>\n",
              "      <td>Fabián Ruiz</td>\n",
              "      <td>Central Midfield</td>\n",
              "      <td>28</td>\n",
              "      <td>Paris Saint-Germain</td>\n",
              "      <td>189</td>\n",
              "      <td>left</td>\n",
              "      <td>22</td>\n",
              "      <td>1</td>\n",
              "      <td>30000000</td>\n",
              "      <td>Spain</td>\n",
              "    </tr>\n",
              "    <tr>\n",
              "      <th>120</th>\n",
              "      <td>Fermín López</td>\n",
              "      <td>Central Midfield</td>\n",
              "      <td>21</td>\n",
              "      <td>FC Barcelona</td>\n",
              "      <td>174</td>\n",
              "      <td>right</td>\n",
              "      <td>1</td>\n",
              "      <td>0</td>\n",
              "      <td>30000000</td>\n",
              "      <td>Spain</td>\n",
              "    </tr>\n",
              "    <tr>\n",
              "      <th>121</th>\n",
              "      <td>Dani Olmo</td>\n",
              "      <td>Attacking Midfield</td>\n",
              "      <td>26</td>\n",
              "      <td>RB Leipzig</td>\n",
              "      <td>179</td>\n",
              "      <td>right</td>\n",
              "      <td>33</td>\n",
              "      <td>8</td>\n",
              "      <td>50000000</td>\n",
              "      <td>Spain</td>\n",
              "    </tr>\n",
              "    <tr>\n",
              "      <th>122</th>\n",
              "      <td>Álex Baena</td>\n",
              "      <td>Attacking Midfield</td>\n",
              "      <td>22</td>\n",
              "      <td>Villarreal CF</td>\n",
              "      <td>174</td>\n",
              "      <td>right</td>\n",
              "      <td>3</td>\n",
              "      <td>1</td>\n",
              "      <td>40000000</td>\n",
              "      <td>Spain</td>\n",
              "    </tr>\n",
              "    <tr>\n",
              "      <th>123</th>\n",
              "      <td>Nico Williams</td>\n",
              "      <td>Left Winger</td>\n",
              "      <td>21</td>\n",
              "      <td>Athletic Bilbao</td>\n",
              "      <td>181</td>\n",
              "      <td>right</td>\n",
              "      <td>13</td>\n",
              "      <td>2</td>\n",
              "      <td>60000000</td>\n",
              "      <td>Spain</td>\n",
              "    </tr>\n",
              "    <tr>\n",
              "      <th>124</th>\n",
              "      <td>Ferran Torres</td>\n",
              "      <td>Left Winger</td>\n",
              "      <td>24</td>\n",
              "      <td>FC Barcelona</td>\n",
              "      <td>184</td>\n",
              "      <td>right</td>\n",
              "      <td>41</td>\n",
              "      <td>19</td>\n",
              "      <td>30000000</td>\n",
              "      <td>Spain</td>\n",
              "    </tr>\n",
              "    <tr>\n",
              "      <th>125</th>\n",
              "      <td>Ayoze Pérez</td>\n",
              "      <td>Left Winger</td>\n",
              "      <td>30</td>\n",
              "      <td>Real Betis Balompié</td>\n",
              "      <td>178</td>\n",
              "      <td>right</td>\n",
              "      <td>1</td>\n",
              "      <td>1</td>\n",
              "      <td>7000000</td>\n",
              "      <td>Spain</td>\n",
              "    </tr>\n",
              "    <tr>\n",
              "      <th>126</th>\n",
              "      <td>Lamine Yamal</td>\n",
              "      <td>Right Winger</td>\n",
              "      <td>16</td>\n",
              "      <td>FC Barcelona</td>\n",
              "      <td>178</td>\n",
              "      <td>left</td>\n",
              "      <td>6</td>\n",
              "      <td>2</td>\n",
              "      <td>90000000</td>\n",
              "      <td>Spain</td>\n",
              "    </tr>\n",
              "    <tr>\n",
              "      <th>127</th>\n",
              "      <td>Mikel Oyarzabal</td>\n",
              "      <td>Centre-Forward</td>\n",
              "      <td>27</td>\n",
              "      <td>Real Sociedad</td>\n",
              "      <td>181</td>\n",
              "      <td>left</td>\n",
              "      <td>29</td>\n",
              "      <td>10</td>\n",
              "      <td>45000000</td>\n",
              "      <td>Spain</td>\n",
              "    </tr>\n",
              "    <tr>\n",
              "      <th>128</th>\n",
              "      <td>Álvaro Morata</td>\n",
              "      <td>Centre-Forward</td>\n",
              "      <td>31</td>\n",
              "      <td>Atlético de Madrid</td>\n",
              "      <td>189</td>\n",
              "      <td>right</td>\n",
              "      <td>72</td>\n",
              "      <td>34</td>\n",
              "      <td>16000000</td>\n",
              "      <td>Spain</td>\n",
              "    </tr>\n",
              "    <tr>\n",
              "      <th>129</th>\n",
              "      <td>Joselu</td>\n",
              "      <td>Centre-Forward</td>\n",
              "      <td>34</td>\n",
              "      <td>Real Madrid</td>\n",
              "      <td>191</td>\n",
              "      <td>right</td>\n",
              "      <td>10</td>\n",
              "      <td>5</td>\n",
              "      <td>5000000</td>\n",
              "      <td>Spain</td>\n",
              "    </tr>\n",
              "  </tbody>\n",
              "</table>\n",
              "</div>\n",
              "    <div class=\"colab-df-buttons\">\n",
              "\n",
              "  <div class=\"colab-df-container\">\n",
              "    <button class=\"colab-df-convert\" onclick=\"convertToInteractive('df-cbbd554f-a0af-4282-bb5f-838c3a19322a')\"\n",
              "            title=\"Convert this dataframe to an interactive table.\"\n",
              "            style=\"display:none;\">\n",
              "\n",
              "  <svg xmlns=\"http://www.w3.org/2000/svg\" height=\"24px\" viewBox=\"0 -960 960 960\">\n",
              "    <path d=\"M120-120v-720h720v720H120Zm60-500h600v-160H180v160Zm220 220h160v-160H400v160Zm0 220h160v-160H400v160ZM180-400h160v-160H180v160Zm440 0h160v-160H620v160ZM180-180h160v-160H180v160Zm440 0h160v-160H620v160Z\"/>\n",
              "  </svg>\n",
              "    </button>\n",
              "\n",
              "  <style>\n",
              "    .colab-df-container {\n",
              "      display:flex;\n",
              "      gap: 12px;\n",
              "    }\n",
              "\n",
              "    .colab-df-convert {\n",
              "      background-color: #E8F0FE;\n",
              "      border: none;\n",
              "      border-radius: 50%;\n",
              "      cursor: pointer;\n",
              "      display: none;\n",
              "      fill: #1967D2;\n",
              "      height: 32px;\n",
              "      padding: 0 0 0 0;\n",
              "      width: 32px;\n",
              "    }\n",
              "\n",
              "    .colab-df-convert:hover {\n",
              "      background-color: #E2EBFA;\n",
              "      box-shadow: 0px 1px 2px rgba(60, 64, 67, 0.3), 0px 1px 3px 1px rgba(60, 64, 67, 0.15);\n",
              "      fill: #174EA6;\n",
              "    }\n",
              "\n",
              "    .colab-df-buttons div {\n",
              "      margin-bottom: 4px;\n",
              "    }\n",
              "\n",
              "    [theme=dark] .colab-df-convert {\n",
              "      background-color: #3B4455;\n",
              "      fill: #D2E3FC;\n",
              "    }\n",
              "\n",
              "    [theme=dark] .colab-df-convert:hover {\n",
              "      background-color: #434B5C;\n",
              "      box-shadow: 0px 1px 3px 1px rgba(0, 0, 0, 0.15);\n",
              "      filter: drop-shadow(0px 1px 2px rgba(0, 0, 0, 0.3));\n",
              "      fill: #FFFFFF;\n",
              "    }\n",
              "  </style>\n",
              "\n",
              "    <script>\n",
              "      const buttonEl =\n",
              "        document.querySelector('#df-cbbd554f-a0af-4282-bb5f-838c3a19322a button.colab-df-convert');\n",
              "      buttonEl.style.display =\n",
              "        google.colab.kernel.accessAllowed ? 'block' : 'none';\n",
              "\n",
              "      async function convertToInteractive(key) {\n",
              "        const element = document.querySelector('#df-cbbd554f-a0af-4282-bb5f-838c3a19322a');\n",
              "        const dataTable =\n",
              "          await google.colab.kernel.invokeFunction('convertToInteractive',\n",
              "                                                    [key], {});\n",
              "        if (!dataTable) return;\n",
              "\n",
              "        const docLinkHtml = 'Like what you see? Visit the ' +\n",
              "          '<a target=\"_blank\" href=https://colab.research.google.com/notebooks/data_table.ipynb>data table notebook</a>'\n",
              "          + ' to learn more about interactive tables.';\n",
              "        element.innerHTML = '';\n",
              "        dataTable['output_type'] = 'display_data';\n",
              "        await google.colab.output.renderOutput(dataTable, element);\n",
              "        const docLink = document.createElement('div');\n",
              "        docLink.innerHTML = docLinkHtml;\n",
              "        element.appendChild(docLink);\n",
              "      }\n",
              "    </script>\n",
              "  </div>\n",
              "\n",
              "\n",
              "<div id=\"df-5932dfda-f302-4694-906d-53c0737a5e8a\">\n",
              "  <button class=\"colab-df-quickchart\" onclick=\"quickchart('df-5932dfda-f302-4694-906d-53c0737a5e8a')\"\n",
              "            title=\"Suggest charts\"\n",
              "            style=\"display:none;\">\n",
              "\n",
              "<svg xmlns=\"http://www.w3.org/2000/svg\" height=\"24px\"viewBox=\"0 0 24 24\"\n",
              "     width=\"24px\">\n",
              "    <g>\n",
              "        <path d=\"M19 3H5c-1.1 0-2 .9-2 2v14c0 1.1.9 2 2 2h14c1.1 0 2-.9 2-2V5c0-1.1-.9-2-2-2zM9 17H7v-7h2v7zm4 0h-2V7h2v10zm4 0h-2v-4h2v4z\"/>\n",
              "    </g>\n",
              "</svg>\n",
              "  </button>\n",
              "\n",
              "<style>\n",
              "  .colab-df-quickchart {\n",
              "      --bg-color: #E8F0FE;\n",
              "      --fill-color: #1967D2;\n",
              "      --hover-bg-color: #E2EBFA;\n",
              "      --hover-fill-color: #174EA6;\n",
              "      --disabled-fill-color: #AAA;\n",
              "      --disabled-bg-color: #DDD;\n",
              "  }\n",
              "\n",
              "  [theme=dark] .colab-df-quickchart {\n",
              "      --bg-color: #3B4455;\n",
              "      --fill-color: #D2E3FC;\n",
              "      --hover-bg-color: #434B5C;\n",
              "      --hover-fill-color: #FFFFFF;\n",
              "      --disabled-bg-color: #3B4455;\n",
              "      --disabled-fill-color: #666;\n",
              "  }\n",
              "\n",
              "  .colab-df-quickchart {\n",
              "    background-color: var(--bg-color);\n",
              "    border: none;\n",
              "    border-radius: 50%;\n",
              "    cursor: pointer;\n",
              "    display: none;\n",
              "    fill: var(--fill-color);\n",
              "    height: 32px;\n",
              "    padding: 0;\n",
              "    width: 32px;\n",
              "  }\n",
              "\n",
              "  .colab-df-quickchart:hover {\n",
              "    background-color: var(--hover-bg-color);\n",
              "    box-shadow: 0 1px 2px rgba(60, 64, 67, 0.3), 0 1px 3px 1px rgba(60, 64, 67, 0.15);\n",
              "    fill: var(--button-hover-fill-color);\n",
              "  }\n",
              "\n",
              "  .colab-df-quickchart-complete:disabled,\n",
              "  .colab-df-quickchart-complete:disabled:hover {\n",
              "    background-color: var(--disabled-bg-color);\n",
              "    fill: var(--disabled-fill-color);\n",
              "    box-shadow: none;\n",
              "  }\n",
              "\n",
              "  .colab-df-spinner {\n",
              "    border: 2px solid var(--fill-color);\n",
              "    border-color: transparent;\n",
              "    border-bottom-color: var(--fill-color);\n",
              "    animation:\n",
              "      spin 1s steps(1) infinite;\n",
              "  }\n",
              "\n",
              "  @keyframes spin {\n",
              "    0% {\n",
              "      border-color: transparent;\n",
              "      border-bottom-color: var(--fill-color);\n",
              "      border-left-color: var(--fill-color);\n",
              "    }\n",
              "    20% {\n",
              "      border-color: transparent;\n",
              "      border-left-color: var(--fill-color);\n",
              "      border-top-color: var(--fill-color);\n",
              "    }\n",
              "    30% {\n",
              "      border-color: transparent;\n",
              "      border-left-color: var(--fill-color);\n",
              "      border-top-color: var(--fill-color);\n",
              "      border-right-color: var(--fill-color);\n",
              "    }\n",
              "    40% {\n",
              "      border-color: transparent;\n",
              "      border-right-color: var(--fill-color);\n",
              "      border-top-color: var(--fill-color);\n",
              "    }\n",
              "    60% {\n",
              "      border-color: transparent;\n",
              "      border-right-color: var(--fill-color);\n",
              "    }\n",
              "    80% {\n",
              "      border-color: transparent;\n",
              "      border-right-color: var(--fill-color);\n",
              "      border-bottom-color: var(--fill-color);\n",
              "    }\n",
              "    90% {\n",
              "      border-color: transparent;\n",
              "      border-bottom-color: var(--fill-color);\n",
              "    }\n",
              "  }\n",
              "</style>\n",
              "\n",
              "  <script>\n",
              "    async function quickchart(key) {\n",
              "      const quickchartButtonEl =\n",
              "        document.querySelector('#' + key + ' button');\n",
              "      quickchartButtonEl.disabled = true;  // To prevent multiple clicks.\n",
              "      quickchartButtonEl.classList.add('colab-df-spinner');\n",
              "      try {\n",
              "        const charts = await google.colab.kernel.invokeFunction(\n",
              "            'suggestCharts', [key], {});\n",
              "      } catch (error) {\n",
              "        console.error('Error during call to suggestCharts:', error);\n",
              "      }\n",
              "      quickchartButtonEl.classList.remove('colab-df-spinner');\n",
              "      quickchartButtonEl.classList.add('colab-df-quickchart-complete');\n",
              "    }\n",
              "    (() => {\n",
              "      let quickchartButtonEl =\n",
              "        document.querySelector('#df-5932dfda-f302-4694-906d-53c0737a5e8a button');\n",
              "      quickchartButtonEl.style.display =\n",
              "        google.colab.kernel.accessAllowed ? 'block' : 'none';\n",
              "    })();\n",
              "  </script>\n",
              "</div>\n",
              "\n",
              "    </div>\n",
              "  </div>\n"
            ],
            "application/vnd.google.colaboratory.intrinsic+json": {
              "type": "dataframe",
              "summary": "{\n  \"name\": \"data[data['Country'] == 'Spain']\",\n  \"rows\": 26,\n  \"fields\": [\n    {\n      \"column\": \"Name\",\n      \"properties\": {\n        \"dtype\": \"string\",\n        \"num_unique_values\": 26,\n        \"samples\": [\n          \"Marc Cucurella\",\n          \"Ferm\\u00edn L\\u00f3pez\",\n          \"David Raya\"\n        ],\n        \"semantic_type\": \"\",\n        \"description\": \"\"\n      }\n    },\n    {\n      \"column\": \"Position\",\n      \"properties\": {\n        \"dtype\": \"category\",\n        \"num_unique_values\": 10,\n        \"samples\": [\n          \"Right Winger\",\n          \"Centre-Back\",\n          \"Central Midfield\"\n        ],\n        \"semantic_type\": \"\",\n        \"description\": \"\"\n      }\n    },\n    {\n      \"column\": \"Age\",\n      \"properties\": {\n        \"dtype\": \"number\",\n        \"std\": 4,\n        \"min\": 16,\n        \"max\": 38,\n        \"num_unique_values\": 14,\n        \"samples\": [\n          38,\n          22,\n          28\n        ],\n        \"semantic_type\": \"\",\n        \"description\": \"\"\n      }\n    },\n    {\n      \"column\": \"Club\",\n      \"properties\": {\n        \"dtype\": \"string\",\n        \"num_unique_values\": 15,\n        \"samples\": [\n          \"FC Barcelona\",\n          \"RB Leipzig\",\n          \"Arsenal FC\"\n        ],\n        \"semantic_type\": \"\",\n        \"description\": \"\"\n      }\n    },\n    {\n      \"column\": \"Height\",\n      \"properties\": {\n        \"dtype\": \"number\",\n        \"std\": 7,\n        \"min\": 170,\n        \"max\": 191,\n        \"num_unique_values\": 14,\n        \"samples\": [\n          181,\n          189,\n          183\n        ],\n        \"semantic_type\": \"\",\n        \"description\": \"\"\n      }\n    },\n    {\n      \"column\": \"Foot\",\n      \"properties\": {\n        \"dtype\": \"category\",\n        \"num_unique_values\": 2,\n        \"samples\": [\n          \"left\",\n          \"right\"\n        ],\n        \"semantic_type\": \"\",\n        \"description\": \"\"\n      }\n    },\n    {\n      \"column\": \"Caps\",\n      \"properties\": {\n        \"dtype\": \"number\",\n        \"std\": 19,\n        \"min\": 1,\n        \"max\": 72,\n        \"num_unique_values\": 20,\n        \"samples\": [\n          5,\n          41\n        ],\n        \"semantic_type\": \"\",\n        \"description\": \"\"\n      }\n    },\n    {\n      \"column\": \"Goals\",\n      \"properties\": {\n        \"dtype\": \"number\",\n        \"std\": 7,\n        \"min\": 0,\n        \"max\": 34,\n        \"num_unique_values\": 9,\n        \"samples\": [\n          10,\n          1\n        ],\n        \"semantic_type\": \"\",\n        \"description\": \"\"\n      }\n    },\n    {\n      \"column\": \"MarketValue\",\n      \"properties\": {\n        \"dtype\": \"number\",\n        \"std\": 27557778,\n        \"min\": 2500000,\n        \"max\": 120000000,\n        \"num_unique_values\": 17,\n        \"samples\": [\n          35000000,\n          30000000\n        ],\n        \"semantic_type\": \"\",\n        \"description\": \"\"\n      }\n    },\n    {\n      \"column\": \"Country\",\n      \"properties\": {\n        \"dtype\": \"category\",\n        \"num_unique_values\": 1,\n        \"samples\": [\n          \"Spain\"\n        ],\n        \"semantic_type\": \"\",\n        \"description\": \"\"\n      }\n    }\n  ]\n}"
            }
          },
          "metadata": {},
          "execution_count": 13
        }
      ]
    },
    {
      "cell_type": "code",
      "source": [
        "#filter by club\n",
        "data[data['Club'] == 'Real Madrid']"
      ],
      "metadata": {
        "colab": {
          "base_uri": "https://localhost:8080/",
          "height": 421
        },
        "id": "piC6ZZyFyS3n",
        "outputId": "40496d1f-22e9-47f9-9c33-a9e8f071ef91"
      },
      "id": "piC6ZZyFyS3n",
      "execution_count": null,
      "outputs": [
        {
          "output_type": "execute_result",
          "data": {
            "text/plain": [
              "                    Name            Position  Age         Club  Height   Foot  \\\n",
              "5        Antonio Rüdiger         Centre-Back   31  Real Madrid     190  right   \n",
              "15            Toni Kroos    Central Midfield   34  Real Madrid     183  right   \n",
              "110      Nacho Fernández         Centre-Back   34  Real Madrid     180  right   \n",
              "113      Daniel Carvajal          Right-Back   32  Real Madrid     173  right   \n",
              "129               Joselu      Centre-Forward   34  Real Madrid     191  right   \n",
              "145          Luka Modric    Central Midfield   38  Real Madrid     172  right   \n",
              "250      Jude Bellingham  Attacking Midfield   20  Real Madrid     186  right   \n",
              "400        Ferland Mendy           Left-Back   29  Real Madrid     180   left   \n",
              "402  Aurélien Tchouaméni  Defensive Midfield   24  Real Madrid     188  right   \n",
              "404    Eduardo Camavinga    Central Midfield   21  Real Madrid     182   left   \n",
              "494         Andriy Lunin          Goalkeeper   25  Real Madrid     191  right   \n",
              "535           Arda Güler  Attacking Midfield   19  Real Madrid     175   left   \n",
              "\n",
              "     Caps  Goals  MarketValue  Country  \n",
              "5      69      3     25000000  Germany  \n",
              "15    109     17     10000000  Germany  \n",
              "110    24      1      3000000    Spain  \n",
              "113    43      0     12000000    Spain  \n",
              "129    10      5      5000000    Spain  \n",
              "145   174     24      6000000  Croatia  \n",
              "250    29      3    180000000  England  \n",
              "400     9      0     22000000   France  \n",
              "402    31      3    100000000   France  \n",
              "404    16      1    100000000   France  \n",
              "494    11      0     25000000  Ukraine  \n",
              "535     6      1     30000000  Turkiye  "
            ],
            "text/html": [
              "\n",
              "  <div id=\"df-9fb53fa4-8d28-41c2-97fd-e02271389c3c\" class=\"colab-df-container\">\n",
              "    <div>\n",
              "<style scoped>\n",
              "    .dataframe tbody tr th:only-of-type {\n",
              "        vertical-align: middle;\n",
              "    }\n",
              "\n",
              "    .dataframe tbody tr th {\n",
              "        vertical-align: top;\n",
              "    }\n",
              "\n",
              "    .dataframe thead th {\n",
              "        text-align: right;\n",
              "    }\n",
              "</style>\n",
              "<table border=\"1\" class=\"dataframe\">\n",
              "  <thead>\n",
              "    <tr style=\"text-align: right;\">\n",
              "      <th></th>\n",
              "      <th>Name</th>\n",
              "      <th>Position</th>\n",
              "      <th>Age</th>\n",
              "      <th>Club</th>\n",
              "      <th>Height</th>\n",
              "      <th>Foot</th>\n",
              "      <th>Caps</th>\n",
              "      <th>Goals</th>\n",
              "      <th>MarketValue</th>\n",
              "      <th>Country</th>\n",
              "    </tr>\n",
              "  </thead>\n",
              "  <tbody>\n",
              "    <tr>\n",
              "      <th>5</th>\n",
              "      <td>Antonio Rüdiger</td>\n",
              "      <td>Centre-Back</td>\n",
              "      <td>31</td>\n",
              "      <td>Real Madrid</td>\n",
              "      <td>190</td>\n",
              "      <td>right</td>\n",
              "      <td>69</td>\n",
              "      <td>3</td>\n",
              "      <td>25000000</td>\n",
              "      <td>Germany</td>\n",
              "    </tr>\n",
              "    <tr>\n",
              "      <th>15</th>\n",
              "      <td>Toni Kroos</td>\n",
              "      <td>Central Midfield</td>\n",
              "      <td>34</td>\n",
              "      <td>Real Madrid</td>\n",
              "      <td>183</td>\n",
              "      <td>right</td>\n",
              "      <td>109</td>\n",
              "      <td>17</td>\n",
              "      <td>10000000</td>\n",
              "      <td>Germany</td>\n",
              "    </tr>\n",
              "    <tr>\n",
              "      <th>110</th>\n",
              "      <td>Nacho Fernández</td>\n",
              "      <td>Centre-Back</td>\n",
              "      <td>34</td>\n",
              "      <td>Real Madrid</td>\n",
              "      <td>180</td>\n",
              "      <td>right</td>\n",
              "      <td>24</td>\n",
              "      <td>1</td>\n",
              "      <td>3000000</td>\n",
              "      <td>Spain</td>\n",
              "    </tr>\n",
              "    <tr>\n",
              "      <th>113</th>\n",
              "      <td>Daniel Carvajal</td>\n",
              "      <td>Right-Back</td>\n",
              "      <td>32</td>\n",
              "      <td>Real Madrid</td>\n",
              "      <td>173</td>\n",
              "      <td>right</td>\n",
              "      <td>43</td>\n",
              "      <td>0</td>\n",
              "      <td>12000000</td>\n",
              "      <td>Spain</td>\n",
              "    </tr>\n",
              "    <tr>\n",
              "      <th>129</th>\n",
              "      <td>Joselu</td>\n",
              "      <td>Centre-Forward</td>\n",
              "      <td>34</td>\n",
              "      <td>Real Madrid</td>\n",
              "      <td>191</td>\n",
              "      <td>right</td>\n",
              "      <td>10</td>\n",
              "      <td>5</td>\n",
              "      <td>5000000</td>\n",
              "      <td>Spain</td>\n",
              "    </tr>\n",
              "    <tr>\n",
              "      <th>145</th>\n",
              "      <td>Luka Modric</td>\n",
              "      <td>Central Midfield</td>\n",
              "      <td>38</td>\n",
              "      <td>Real Madrid</td>\n",
              "      <td>172</td>\n",
              "      <td>right</td>\n",
              "      <td>174</td>\n",
              "      <td>24</td>\n",
              "      <td>6000000</td>\n",
              "      <td>Croatia</td>\n",
              "    </tr>\n",
              "    <tr>\n",
              "      <th>250</th>\n",
              "      <td>Jude Bellingham</td>\n",
              "      <td>Attacking Midfield</td>\n",
              "      <td>20</td>\n",
              "      <td>Real Madrid</td>\n",
              "      <td>186</td>\n",
              "      <td>right</td>\n",
              "      <td>29</td>\n",
              "      <td>3</td>\n",
              "      <td>180000000</td>\n",
              "      <td>England</td>\n",
              "    </tr>\n",
              "    <tr>\n",
              "      <th>400</th>\n",
              "      <td>Ferland Mendy</td>\n",
              "      <td>Left-Back</td>\n",
              "      <td>29</td>\n",
              "      <td>Real Madrid</td>\n",
              "      <td>180</td>\n",
              "      <td>left</td>\n",
              "      <td>9</td>\n",
              "      <td>0</td>\n",
              "      <td>22000000</td>\n",
              "      <td>France</td>\n",
              "    </tr>\n",
              "    <tr>\n",
              "      <th>402</th>\n",
              "      <td>Aurélien Tchouaméni</td>\n",
              "      <td>Defensive Midfield</td>\n",
              "      <td>24</td>\n",
              "      <td>Real Madrid</td>\n",
              "      <td>188</td>\n",
              "      <td>right</td>\n",
              "      <td>31</td>\n",
              "      <td>3</td>\n",
              "      <td>100000000</td>\n",
              "      <td>France</td>\n",
              "    </tr>\n",
              "    <tr>\n",
              "      <th>404</th>\n",
              "      <td>Eduardo Camavinga</td>\n",
              "      <td>Central Midfield</td>\n",
              "      <td>21</td>\n",
              "      <td>Real Madrid</td>\n",
              "      <td>182</td>\n",
              "      <td>left</td>\n",
              "      <td>16</td>\n",
              "      <td>1</td>\n",
              "      <td>100000000</td>\n",
              "      <td>France</td>\n",
              "    </tr>\n",
              "    <tr>\n",
              "      <th>494</th>\n",
              "      <td>Andriy Lunin</td>\n",
              "      <td>Goalkeeper</td>\n",
              "      <td>25</td>\n",
              "      <td>Real Madrid</td>\n",
              "      <td>191</td>\n",
              "      <td>right</td>\n",
              "      <td>11</td>\n",
              "      <td>0</td>\n",
              "      <td>25000000</td>\n",
              "      <td>Ukraine</td>\n",
              "    </tr>\n",
              "    <tr>\n",
              "      <th>535</th>\n",
              "      <td>Arda Güler</td>\n",
              "      <td>Attacking Midfield</td>\n",
              "      <td>19</td>\n",
              "      <td>Real Madrid</td>\n",
              "      <td>175</td>\n",
              "      <td>left</td>\n",
              "      <td>6</td>\n",
              "      <td>1</td>\n",
              "      <td>30000000</td>\n",
              "      <td>Turkiye</td>\n",
              "    </tr>\n",
              "  </tbody>\n",
              "</table>\n",
              "</div>\n",
              "    <div class=\"colab-df-buttons\">\n",
              "\n",
              "  <div class=\"colab-df-container\">\n",
              "    <button class=\"colab-df-convert\" onclick=\"convertToInteractive('df-9fb53fa4-8d28-41c2-97fd-e02271389c3c')\"\n",
              "            title=\"Convert this dataframe to an interactive table.\"\n",
              "            style=\"display:none;\">\n",
              "\n",
              "  <svg xmlns=\"http://www.w3.org/2000/svg\" height=\"24px\" viewBox=\"0 -960 960 960\">\n",
              "    <path d=\"M120-120v-720h720v720H120Zm60-500h600v-160H180v160Zm220 220h160v-160H400v160Zm0 220h160v-160H400v160ZM180-400h160v-160H180v160Zm440 0h160v-160H620v160ZM180-180h160v-160H180v160Zm440 0h160v-160H620v160Z\"/>\n",
              "  </svg>\n",
              "    </button>\n",
              "\n",
              "  <style>\n",
              "    .colab-df-container {\n",
              "      display:flex;\n",
              "      gap: 12px;\n",
              "    }\n",
              "\n",
              "    .colab-df-convert {\n",
              "      background-color: #E8F0FE;\n",
              "      border: none;\n",
              "      border-radius: 50%;\n",
              "      cursor: pointer;\n",
              "      display: none;\n",
              "      fill: #1967D2;\n",
              "      height: 32px;\n",
              "      padding: 0 0 0 0;\n",
              "      width: 32px;\n",
              "    }\n",
              "\n",
              "    .colab-df-convert:hover {\n",
              "      background-color: #E2EBFA;\n",
              "      box-shadow: 0px 1px 2px rgba(60, 64, 67, 0.3), 0px 1px 3px 1px rgba(60, 64, 67, 0.15);\n",
              "      fill: #174EA6;\n",
              "    }\n",
              "\n",
              "    .colab-df-buttons div {\n",
              "      margin-bottom: 4px;\n",
              "    }\n",
              "\n",
              "    [theme=dark] .colab-df-convert {\n",
              "      background-color: #3B4455;\n",
              "      fill: #D2E3FC;\n",
              "    }\n",
              "\n",
              "    [theme=dark] .colab-df-convert:hover {\n",
              "      background-color: #434B5C;\n",
              "      box-shadow: 0px 1px 3px 1px rgba(0, 0, 0, 0.15);\n",
              "      filter: drop-shadow(0px 1px 2px rgba(0, 0, 0, 0.3));\n",
              "      fill: #FFFFFF;\n",
              "    }\n",
              "  </style>\n",
              "\n",
              "    <script>\n",
              "      const buttonEl =\n",
              "        document.querySelector('#df-9fb53fa4-8d28-41c2-97fd-e02271389c3c button.colab-df-convert');\n",
              "      buttonEl.style.display =\n",
              "        google.colab.kernel.accessAllowed ? 'block' : 'none';\n",
              "\n",
              "      async function convertToInteractive(key) {\n",
              "        const element = document.querySelector('#df-9fb53fa4-8d28-41c2-97fd-e02271389c3c');\n",
              "        const dataTable =\n",
              "          await google.colab.kernel.invokeFunction('convertToInteractive',\n",
              "                                                    [key], {});\n",
              "        if (!dataTable) return;\n",
              "\n",
              "        const docLinkHtml = 'Like what you see? Visit the ' +\n",
              "          '<a target=\"_blank\" href=https://colab.research.google.com/notebooks/data_table.ipynb>data table notebook</a>'\n",
              "          + ' to learn more about interactive tables.';\n",
              "        element.innerHTML = '';\n",
              "        dataTable['output_type'] = 'display_data';\n",
              "        await google.colab.output.renderOutput(dataTable, element);\n",
              "        const docLink = document.createElement('div');\n",
              "        docLink.innerHTML = docLinkHtml;\n",
              "        element.appendChild(docLink);\n",
              "      }\n",
              "    </script>\n",
              "  </div>\n",
              "\n",
              "\n",
              "<div id=\"df-79722354-7321-4e79-a1b6-d0be4069df73\">\n",
              "  <button class=\"colab-df-quickchart\" onclick=\"quickchart('df-79722354-7321-4e79-a1b6-d0be4069df73')\"\n",
              "            title=\"Suggest charts\"\n",
              "            style=\"display:none;\">\n",
              "\n",
              "<svg xmlns=\"http://www.w3.org/2000/svg\" height=\"24px\"viewBox=\"0 0 24 24\"\n",
              "     width=\"24px\">\n",
              "    <g>\n",
              "        <path d=\"M19 3H5c-1.1 0-2 .9-2 2v14c0 1.1.9 2 2 2h14c1.1 0 2-.9 2-2V5c0-1.1-.9-2-2-2zM9 17H7v-7h2v7zm4 0h-2V7h2v10zm4 0h-2v-4h2v4z\"/>\n",
              "    </g>\n",
              "</svg>\n",
              "  </button>\n",
              "\n",
              "<style>\n",
              "  .colab-df-quickchart {\n",
              "      --bg-color: #E8F0FE;\n",
              "      --fill-color: #1967D2;\n",
              "      --hover-bg-color: #E2EBFA;\n",
              "      --hover-fill-color: #174EA6;\n",
              "      --disabled-fill-color: #AAA;\n",
              "      --disabled-bg-color: #DDD;\n",
              "  }\n",
              "\n",
              "  [theme=dark] .colab-df-quickchart {\n",
              "      --bg-color: #3B4455;\n",
              "      --fill-color: #D2E3FC;\n",
              "      --hover-bg-color: #434B5C;\n",
              "      --hover-fill-color: #FFFFFF;\n",
              "      --disabled-bg-color: #3B4455;\n",
              "      --disabled-fill-color: #666;\n",
              "  }\n",
              "\n",
              "  .colab-df-quickchart {\n",
              "    background-color: var(--bg-color);\n",
              "    border: none;\n",
              "    border-radius: 50%;\n",
              "    cursor: pointer;\n",
              "    display: none;\n",
              "    fill: var(--fill-color);\n",
              "    height: 32px;\n",
              "    padding: 0;\n",
              "    width: 32px;\n",
              "  }\n",
              "\n",
              "  .colab-df-quickchart:hover {\n",
              "    background-color: var(--hover-bg-color);\n",
              "    box-shadow: 0 1px 2px rgba(60, 64, 67, 0.3), 0 1px 3px 1px rgba(60, 64, 67, 0.15);\n",
              "    fill: var(--button-hover-fill-color);\n",
              "  }\n",
              "\n",
              "  .colab-df-quickchart-complete:disabled,\n",
              "  .colab-df-quickchart-complete:disabled:hover {\n",
              "    background-color: var(--disabled-bg-color);\n",
              "    fill: var(--disabled-fill-color);\n",
              "    box-shadow: none;\n",
              "  }\n",
              "\n",
              "  .colab-df-spinner {\n",
              "    border: 2px solid var(--fill-color);\n",
              "    border-color: transparent;\n",
              "    border-bottom-color: var(--fill-color);\n",
              "    animation:\n",
              "      spin 1s steps(1) infinite;\n",
              "  }\n",
              "\n",
              "  @keyframes spin {\n",
              "    0% {\n",
              "      border-color: transparent;\n",
              "      border-bottom-color: var(--fill-color);\n",
              "      border-left-color: var(--fill-color);\n",
              "    }\n",
              "    20% {\n",
              "      border-color: transparent;\n",
              "      border-left-color: var(--fill-color);\n",
              "      border-top-color: var(--fill-color);\n",
              "    }\n",
              "    30% {\n",
              "      border-color: transparent;\n",
              "      border-left-color: var(--fill-color);\n",
              "      border-top-color: var(--fill-color);\n",
              "      border-right-color: var(--fill-color);\n",
              "    }\n",
              "    40% {\n",
              "      border-color: transparent;\n",
              "      border-right-color: var(--fill-color);\n",
              "      border-top-color: var(--fill-color);\n",
              "    }\n",
              "    60% {\n",
              "      border-color: transparent;\n",
              "      border-right-color: var(--fill-color);\n",
              "    }\n",
              "    80% {\n",
              "      border-color: transparent;\n",
              "      border-right-color: var(--fill-color);\n",
              "      border-bottom-color: var(--fill-color);\n",
              "    }\n",
              "    90% {\n",
              "      border-color: transparent;\n",
              "      border-bottom-color: var(--fill-color);\n",
              "    }\n",
              "  }\n",
              "</style>\n",
              "\n",
              "  <script>\n",
              "    async function quickchart(key) {\n",
              "      const quickchartButtonEl =\n",
              "        document.querySelector('#' + key + ' button');\n",
              "      quickchartButtonEl.disabled = true;  // To prevent multiple clicks.\n",
              "      quickchartButtonEl.classList.add('colab-df-spinner');\n",
              "      try {\n",
              "        const charts = await google.colab.kernel.invokeFunction(\n",
              "            'suggestCharts', [key], {});\n",
              "      } catch (error) {\n",
              "        console.error('Error during call to suggestCharts:', error);\n",
              "      }\n",
              "      quickchartButtonEl.classList.remove('colab-df-spinner');\n",
              "      quickchartButtonEl.classList.add('colab-df-quickchart-complete');\n",
              "    }\n",
              "    (() => {\n",
              "      let quickchartButtonEl =\n",
              "        document.querySelector('#df-79722354-7321-4e79-a1b6-d0be4069df73 button');\n",
              "      quickchartButtonEl.style.display =\n",
              "        google.colab.kernel.accessAllowed ? 'block' : 'none';\n",
              "    })();\n",
              "  </script>\n",
              "</div>\n",
              "\n",
              "    </div>\n",
              "  </div>\n"
            ],
            "application/vnd.google.colaboratory.intrinsic+json": {
              "type": "dataframe",
              "summary": "{\n  \"name\": \"data[data['Club'] == 'Real Madrid']\",\n  \"rows\": 12,\n  \"fields\": [\n    {\n      \"column\": \"Name\",\n      \"properties\": {\n        \"dtype\": \"string\",\n        \"num_unique_values\": 12,\n        \"samples\": [\n          \"Andriy Lunin\",\n          \"Eduardo Camavinga\",\n          \"Antonio R\\u00fcdiger\"\n        ],\n        \"semantic_type\": \"\",\n        \"description\": \"\"\n      }\n    },\n    {\n      \"column\": \"Position\",\n      \"properties\": {\n        \"dtype\": \"string\",\n        \"num_unique_values\": 8,\n        \"samples\": [\n          \"Central Midfield\",\n          \"Left-Back\",\n          \"Centre-Back\"\n        ],\n        \"semantic_type\": \"\",\n        \"description\": \"\"\n      }\n    },\n    {\n      \"column\": \"Age\",\n      \"properties\": {\n        \"dtype\": \"number\",\n        \"std\": 6,\n        \"min\": 19,\n        \"max\": 38,\n        \"num_unique_values\": 10,\n        \"samples\": [\n          25,\n          34,\n          29\n        ],\n        \"semantic_type\": \"\",\n        \"description\": \"\"\n      }\n    },\n    {\n      \"column\": \"Club\",\n      \"properties\": {\n        \"dtype\": \"category\",\n        \"num_unique_values\": 1,\n        \"samples\": [\n          \"Real Madrid\"\n        ],\n        \"semantic_type\": \"\",\n        \"description\": \"\"\n      }\n    },\n    {\n      \"column\": \"Height\",\n      \"properties\": {\n        \"dtype\": \"number\",\n        \"std\": 6,\n        \"min\": 172,\n        \"max\": 191,\n        \"num_unique_values\": 10,\n        \"samples\": [\n          182\n        ],\n        \"semantic_type\": \"\",\n        \"description\": \"\"\n      }\n    },\n    {\n      \"column\": \"Foot\",\n      \"properties\": {\n        \"dtype\": \"category\",\n        \"num_unique_values\": 2,\n        \"samples\": [\n          \"left\"\n        ],\n        \"semantic_type\": \"\",\n        \"description\": \"\"\n      }\n    },\n    {\n      \"column\": \"Caps\",\n      \"properties\": {\n        \"dtype\": \"number\",\n        \"std\": 50,\n        \"min\": 6,\n        \"max\": 174,\n        \"num_unique_values\": 12,\n        \"samples\": [\n          11\n        ],\n        \"semantic_type\": \"\",\n        \"description\": \"\"\n      }\n    },\n    {\n      \"column\": \"Goals\",\n      \"properties\": {\n        \"dtype\": \"number\",\n        \"std\": 7,\n        \"min\": 0,\n        \"max\": 24,\n        \"num_unique_values\": 6,\n        \"samples\": [\n          3\n        ],\n        \"semantic_type\": \"\",\n        \"description\": \"\"\n      }\n    },\n    {\n      \"column\": \"MarketValue\",\n      \"properties\": {\n        \"dtype\": \"number\",\n        \"std\": 54762019,\n        \"min\": 3000000,\n        \"max\": 180000000,\n        \"num_unique_values\": 10,\n        \"samples\": [\n          100000000\n        ],\n        \"semantic_type\": \"\",\n        \"description\": \"\"\n      }\n    },\n    {\n      \"column\": \"Country\",\n      \"properties\": {\n        \"dtype\": \"string\",\n        \"num_unique_values\": 7,\n        \"samples\": [\n          \"Germany\"\n        ],\n        \"semantic_type\": \"\",\n        \"description\": \"\"\n      }\n    }\n  ]\n}"
            }
          },
          "metadata": {},
          "execution_count": 14
        }
      ]
    },
    {
      "cell_type": "markdown",
      "source": [
        "#Load Documents to Prepare for Indexing Using LlamaIndex\n",
        "\n",
        "Load documents (our csv file) to build the VectorStoreIndex. The folder may consist of several files. SimpleDirectoryReader will load all files in the folder. The format of the data may vary."
      ],
      "metadata": {
        "id": "TgDINZ7nydki"
      },
      "id": "TgDINZ7nydki"
    },
    {
      "cell_type": "code",
      "source": [
        "# load data\n",
        "documents = SimpleDirectoryReader(\"./data_euro\").load_data()"
      ],
      "metadata": {
        "id": "nkbDc97JyisV"
      },
      "id": "nkbDc97JyisV",
      "execution_count": null,
      "outputs": []
    },
    {
      "cell_type": "code",
      "source": [
        "print(documents)"
      ],
      "metadata": {
        "colab": {
          "base_uri": "https://localhost:8080/"
        },
        "id": "2TySwVxayk_O",
        "outputId": "18b29b9a-7498-45c7-dbd2-f96c95e36cd3"
      },
      "id": "2TySwVxayk_O",
      "execution_count": null,
      "outputs": [
        {
          "output_type": "stream",
          "name": "stdout",
          "text": [
            "[Document(id_='78f44214-c2b3-4647-8a21-e37f6e8a72c3', embedding=None, metadata={'file_path': '/content/data_euro/euro2024_players.csv', 'file_name': 'euro2024_players.csv', 'file_type': 'text/csv', 'file_size': 49009, 'creation_date': '2025-02-14', 'last_modified_date': '2024-06-08'}, excluded_embed_metadata_keys=['file_name', 'file_type', 'file_size', 'creation_date', 'last_modified_date', 'last_accessed_date'], excluded_llm_metadata_keys=['file_name', 'file_type', 'file_size', 'creation_date', 'last_modified_date', 'last_accessed_date'], relationships={}, metadata_template='{key}: {value}', metadata_separator='\\n', text_resource=MediaResource(embeddings=None, data=None, text=\"Marc-André ter Stegen, Goalkeeper, 32, FC Barcelona, 187, right, 40, 0, 28000000, Germany\\nManuel Neuer, Goalkeeper, 38, Bayern Munich, 193, right, 119, 0, 4000000, Germany\\nOliver Baumann, Goalkeeper, 34, TSG 1899 Hoffenheim, 187, right, 0, 0, 3000000, Germany\\nNico Schlotterbeck, Centre-Back, 24, Borussia Dortmund, 191, left, 12, 0, 40000000, Germany\\nJonathan Tah, Centre-Back, 28, Bayer 04 Leverkusen, 195, right, 25, 0, 30000000, Germany\\nAntonio Rüdiger, Centre-Back, 31, Real Madrid, 190, right, 69, 3, 25000000, Germany\\nWaldemar Anton, Centre-Back, 27, VfB Stuttgart, 189, right, 2, 0, 20000000, Germany\\nRobin Koch, Centre-Back, 27, Eintracht Frankfurt, 191, right, 9, 0, 18000000, Germany\\nDavid Raum, Left-Back, 26, RB Leipzig, 180, left, 21, 0, 20000000, Germany\\nMaximilian Mittelstädt, Left-Back, 27, VfB Stuttgart, 180, left, 4, 1, 17000000, Germany\\nJoshua Kimmich, Right-Back, 29, Bayern Munich, 177, right, 86, 6, 50000000, Germany\\nBenjamin Henrichs, Right-Back, 27, RB Leipzig, 185, right, 15, 0, 20000000, Germany\\nAleksandar Pavlovic, Defensive Midfield, 20, Bayern Munich, 188, both, 1, 0, 30000000, Germany\\nRobert Andrich, Defensive Midfield, 29, Bayer 04 Leverkusen, 187, right, 5, 0, 17000000, Germany\\nİlkay Gündoğan, Central Midfield, 33, FC Barcelona, 180, right, 77, 18, 15000000, Germany\\nToni Kroos, Central Midfield, 34, Real Madrid, 183, right, 109, 17, 10000000, Germany\\nPascal Groß, Central Midfield, 32, Brighton & Hove Albion, 181, right, 7, 1, 8000000, Germany\\nFlorian Wirtz, Attacking Midfield, 21, Bayer 04 Leverkusen, 177, right, 18, 1, 130000000, Germany\\nJamal Musiala, Attacking Midfield, 21, Bayern Munich, 184, right, 29, 2, 120000000, Germany\\nKai Havertz, Attacking Midfield, 24, Arsenal FC, 193, left, 46, 16, 70000000, Germany\\nChris Führich, Left Winger, 26, VfB Stuttgart, 181, right, 4, 0, 28000000, Germany\\nLeroy Sané, Right Winger, 28, Bayern Munich, 183, left, 60, 13, 70000000, Germany\\nThomas Müller, Second Striker, 34, Bayern Munich, 185, right, 129, 45, 8000000, Germany\\nMaximilian Beier, Centre-Forward, 21, TSG 1899 Hoffenheim, 185, right, 1, 0, 30000000, Germany\\nDeniz Undav, Centre-Forward, 27, VfB Stuttgart, 179, right, 2, 0, 25000000, Germany\\nNiclas Füllkrug, Centre-Forward, 31, Borussia Dortmund, 189, right, 16, 11, 15000000, Germany\\nAngus Gunn, Goalkeeper, 28, Norwich City, 196, right, 7, 0, 2500000, Scotland\\nLiam Kelly, Goalkeeper, 28, Motherwell FC, 184, right, 1, 0, 800000, Scotland\\nZander Clark, Goalkeeper, 31, Heart of Midlothian FC, 191, right, 3, 0, 700000, Scotland\\nScott McKenna, Centre-Back, 27, FC Copenhagen, 189, left, 33, 1, 10000000, Scotland\\nJack Hendry, Centre-Back, 29, Al-Ettifaq FC, 192, right, 24, 3, 3000000, Scotland\\nRyan Porteous, Centre-Back, 25, Watford FC, 188, right, 6, 0, 3000000, Scotland\\nLiam Cooper, Centre-Back, 32, Leeds United, 186, left, 17, 0, 1000000, Scotland\\nGrant Hanley, Centre-Back, 32, Norwich City, 188, right, 48, 2, 900000, Scotland\\nAndrew Robertson, Left-Back, 30, Liverpool FC, 178, left, 69, 3, 30000000, Scotland\\nKieran Tierney, Left-Back, 27, Real Sociedad, 180, left, 43, 1, 12000000, Scotland\\nGreg Taylor, Left-Back, 26, Celtic FC, 171, left, 11, 0, 7500000, Scotland\\nAnthony Ralston, Right-Back, 25, Celtic FC, 178, right, 6, 1, 1800000, Scotland\\nRoss McCrorie, Right-Back, 26, Bristol City, 187, right, 0, 0, 1800000, Scotland\\nScott McTominay, Defensive Midfield, 27, Manchester United, 191, right, 41, 6, 32000000, Scotland\\nBilly Gilmour, Defensive Midfield, 22, Brighton & Hove Albion, 170, right, 19, 1, 18000000, Scotland\\nJohn McGinn, Central Midfield, 29, Aston Villa, 178, left, 57, 17, 30000000, Scotland\\nCallum McGregor, Central Midfield, 30, Celtic FC, 178, left, 53, 2, 8500000, Scotland\\nStuart Armstrong, Central Midfield, 32, Southampton FC, 183, right, 44, 2, 2000000, Scotland\\nRyan Jack, Central Midfield, 32, Rangers FC, 182, right, 15, 0, 1000000, Scotland\\nKenny McLean, Central Midfield, 32, Norwich City, 180, left, 32, 2, 900000, Scotland\\nRyan Christie, Attacking Midfield, 29, AFC Bournemouth, 178, left, 40, 5, 12000000, Scotland\\nLewis Morgan, Left Winger, 27, New York Red Bulls, 178, both, 2, 0, 4000000, Scotland\\nJames Forrest, Right Winger, 32, Celtic FC, 175, right, 38, 5, 1000000, Scotland\\nChé Adams, Centre-Forward, 27, Southampton FC, 179, right, 25, 6, 15000000, Scotland\\nLawrence Shankland, Centre-Forward, 28, Heart of Midlothian FC, 185, right, 9, 2, 4000000, Scotland\\nTommy Conway, Centre-Forward, 21, Bristol City, 185, right, 0, 0, 4000000, Scotland\\nPéter Gulácsi, Goalkeeper, 34, RB Leipzig, 190, right, 53, 0, 3000000, Hungary\\nDénes Dibusz, Goalkeeper, 33, Ferencvárosi TC, 188, right, 36, 0, 2500000, Hungary\\nPéter Szappanos, Goalkeeper, 33, Paksi FC, 194, right, 1, 0, 500000, Hungary\\nWilli Orbán, Centre-Back, 31, RB Leipzig, 186, right, 43, 6, 10000000, Hungary\\nAttila Szalai, Centre-Back, 26, SC Freiburg, 192, left, 43, 1, 4000000, Hungary\\nMárton Dárdai, Centre-Back, 22, Hertha BSC, 188, left, 3, 0, 2500000, Hungary\\nBotond Balogh, Centre-Back, 22, Parma Calcio 1913, 189, right, 4, 0, 1800000, Hungary\\nÁdám Lang, Centre-Back, 31, Omonia Nicosia, 186, right, 68, 2, 450000, Hungary\\nMilos Kerkez, Left-Back, 20, AFC Bournemouth, 180, left, 15, 0, 20000000, Hungary\\nZsolt Nagy, Left-Back, 31, Puskás Akadémia FC, 188, both, 19, 3, 1000000, Hungary\\nBendegúz Bolla, Right-Back, 24, Servette FC, 179, right, 16, 0, 2000000, Hungary\\nEndre Botka, Right-Back, 29, Ferencvárosi TC, 178, right, 26, 1, 1000000, Hungary\\nLoïc Nego, Right-Back, 33, Le Havre AC, 181, right, 36, 2, 900000, Hungary\\nAttila Fiola, Right-Back, 34, Fehérvár FC, 183, right, 56, 2, 400000, Hungary\\nÁdám Nagy, Defensive Midfield, 28, Spezia Calcio, 178, right, 80, 2, 900000, Hungary\\nDominik Szoboszlai, Central Midfield, 23, Liverpool FC, 187, right, 41, 12, 75000000, Hungary\\nAndrás Schäfer, Central Midfield, 25, 1.FC Union Berlin, 178, right, 25, 3, 5000000, Hungary\\nCallum Styles, Central Midfield, 24, Barnsley FC, 167, left, 21, 0, 2500000, Hungary\\nMihály Kata, Central Midfield, 22, MTK Budapest, 176, right, 3, 0, 1000000, Hungary\\nDániel Gazdag, Attacking Midfield, 28, Philadelphia Union, 178, right, 24, 4, 8000000, Hungary\\nLászló Kleinheisler, Attacking Midfield, 30, HNK Hajduk Split, 173, right, 50, 3, 1500000, Hungary\\nKrisztofer Horváth, Attacking Midfield, 22, Kecskeméti TE, 185, right, 2, 0, 1200000, Hungary\\nRoland Sallai, Right Winger, 27, SC Freiburg, 183, both, 48, 12, 15000000, Hungary\\nKevin Csoboth, Right Winger, 23, Újpest FC, 174, right, 7, 0, 1000000, Hungary\\nBarnabás Varga, Centre-Forward, 29, Ferencvárosi TC, 181, right, 10, 4, 2500000, Hungary\\nMartin Ádám, Centre-Forward, 29, Ulsan HD FC, 191, left, 20, 3, 800000, Hungary\\nGregor Kobel, Goalkeeper, 26, Borussia Dortmund, 196, right, 5, 0, 40000000, Switzerland\\nYann Sommer, Goalkeeper, 35, Inter Milan, 183, right, 88, 0, 5000000, Switzerland\\nYvon Mvogo, Goalkeeper, 30, FC Lorient, 190, right, 9, 0, 3000000, Switzerland\\nManuel Akanji, Centre-Back, 28, Manchester City, 188, right, 59, 3, 45000000, Switzerland\\nNico Elvedi, Centre-Back, 27, Borussia Mönchengladbach, 189, right, 52, 2, 10000000, Switzerland\\nFabian Schär, Centre-Back, 32, Newcastle United, 186, right, 81, 8, 10000000, Switzerland\\nLeonidas Stergiou, Centre-Back, 22, VfB Stuttgart, 181, right, 2, 0, 5000000, Switzerland\\nCédric Zesiger, Centre-Back, 25, VfL Wolfsburg, 194, left, 3, 0, 5000000, Switzerland\\nRicardo Rodríguez, Centre-Back, 31, Torino FC, 182, left, 114, 9, 3500000, Switzerland\\nSilvan Widmer, Right-Back, 31, 1.FSV Mainz 05, 183, right, 42, 3, 3000000, Switzerland\\nDenis Zakaria, Defensive Midfield, 27, AS Monaco, 190, right, 54, 3, 25000000, Switzerland\\nGranit Xhaka, Defensive Midfield, 31, Bayer 04 Leverkusen, 186, left, 124, 14, 20000000, Switzerland\\nArdon Jashari, Defensive Midfield, 21, FC Luzern, 181, left, 2, 0, 6000000, Switzerland\\nMichel Aebischer, Central Midfield, 27, Bologna FC 1909, 183, right, 19, 0, 9000000, Switzerland\\nRemo Freuler, Central Midfield, 32, Bologna FC 1909, 180, right, 66, 8, 6500000, Switzerland\\nVincent Sierro, Central Midfield, 28, FC Toulouse, 185, right, 2, 0, 4000000, Switzerland\\nFabian Rieder, Attacking Midfield, 22, Stade Rennais FC, 179, left, 5, 0, 8000000, Switzerland\\nXherdan Shaqiri, Attacking Midfield, 32, Chicago Fire FC, 169, left, 122, 31, 2500000, Switzerland\\nNoah Okafor, Left Winger, 24, AC Milan, 185, right, 21, 2, 20000000, Switzerland\\nSteven Zuber, Left Winger, 32, AEK Athens, 182, right, 53, 11, 2000000, Switzerland\\nDan Ndoye, Right Winger, 23, Bologna FC 1909, 184, right, 10, 0, 14000000, Switzerland\\nRubén Vargas, Right Winger, 25, FC Augsburg, 179, right, 42, 7, 7500000, Switzerland\\nRenato Steffen, Right Winger, 32, FC Lugano, 170, left, 39, 4, 1000000, Switzerland\\nBreel Embolo, Centre-Forward, 27, AS Monaco, 187, right, 63, 13, 12000000, Switzerland\\nZeki Amdouni, Centre-Forward, 23, Burnley FC, 185, both, 14, 7, 12000000, Switzerland\\nKwadwo Duah, Centre-Forward, 27, Ludogorets Razgrad, 185, right, 1, 0, 3000000, Switzerland\\nDavid Raya, Goalkeeper, 28, Arsenal FC, 183, right, 5, 0, 35000000, Spain\\nUnai Simón, Goalkeeper, 26, Athletic Bilbao, 190, right, 39, 0, 30000000, Spain\\nÁlex Remiro, Goalkeeper, 29, Real Sociedad, 191, right, 1, 0, 25000000, Spain\\nRobin Le Normand, Centre-Back, 27, Real Sociedad, 187, right, 10, 1, 40000000, Spain\\nDani Vivian, Centre-Back, 24, Athletic Bilbao, 184, right, 2, 0, 25000000, Spain\\nAymeric Laporte, Centre-Back, 30, Al-Nassr FC, 191, left, 28, 1, 20000000, Spain\\nNacho Fernández, Centre-Back, 34, Real Madrid, 180, right, 24, 1, 3000000, Spain\\nAlejandro Grimaldo, Left-Back, 28, Bayer 04 Leverkusen, 171, left, 3, 0, 45000000, Spain\\nMarc Cucurella, Left-Back, 25, Chelsea FC, 173, left, 3, 0, 25000000, Spain\\nDaniel Carvajal, Right-Back, 32, Real Madrid, 173, right, 43, 0, 12000000, Spain\\nJesús Navas, Right-Back, 38, Sevilla FC, 170, right, 52, 5, 2500000, Spain\\nRodri, Defensive Midfield, 27, Manchester City, 191, right, 49, 3, 120000000, Spain\\nMartín Zubimendi, Defensive Midfield, 25, Real Sociedad, 181, right, 6, 0, 50000000, Spain\\nPedri, Central Midfield, 21, FC Barcelona, 174, right, 19, 0, 80000000, Spain\\nMikel Merino, Central Midfield, 27, Real Sociedad, 189, left, 20, 1, 50000000, Spain\\nFabián Ruiz, Central Midfield, 28, Paris Saint-Germain, 189, left, 22, 1, 30000000, Spain\\nFermín López, Central Midfield, 21, FC Barcelona, 174, right, 1, 0, 30000000, Spain\\nDani Olmo, Attacking Midfield, 26, RB Leipzig, 179, right, 33, 8, 50000000, Spain\\nÁlex Baena, Attacking Midfield, 22, Villarreal CF, 174, right, 3, 1, 40000000, Spain\\nNico Williams, Left Winger, 21, Athletic Bilbao, 181, right, 13, 2, 60000000, Spain\\nFerran Torres, Left Winger, 24, FC Barcelona, 184, right, 41, 19, 30000000, Spain\\nAyoze Pérez, Left Winger, 30, Real Betis Balompié, 178, right, 1, 1, 7000000, Spain\\nLamine Yamal, Right Winger, 16, FC Barcelona, 178, left, 6, 2, 90000000, Spain\\nMikel Oyarzabal, Centre-Forward, 27, Real Sociedad, 181, left, 29, 10, 45000000, Spain\\nÁlvaro Morata, Centre-Forward, 31, Atlético de Madrid, 189, right, 72, 34, 16000000, Spain\\nJoselu, Centre-Forward, 34, Real Madrid, 191, right, 10, 5, 5000000, Spain\\nDominik Livakovic, Goalkeeper, 29, Fenerbahce, 188, right, 53, 0, 11000000, Croatia\\nNediljko Labrovic, Goalkeeper, 24, HNK Rijeka, 196, right, 1, 0, 4500000, Croatia\\nIvica Ivusic, Goalkeeper, 29, Pafos FC, 195, right, 6, 0, 2500000, Croatia\\nJosip Stanisic, Centre-Back, 24, Bayer 04 Leverkusen, 187, both, 17, 0, 28000000, Croatia\\nJosip Sutalo, Centre-Back, 24, Ajax Amsterdam, 190, right, 13, 0, 15000000, Croatia\\nMarin Pongracic, Centre-Back, 26, US Lecce, 193, right, 7, 0, 7000000, Croatia\\nMartin Erlić, Centre-Back, 26, US Sassuolo, 193, right, 9, 0, 3000000, Croatia\\nDomagoj Vida, Centre-Back, 35, AEK Athens, 184, right, 105, 4, 1200000, Croatia\\nJosko Gvardiol, Left-Back, 22, Manchester City, 185, left, 29, 2, 75000000, Croatia\\nBorna Sosa, Left-Back, 26, Ajax Amsterdam, 187, left, 20, 1, 7500000, Croatia\\nJosip Juranovic, Right-Back, 28, 1.FC Union Berlin, 173, right, 37, 0, 7500000, Croatia\\nMarcelo Brozovic, Defensive Midfield, 31, Al-Nassr FC, 181, both, 95, 7, 16000000, Croatia\\nMateo Kovacic, Central Midfield, 30, Manchester City, 177, right, 100, 5, 30000000, Croatia\\nLuka Sucic, Central Midfield, 21, Red Bull Salzburg, 185, left, 6, 0, 15000000, Croatia\\nMario Pasalic, Central Midfield, 29, Atalanta BC, 188, right, 62, 10, 13000000, Croatia\\nLuka Modric, Central Midfield, 38, Real Madrid, 172, right, 174, 24, 6000000, Croatia\\nLovro Majer, Attacking Midfield, 26, VfL Wolfsburg, 178, left, 30, 8, 20000000, Croatia\\nMartin Baturina, Attacking Midfield, 21, GNK Dinamo Zagreb, 172, right, 3, 0, 20000000, Croatia\\nNikola Vlašić, Attacking Midfield, 26, Torino FC, 179, right, 55, 8, 10000000, Croatia\\nLuka Ivanusec, Left Winger, 25, Feyenoord Rotterdam, 175, right, 20, 2, 12000000, Croatia\\nMarko Pjaca, Left Winger, 29, HNK Rijeka, 186, right, 26, 1, 2500000, Croatia\\nIvan Perisic, Left Winger, 35, HNK Hajduk Split, 186, both, 130, 33, 2000000, Croatia\\nMarco Pasalic, Right Winger, 23, HNK Rijeka, 177, left, 5, 1, 4000000, Croatia\\nAndrej Kramaric, Centre-Forward, 32, TSG 1899 Hoffenheim, 177, right, 92, 28, 5000000, Croatia\\nAnte Budimir, Centre-Forward, 32, CA Osasuna, 190, left, 20, 2, 5000000, Croatia\\nBruno Petkovic, Centre-Forward, 29, GNK Dinamo Zagreb, 193, right, 37, 11, 5000000, Croatia\\nThomas Strakosha, Goalkeeper, 29, Brentford FC, 193, right, 28, 0, 3000000, Albania\\nElhan Kastrati, Goalkeeper, 27, AS Cittadella, 189, right, 2, 0, 1300000, Albania\\nEtrit Berisha, Goalkeeper, 35, FC Empoli, 194, left, 80, 0, 500000, Albania\\nBerat Djimsiti, Centre-Back, 31, Atalanta BC, 190, right, 57, 1, 10000000, Albania\\nMarash Kumbulla, Centre-Back, 24, US Sassuolo, 191, right, 19, 0, 4500000, Albania\\nArdian Ismajli, Centre-Back, 27, FC Empoli, 187, right, 38, 2, 3000000, Albania\\nEnea Mihaj, Centre-Back, 25, FC Famalicão, 186, right, 19, 0, 1500000, Albania\\nArlind Ajeti, Centre-Back, 30, CFR Cluj, 184, right, 25, 1, 1000000, Albania\\nMario Mitaj, Left-Back, 20, Lokomotiv Moscow, 180, left, 13, 0, 2000000, Albania\\nNaser Aliji, Left-Back, 30, FC Voluntari, 177, left, 13, 0, 400000, Albania\\nElseid Hysaj, Right-Back, 30, SS Lazio, 182, right, 83, 2, 2500000, Albania\\nIván Balliu, Right-Back, 32, Rayo Vallecano, 172, right, 13, 0, 2000000, Albania\\nKristjan Asllani, Defensive Midfield, 22, Inter Milan, 175, right, 20, 2, 18000000, Albania\\nYlber Ramadani, Defensive Midfield, 28, US Lecce, 185, right, 35, 1, 4000000, Albania\\nKlaus Gjasula, Defensive Midfield, 34, SV Darmstadt 98, 190, both, 28, 0, 400000, Albania\\nAmir Abrashi, Defensive Midfield, 34, Grasshopper Club Zurich, 172, right, 50, 1, 200000, Albania\\nQazim Laci, Central Midfield, 28, AC Sparta Prague, 173, right, 27, 3, 2500000, Albania\\nMedon Berisha, Central Midfield, 20, US Lecce, 186, right, 1, 0, 1000000, Albania\\nErnest Muci, Attacking Midfield, 23, Besiktas JK, 180, both, 10, 3, 13000000, Albania\\nNedim Bajrami, Attacking Midfield, 25, US Sassuolo, 179, right, 23, 4, 4500000, Albania\\nArbër Hoxha, Left Winger, 25, GNK Dinamo Zagreb, 185, right, 4, 0, 1800000, Albania\\nJasir Asani, Right Winger, 29, Gwangju FC, 175, left, 13, 4, 1000000, Albania\\nArmando Broja, Centre-Forward, 22, Chelsea FC, 191, right, 21, 5, 22000000, Albania\\nRey Manaj, Centre-Forward, 27, Sivasspor, 182, right, 33, 7, 5000000, Albania\\nTaulant Seferi, Centre-Forward, 27, FC Baniyas, 184, right, 19, 3, 3500000, Albania\\nMirlind Daku, Centre-Forward, 26, Rubin Kazan, 192, right, 5, 1, 3000000, Albania\\nGianluigi Donnarumma, Goalkeeper, 25, Paris Saint-Germain, 196, right, 61, 0, 40000000, Italy\\nGuglielmo Vicario, Goalkeeper, 27, Tottenham Hotspur, 194, right, 2, 0, 35000000, Italy\\nAlex Meret, Goalkeeper, 27, SSC Napoli, 190, left, 3, 0, 12000000, Italy\\nAlessandro Bastoni, Centre-Back, 25, Inter Milan, 190, left, 23, 1, 70000000, Italy\\nAlessandro Buongiorno, Centre-Back, 25, Torino FC, 190, left, 3, 0, 35000000, Italy\\nRiccardo Calafiori, Centre-Back, 22, Bologna FC 1909, 188, left, 1, 0, 30000000, Italy\\nGianluca Mancini, Centre-Back, 28, AS Roma, 190, right, 13, 0, 25000000, Italy\\nFederico Gatti, Centre-Back, 25, Juventus FC, 190, right, 3, 0, 18000000, Italy\\nFederico Dimarco, Left-Back, 26, Inter Milan, 175, left, 18, 2, 50000000, Italy\\nAndrea Cambiaso, Left-Back, 24, Juventus FC, 182, both, 3, 0, 25000000, Italy\\nGiovanni Di Lorenzo, Right-Back, 30, SSC Napoli, 183, right, 35, 3, 15000000, Italy\\nRaoul Bellanova, Right-Back, 24, Torino FC, 188, right, 1, 0, 15000000, Italy\\nMatteo Darmian, Right-Back, 34, Inter Milan, 183, right, 42, 2, 4000000, Italy\\nBryan Cristante, Defensive Midfield, 29, AS Roma, 186, right, 39, 2, 20000000, Italy\\nJorginho, Defensive Midfield, 32, Arsenal FC, 178, right, 53, 5, 12000000, Italy\\nNicolò Barella, Central Midfield, 27, Inter Milan, 175, right, 53, 9, 80000000, Italy\\nDavide Frattesi, Central Midfield, 24, Inter Milan, 178, right, 14, 4, 35000000, Italy\\nNicolò Fagioli, Central Midfield, 23, Juventus FC, 178, right, 2, 0, 15000000, Italy\\nMichael Folorunsho, Central Midfield, 26, Hellas Verona, 190, right, 0, 0, 8500000, Italy\\nLorenzo Pellegrini, Attacking Midfield, 27, AS Roma, 186, right, 29, 6, 25000000, Italy\\nFederico Chiesa, Left Winger, 26, Juventus FC, 175, right, 46, 7, 35000000, Italy\\nMattia Zaccagni, Left Winger, 28, SS Lazio, 177, right, 5, 0, 20000000, Italy\\nStephan El Shaarawy, Left Winger, 31, AS Roma, 178, right, 31, 7, 5000000, Italy\\nGiacomo Raspadori, Second Striker, 24, SSC Napoli, 172, right, 27, 6, 25000000, Italy\\nGianluca Scamacca, Centre-Forward, 25, Atalanta BC, 195, right, 15, 1, 35000000, Italy\\nMateo Retegui, Centre-Forward, 25, Genoa CFC, 186, right, 7, 4, 16000000, Italy\\nJan Oblak, Goalkeeper, 31, Atlético de Madrid, 188, right, 64, 0, 28000000, Slovenia\\nVid Belec, Goalkeeper, 34, APOEL Nicosia, 192, right, 21, 0, 500000, Slovenia\\nIgor Vekic, Goalkeeper, 26, Vejle Boldklub, 192, right, 1, 0, 300000, Slovenia\\nJaka Bijol, Centre-Back, 25, Udinese Calcio, 190, right, 48, 1, 10000000, Slovenia\\nDavid Brekalo, Centre-Back, 25, Orlando City SC, 188, right, 12, 1, 3500000, Slovenia\\nVanja Drkusic, Centre-Back, 24, FC Sochi, 188, right, 7, 0, 2800000, Slovenia\\nZan Zaletel, Centre-Back, 24, Viborg FF, 185, right, 2, 0, 1200000, Slovenia\\nJure Balkovec, Left-Back, 29, Alanyaspor, 185, left, 32, 0, 1200000, Slovenia\\nErik Janza, Left-Back, 30, Górnik Zabrze, 175, left, 9, 2, 600000, Slovenia\\nPetar Stojanović, Right-Back, 28, UC Sampdoria, 178, right, 52, 3, 1300000, Slovenia\\nZan Karnicnik, Right-Back, 29, NK Celje, 184, right, 27, 1, 1000000, Slovenia\\nJon Gorenc Stankovic, Defensive Midfield, 28, SK Sturm Graz, 190, right, 23, 1, 4500000, Slovenia\\nAdrian Zeljkovic, Defensive Midfield, 21, Spartak Trnava, 192, right, 1, 0, 2000000, Slovenia\\nSandi Lovric, Central Midfield, 26, Udinese Calcio, 180, right, 34, 4, 8000000, Slovenia\\nAdam Gnezda Cerin, Central Midfield, 24, Panathinaikos FC, 180, right, 30, 4, 3500000, Slovenia\\nMiha Zajc, Central Midfield, 29, Fenerbahce, 178, right, 39, 8, 2400000, Slovenia\\nTimi Max Elsnik, Central Midfield, 26, NK Olimpija Ljubljana, 182, left, 14, 1, 1500000, Slovenia\\nJasmin Kurtic, Central Midfield, 35, FC Südtirol, 186, right, 91, 2, 500000, Slovenia\\nTomi Horvat, Right Midfield, 25, SK Sturm Graz, 176, left, 6, 0, 5000000, Slovenia\\nJosip Ilicic, Attacking Midfield, 36, NK Maribor, 190, left, 80, 17, 300000, Slovenia\\nBenjamin Verbic, Left Winger, 30, Panathinaikos FC, 183, right, 58, 6, 2000000, Slovenia\\nBenjamin Sesko, Centre-Forward, 21, RB Leipzig, 195, right, 28, 11, 50000000, Slovenia\\nAndraz Sporar, Centre-Forward, 30, Panathinaikos FC, 186, right, 52, 11, 4000000, Slovenia\\nJan Mlakar, Centre-Forward, 25, Pisa Sporting Club, 183, right, 16, 3, 2500000, Slovenia\\nZan Vipotnik, Centre-Forward, 22, FC Girondins Bordeaux, 185, both, 9, 2, 2500000, Slovenia\\nLuka Zahovic, Centre-Forward, 28, Pogon Szczecin, 177, right, 15, 0, 400000, Slovenia\\nAaron Ramsdale, Goalkeeper, 26, Arsenal FC, 190, right, 5, 0, 25000000, England\\nJordan Pickford, Goalkeeper, 30, Everton FC, 185, left, 61, 0, 22000000, England\\nDean Henderson, Goalkeeper, 27, Crystal Palace, 188, right, 1, 0, 12000000, England\\nJohn Stones, Centre-Back, 30, Manchester City, 188, right, 72, 3, 38000000, England\\nMarc Guéhi, Centre-Back, 23, Crystal Palace, 182, right, 11, 0, 38000000, England\\nEzri Konsa, Centre-Back, 26, Aston Villa, 183, right, 4, 0, 35000000, England\\nJoe Gomez, Centre-Back, 27, Liverpool FC, 188, right, 15, 0, 28000000, England\\nLewis Dunk, Centre-Back, 32, Brighton & Hove Albion, 192, right, 6, 0, 12000000, England\\nLuke Shaw, Left-Back, 28, Manchester United, 178, left, 31, 3, 32000000, England\\nTrent Alexander-Arnold, Right-Back, 25, Liverpool FC, 180, right, 25, 3, 70000000, England\\nKyle Walker, Right-Back, 34, Manchester City, 178, right, 83, 1, 13000000, England\\nKieran Trippier, Right-Back, 33, Newcastle United, 173, right, 48, 1, 10000000, England\\nDeclan Rice, Defensive Midfield, 25, Arsenal FC, 188, right, 51, 3, 120000000, England\\nConor Gallagher, Central Midfield, 24, Chelsea FC, 182, right, 13, 0, 50000000, England\\nKobbie Mainoo, Central Midfield, 19, Manchester United, 175, right, 3, 0, 50000000, England\\nAdam Wharton, Central Midfield, 20, Crystal Palace, 182, left, 1, 0, 30000000, England\\nJude Bellingham, Attacking Midfield, 20, Real Madrid, 186, right, 29, 3, 180000000, England\\nCole Palmer, Attacking Midfield, 22, Chelsea FC, 189, left, 4, 1, 80000000, England\\nEberechi Eze, Attacking Midfield, 25, Crystal Palace, 178, right, 4, 0, 55000000, England\\nAnthony Gordon, Left Winger, 23, Newcastle United, 182, right, 3, 0, 60000000, England\\nPhil Foden, Right Winger, 24, Manchester City, 171, left, 34, 4, 150000000, England\\nBukayo Saka, Right Winger, 22, Arsenal FC, 178, left, 33, 11, 140000000, England\\nJarrod Bowen, Right Winger, 27, West Ham United, 175, left, 8, 0, 50000000, England\\nHarry Kane, Centre-Forward, 30, Bayern Munich, 188, right, 91, 63, 100000000, England\\nOllie Watkins, Centre-Forward, 28, Aston Villa, 180, right, 12, 3, 65000000, England\\nIvan Toney, Centre-Forward, 28, Brentford FC, 185, right, 3, 1, 50000000, England\\nMads Hermansen, Goalkeeper, 23, Leicester City, 187, right, 0, 0, 9000000, Denmark\\nFrederik Rönnow, Goalkeeper, 31, 1.FC Union Berlin, 188, right, 10, 0, 4500000, Denmark\\nKasper Schmeichel, Goalkeeper, 37, RSC Anderlecht, 189, right, 100, 0, 1000000, Denmark\\nAndreas Christensen, Centre-Back, 28, FC Barcelona, 187, right, 69, 3, 40000000, Denmark\\nJoachim Andersen, Centre-Back, 28, Crystal Palace, 192, right, 31, 0, 35000000, Denmark\\nJannik Vestergaard, Centre-Back, 31, Leicester City, 199, both, 40, 2, 3000000, Denmark\\nSimon Kjær, Centre-Back, 35, AC Milan, 191, right, 131, 5, 1500000, Denmark\\nZanka, Centre-Back, 34, Brentford FC, 189, right, 37, 2, 1000000, Denmark\\nVictor Kristiansen, Left-Back, 21, Bologna FC 1909, 181, left, 7, 0, 15000000, Denmark\\nJoakim Maehle, Right-Back, 27, VfL Wolfsburg, 185, right, 44, 11, 14000000, Denmark\\nAlexander Bah, Right-Back, 26, SL Benfica, 183, right, 10, 1, 13000000, Denmark\\nRasmus Kristensen, Right-Back, 26, AS Roma, 187, right, 21, 0, 10000000, Denmark\\nMorten Hjulmand, Defensive Midfield, 24, Sporting CP, 185, right, 6, 0, 40000000, Denmark\\nChristian Nørgaard, Defensive Midfield, 30, Brentford FC, 187, right, 25, 1, 18000000, Denmark\\nPierre-Emile Højbjerg, Defensive Midfield, 28, Tottenham Hotspur, 185, right, 76, 9, 18000000, Denmark\\nMathias Jensen, Central Midfield, 28, Brentford FC, 180, right, 30, 1, 28000000, Denmark\\nChristian Eriksen, Central Midfield, 32, Manchester United, 182, right, 129, 41, 8000000, Denmark\\nThomas Delaney, Central Midfield, 32, RSC Anderlecht, 182, left, 77, 8, 2500000, Denmark\\nMikkel Damsgaard, Left Winger, 23, Brentford FC, 180, right, 26, 4, 10000000, Denmark\\nJacob Bruun Larsen, Left Winger, 25, Burnley FC, 183, right, 6, 1, 8000000, Denmark\\nAndreas Skov Olsen, Right Winger, 24, Club Brugge KV, 187, left, 29, 8, 18000000, Denmark\\nAnders Dreyer, Right Winger, 26, RSC Anderlecht, 174, left, 3, 0, 15000000, Denmark\\nRasmus Højlund, Centre-Forward, 21, Manchester United, 191, left, 13, 7, 65000000, Denmark\\nJonas Wind, Centre-Forward, 25, VfL Wolfsburg, 190, right, 27, 8, 20000000, Denmark\\nKasper Dolberg, Centre-Forward, 26, RSC Anderlecht, 187, right, 46, 11, 12000000, Denmark\\nYussuf Poulsen, Centre-Forward, 29, RB Leipzig, 192, right, 78, 12, 6000000, Denmark\\nDjordje Petrovic, Goalkeeper, 24, Chelsea FC, 194, right, 3, 0, 20000000, Serbia\\nPredrag Rajkovic, Goalkeeper, 28, RCD Mallorca, 191, right, 31, 0, 10000000, Serbia\\nVanja Milinković-Savić, Goalkeeper, 27, Torino FC, 202, right, 19, 0, 5000000, Serbia\\nStrahinja Pavlovic, Centre-Back, 23, Red Bull Salzburg, 194, left, 34, 4, 25000000, Serbia\\nNikola Milenković, Centre-Back, 26, ACF Fiorentina, 195, right, 52, 3, 15000000, Serbia\\nMilos Veljkovic, Centre-Back, 28, SV Werder Bremen, 188, right, 30, 1, 4500000, Serbia\\nSrdjan Babic, Centre-Back, 28, Spartak Moscow, 194, left, 8, 1, 4000000, Serbia\\nNemanja Gudelj, Centre-Back, 32, Sevilla FC, 187, right, 61, 1, 3500000, Serbia\\nNemanja Stojic, Centre-Back, 26, FK TSC Backa Topola, 190, right, 1, 0, 2000000, Serbia\\nUros Spajic, Centre-Back, 31, Red Star Belgrade, 188, right, 21, 0, 1200000, Serbia\\nFilip Mladenovic, Left-Back, 32, Panathinaikos FC, 180, left, 30, 1, 900000, Serbia\\nSrdjan Mijailovic, Defensive Midfield, 30, Red Star Belgrade, 178, right, 7, 0, 1700000, Serbia\\nSergej Milinković-Savić, Central Midfield, 29, Al-Hilal SFC, 192, right, 50, 8, 30000000, Serbia\\nLazar Samardžić, Central Midfield, 22, Udinese Calcio, 184, left, 8, 0, 20000000, Serbia\\nIvan Ilić, Central Midfield, 23, Torino FC, 186, left, 15, 0, 18000000, Serbia\\nSaša Lukić, Central Midfield, 27, Fulham FC, 182, right, 45, 2, 10000000, Serbia\\nNemanja Maksimovic, Central Midfield, 29, Getafe CF, 189, right, 49, 0, 6000000, Serbia\\nFilip Kostić, Left Midfield, 31, Juventus FC, 184, left, 62, 3, 6500000, Serbia\\nMijat Gacinovic, Attacking Midfield, 29, AEK Athens, 175, right, 27, 2, 3000000, Serbia\\nVeljko Birmancevic, Left Winger, 26, AC Sparta Prague, 179, right, 4, 0, 9000000, Serbia\\nDusan Tadic, Left Winger, 35, Fenerbahce, 181, left, 107, 22, 3500000, Serbia\\nAndrija Zivkovic, Right Winger, 27, PAOK Thessaloniki, 169, left, 45, 1, 8000000, Serbia\\nDušan Vlahović, Centre-Forward, 24, Juventus FC, 190, left, 26, 13, 65000000, Serbia\\nAleksandar Mitrovic, Centre-Forward, 29, Al-Hilal SFC, 189, right, 90, 57, 28000000, Serbia\\nLuka Jović, Centre-Forward, 26, AC Milan, 182, right, 34, 10, 7000000, Serbia\\nPetar Ratkov, Centre-Forward, 20, Red Bull Salzburg, 193, right, 1, 0, 5000000, Serbia\\nMarcin Bulka, Goalkeeper, 24, OGC Nice, 199, right, 1, 0, 20000000, Poland\\nWojciech Szczęsny, Goalkeeper, 34, Juventus FC, 196, right, 81, 0, 6000000, Poland\\nLukasz Skorupski, Goalkeeper, 33, Bologna FC 1909, 188, right, 10, 0, 3500000, Poland\\nJan Bednarek, Centre-Back, 28, Southampton FC, 189, right, 56, 1, 11000000, Poland\\nPaweł Dawidowicz, Centre-Back, 29, Hellas Verona, 189, both, 10, 0, 3000000, Poland\\nSebastian Walukiewicz, Centre-Back, 24, FC Empoli, 188, right, 4, 1, 2500000, Poland\\nBartosz Salamon, Centre-Back, 33, Lech Poznan, 194, right, 13, 0, 500000, Poland\\nJakub Kiwior, Left-Back, 24, Arsenal FC, 189, left, 22, 1, 30000000, Poland\\nTymoteusz Puchacz, Left-Back, 25, 1.FC Kaiserslautern, 180, left, 14, 0, 2000000, Poland\\nBartosz Bereszyński, Right-Back, 31, FC Empoli, 183, right, 55, 0, 1300000, Poland\\nJakub Piotrowski, Defensive Midfield, 26, Ludogorets Razgrad, 188, right, 5, 2, 5000000, Poland\\nBartosz Slisz, Defensive Midfield, 25, Atlanta United FC, 179, right, 8, 0, 5000000, Poland\\nDamian Szymanski, Defensive Midfield, 28, AEK Athens, 185, right, 17, 2, 3500000, Poland\\nJakub Kaluzinski, Defensive Midfield, 21, Antalyaspor, 184, both, 1, 0, 2100000, Poland\\nTaras Romanczuk, Defensive Midfield, 32, Jagiellonia Bialystok, 186, left, 3, 1, 500000, Poland\\nPiotr Zieliński, Central Midfield, 30, SSC Napoli, 180, both, 89, 12, 22000000, Poland\\nJakub Moder, Central Midfield, 25, Brighton & Hove Albion, 191, right, 22, 2, 10000000, Poland\\nKacper Urbanski, Central Midfield, 19, Bologna FC 1909, 183, right, 1, 0, 7000000, Poland\\nPrzemyslaw Frankowski, Right Midfield, 29, RC Lens, 175, right, 40, 3, 9000000, Poland\\nNicola Zalewski, Left Midfield, 22, AS Roma, 175, both, 17, 0, 12000000, Poland\\nSebastian Szymanski, Attacking Midfield, 25, Fenerbahce, 174, left, 33, 3, 19000000, Poland\\nMichal Skoras, Left Winger, 24, Club Brugge KV, 172, right, 8, 0, 5000000, Poland\\nKamil Grosicki, Left Winger, 36, Pogon Szczecin, 180, right, 93, 17, 500000, Poland\\nRobert Lewandowski, Centre-Forward, 35, FC Barcelona, 185, right, 149, 82, 15000000, Poland\\nAdam Buksa, Centre-Forward, 27, Antalyaspor, 191, left, 15, 6, 6000000, Poland\\nKrzysztof Piatek, Centre-Forward, 28, Basaksehir FK, 183, right, 28, 11, 6000000, Poland\\nKarol Świderski, Centre-Forward, 27, Hellas Verona, 184, left, 30, 10, 5000000, Poland\\nBart Verbruggen, Goalkeeper, 21, Brighton & Hove Albion, 194, right, 6, 0, 18000000, Netherlands\\nJustin Bijlow, Goalkeeper, 26, Feyenoord Rotterdam, 188, right, 8, 0, 13000000, Netherlands\\nMark Flekken, Goalkeeper, 30, Brentford FC, 195, both, 7, 0, 12000000, Netherlands\\nMatthijs de Ligt, Centre-Back, 24, Bayern Munich, 189, right, 45, 2, 65000000, Netherlands\\nMicky van de Ven, Centre-Back, 23, Tottenham Hotspur, 193, left, 3, 0, 55000000, Netherlands\\nNathan Aké, Centre-Back, 29, Manchester City, 180, left, 44, 5, 40000000, Netherlands\\nVirgil van Dijk, Centre-Back, 32, Liverpool FC, 195, right, 67, 8, 30000000, Netherlands\\nStefan de Vrij, Centre-Back, 32, Inter Milan, 189, right, 63, 3, 7000000, Netherlands\\nDaley Blind, Centre-Back, 34, Girona FC, 180, left, 107, 3, 3000000, Netherlands\\nLutsharel Geertruida, Right-Back, 23, Feyenoord Rotterdam, 184, right, 8, 0, 32000000, Netherlands\\nJerdy Schouten, Defensive Midfield, 27, PSV Eindhoven, 185, right, 4, 0, 28000000, Netherlands\\nFrenkie de Jong, Central Midfield, 27, FC Barcelona, 181, right, 54, 2, 70000000, Netherlands\\nJoey Veerman, Central Midfield, 25, PSV Eindhoven, 185, right, 9, 1, 40000000, Netherlands\\nRyan Gravenberch, Central Midfield, 22, Liverpool FC, 190, right, 12, 1, 35000000, Netherlands\\nTijjani Reijnders, Central Midfield, 25, AC Milan, 185, right, 8, 1, 30000000, Netherlands\\nGeorginio Wijnaldum, Central Midfield, 33, Al-Ettifaq FC, 175, right, 92, 28, 4000000, Netherlands\\nJeremie Frimpong, Right Midfield, 23, Bayer 04 Leverkusen, 172, right, 3, 1, 50000000, Netherlands\\nDenzel Dumfries, Right Midfield, 28, Inter Milan, 188, right, 52, 6, 24000000, Netherlands\\nXavi Simons, Attacking Midfield, 21, RB Leipzig, 179, right, 13, 0, 80000000, Netherlands\\nTeun Koopmeiners, Attacking Midfield, 26, Atalanta BC, 184, left, 21, 2, 50000000, Netherlands\\nCody Gakpo, Left Winger, 25, Liverpool FC, 193, right, 23, 9, 50000000, Netherlands\\nSteven Bergwijn, Left Winger, 26, Ajax Amsterdam, 178, right, 33, 8, 18000000, Netherlands\\nDonyell Malen, Right Winger, 25, Borussia Dortmund, 176, right, 31, 6, 40000000, Netherlands\\nBrian Brobbey, Centre-Forward, 22, Ajax Amsterdam, 182, right, 2, 0, 35000000, Netherlands\\nMemphis Depay, Centre-Forward, 30, Atlético de Madrid, 178, right, 91, 45, 10000000, Netherlands\\nWout Weghorst, Centre-Forward, 31, TSG 1899 Hoffenheim, 197, right, 32, 10, 6000000, Netherlands\\nNiklas Hedl, Goalkeeper, 23, Rapid Vienna, 190, right, 1, 0, 2000000, Austria\\nPatrick Pentz, Goalkeeper, 27, Bröndby IF, 183, left, 5, 0, 1500000, Austria\\nHeinz Lindner, Goalkeeper, 33, Union Saint-Gilloise, 187, right, 36, 0, 300000, Austria\\nKevin Danso, Centre-Back, 25, RC Lens, 190, right, 18, 0, 25000000, Austria\\nPhilipp Lienhart, Centre-Back, 27, SC Freiburg, 189, right, 19, 1, 15000000, Austria\\nMaximilian Wöber, Centre-Back, 26, Borussia Mönchengladbach, 188, left, 23, 0, 10000000, Austria\\nFlavius Daniliuc, Centre-Back, 23, Red Bull Salzburg, 188, right, 2, 0, 6000000, Austria\\nLeopold Querfeld, Centre-Back, 20, Rapid Vienna, 190, right, 1, 0, 5000000, Austria\\nGernot Trauner, Centre-Back, 32, Feyenoord Rotterdam, 183, right, 10, 1, 3500000, Austria\\nPhillipp Mwene, Left-Back, 30, 1.FSV Mainz 05, 170, right, 11, 0, 1800000, Austria\\nStefan Posch, Right-Back, 27, Bologna FC 1909, 190, right, 30, 1, 14000000, Austria\\nFlorian Grillitsch, Defensive Midfield, 28, TSG 1899 Hoffenheim, 187, right, 41, 1, 6500000, Austria\\nKonrad Laimer, Central Midfield, 27, Bayern Munich, 180, right, 34, 4, 30000000, Austria\\nMarcel Sabitzer, Central Midfield, 30, Borussia Dortmund, 178, right, 78, 17, 20000000, Austria\\nNicolas Seiwald, Central Midfield, 23, RB Leipzig, 179, right, 22, 0, 16000000, Austria\\nAlexander Prass, Left Midfield, 23, SK Sturm Graz, 180, left, 4, 0, 12000000, Austria\\nChristoph Baumgartner, Attacking Midfield, 24, RB Leipzig, 180, right, 36, 13, 18000000, Austria\\nRomano Schmid, Attacking Midfield, 24, SV Werder Bremen, 168, right, 9, 0, 10000000, Austria\\nFlorian Kainz, Attacking Midfield, 31, 1.FC Köln, 176, both, 27, 1, 2500000, Austria\\nMatthias Seidl, Attacking Midfield, 23, Rapid Vienna, 175, both, 3, 0, 2500000, Austria\\nAndreas Weimann, Attacking Midfield, 32, Bristol City, 179, right, 23, 2, 900000, Austria\\nMarco Grüll, Left Winger, 25, Rapid Vienna, 182, both, 4, 0, 4000000, Austria\\nPatrick Wimmer, Right Winger, 23, VfL Wolfsburg, 182, right, 10, 0, 15000000, Austria\\nMichael Gregoritsch, Centre-Forward, 30, SC Freiburg, 193, left, 53, 15, 8000000, Austria\\nMarko Arnautovic, Centre-Forward, 35, Inter Milan, 190, both, 111, 36, 4000000, Austria\\nMaximilian Entrup, Centre-Forward, 26, TSV Hartberg, 186, nan, 2, 1, 2000000, Austria\\nMike Maignan, Goalkeeper, 28, AC Milan, 191, right, 15, 0, 38000000, France\\nBrice Samba, Goalkeeper, 30, RC Lens, 187, left, 3, 0, 15000000, France\\nAlphonse Areola, Goalkeeper, 31, West Ham United, 195, right, 5, 0, 10000000, France\\nWilliam Saliba, Centre-Back, 23, Arsenal FC, 192, right, 14, 0, 80000000, France\\nBenjamin Pavard, Centre-Back, 28, Inter Milan, 186, right, 54, 5, 50000000, France\\nDayot Upamecano, Centre-Back, 25, Bayern Munich, 186, right, 19, 2, 45000000, France\\nJules Koundé, Centre-Back, 25, FC Barcelona, 180, right, 27, 0, 45000000, France\\nIbrahima Konaté, Centre-Back, 25, Liverpool FC, 194, right, 14, 0, 45000000, France\\nTheo Hernández, Left-Back, 26, AC Milan, 184, left, 26, 2, 60000000, France\\nFerland Mendy, Left-Back, 29, Real Madrid, 180, left, 9, 0, 22000000, France\\nJonathan Clauss, Right-Back, 31, Olympique Marseille, 178, right, 13, 2, 12000000, France\\nAurélien Tchouaméni, Defensive Midfield, 24, Real Madrid, 188, right, 31, 3, 100000000, France\\nN'Golo Kanté, Defensive Midfield, 33, Al-Ittihad Club, 171, right, 54, 2, 9000000, France\\nEduardo Camavinga, Central Midfield, 21, Real Madrid, 182, left, 16, 1, 100000000, France\\nWarren Zaïre-Emery, Central Midfield, 18, Paris Saint-Germain, 178, right, 3, 1, 60000000, France\\nAdrien Rabiot, Central Midfield, 29, Juventus FC, 188, left, 43, 4, 35000000, France\\nYoussouf Fofana, Central Midfield, 25, AS Monaco, 185, right, 18, 3, 30000000, France\\nKingsley Coman, Left Winger, 27, Bayern Munich, 181, right, 55, 8, 50000000, France\\nBradley Barcola, Left Winger, 21, Paris Saint-Germain, 182, right, 1, 0, 50000000, France\\nOusmane Dembélé, Right Winger, 27, Paris Saint-Germain, 178, both, 43, 5, 60000000, France\\nKylian Mbappé, Centre-Forward, 25, Paris Saint-Germain, 178, right, 78, 47, 180000000, France\\nMarcus Thuram, Centre-Forward, 26, Inter Milan, 192, right, 19, 2, 65000000, France\\nRandal Kolo Muani, Centre-Forward, 25, Paris Saint-Germain, 187, right, 16, 4, 45000000, France\\nAntoine Griezmann, Centre-Forward, 33, Atlético de Madrid, 176, left, 128, 44, 25000000, France\\nOlivier Giroud, Centre-Forward, 37, AC Milan, 192, left, 132, 57, 3000000, France\\nMatz Sels, Goalkeeper, 32, Nottingham Forest, 188, right, 8, 0, 7000000, Belgium\\nKoen Casteels, Goalkeeper, 31, VfL Wolfsburg, 197, left, 9, 0, 6000000, Belgium\\nThomas Kaminski, Goalkeeper, 31, Luton Town, 190, nan, 1, 0, 3000000, Belgium\\nArthur Theate, Centre-Back, 24, Stade Rennais FC, 185, left, 15, 0, 20000000, Belgium\\nWout Faes, Centre-Back, 26, Leicester City, 187, right, 14, 0, 20000000, Belgium\\nZeno Debast, Centre-Back, 20, RSC Anderlecht, 191, right, 7, 0, 18000000, Belgium\\nAxel Witsel, Centre-Back, 35, Atlético de Madrid, 186, right, 131, 12, 3500000, Belgium\\nJan Vertonghen, Centre-Back, 37, RSC Anderlecht, 189, left, 154, 10, 1500000, Belgium\\nMaxim De Cuyper, Left-Back, 23, Club Brugge KV, 182, left, 1, 0, 9000000, Belgium\\nTimothy Castagne, Right-Back, 28, Fulham FC, 185, right, 42, 2, 17000000, Belgium\\nThomas Meunier, Right-Back, 32, Trabzonspor, 191, right, 65, 8, 2500000, Belgium\\nAmadou Onana, Defensive Midfield, 22, Everton FC, 195, right, 12, 0, 50000000, Belgium\\nYouri Tielemans, Central Midfield, 27, Aston Villa, 177, right, 67, 7, 25000000, Belgium\\nArthur Vermeeren, Central Midfield, 19, Atlético de Madrid, 180, right, 4, 0, 25000000, Belgium\\nOrel Mangala, Central Midfield, 26, Olympique Lyon, 178, right, 14, 0, 20000000, Belgium\\nAster Vranckx, Central Midfield, 21, VfL Wolfsburg, 183, right, 7, 0, 12000000, Belgium\\nKevin De Bruyne, Attacking Midfield, 32, Manchester City, 181, right, 100, 27, 50000000, Belgium\\nCharles De Ketelaere, Attacking Midfield, 23, Atalanta BC, 192, left, 14, 2, 34000000, Belgium\\nJérémy Doku, Left Winger, 22, Manchester City, 173, right, 21, 2, 65000000, Belgium\\nLeandro Trossard, Left Winger, 29, Arsenal FC, 172, right, 33, 8, 35000000, Belgium\\nYannick Carrasco, Left Winger, 30, Al-Shabab FC, 181, right, 73, 11, 14000000, Belgium\\nJohan Bakayoko, Right Winger, 21, PSV Eindhoven, 179, left, 11, 1, 45000000, Belgium\\nDodi Lukébakio, Right Winger, 26, Sevilla FC, 187, left, 15, 2, 12000000, Belgium\\nLoïs Openda, Centre-Forward, 24, RB Leipzig, 177, right, 17, 2, 60000000, Belgium\\nRomelu Lukaku, Centre-Forward, 31, AS Roma, 191, left, 114, 83, 30000000, Belgium\\nMarek Rodak, Goalkeeper, 27, Fulham FC, 194, right, 22, 0, 3000000, Slovakia\\nHenrich Ravas, Goalkeeper, 26, New England Revolution, 195, right, 0, 0, 1500000, Slovakia\\nMartin Dubravka, Goalkeeper, 35, Newcastle United, 191, right, 42, 0, 1000000, Slovakia\\nDavid Hancko, Centre-Back, 26, Feyenoord Rotterdam, 188, left, 37, 4, 35000000, Slovakia\\nMilan Skriniar, Centre-Back, 29, Paris Saint-Germain, 188, right, 67, 3, 30000000, Slovakia\\nDenis Vavro, Centre-Back, 28, FC Copenhagen, 189, right, 19, 2, 4000000, Slovakia\\nAdam Obert, Centre-Back, 21, Cagliari Calcio, 188, left, 4, 0, 3500000, Slovakia\\nNorbert Gyomber, Centre-Back, 31, US Salernitana 1919, 189, right, 39, 0, 1300000, Slovakia\\nSebastian Kosa, Centre-Back, 20, Spartak Trnava, 191, right, 1, 0, 1200000, Slovakia\\nVernon De Marco, Centre-Back, 31, Hatta Club, 186, left, 9, 1, 500000, Slovakia\\nPeter Pekarik, Right-Back, 37, Hertha BSC, 177, right, 126, 2, 300000, Slovakia\\nStanislav Lobotka, Defensive Midfield, 29, SSC Napoli, 168, right, 54, 4, 28000000, Slovakia\\nLaszlo Benes, Central Midfield, 26, Hamburger SV, 181, left, 21, 1, 5000000, Slovakia\\nOndrej Duda, Central Midfield, 29, Hellas Verona, 180, right, 71, 13, 4000000, Slovakia\\nPatrik Hrosovsky, Central Midfield, 32, KRC Genk, 173, right, 55, 0, 3500000, Slovakia\\nMatus Bero, Central Midfield, 28, VfL Bochum, 181, right, 29, 1, 3500000, Slovakia\\nTomas Rigo, Central Midfield, 21, FC Banik Ostrava, 184, right, 1, 1, 2200000, Slovakia\\nJuraj Kucka, Central Midfield, 37, Slovan Bratislava, 186, right, 106, 13, 500000, Slovakia\\nTomas Suslov, Attacking Midfield, 22, Hellas Verona, 174, left, 27, 3, 7000000, Slovakia\\nLukas Haraslin, Left Winger, 28, AC Sparta Prague, 182, right, 35, 6, 5500000, Slovakia\\nLeo Sauer, Left Winger, 18, Feyenoord Rotterdam, 184, right, 2, 0, 5000000, Slovakia\\nIvan Schranz, Left Winger, 30, SK Slavia Prague, 185, right, 21, 3, 2000000, Slovakia\\nLubomir Tupta, Left Winger, 26, FC Slovan Liberec, 182, right, 5, 0, 800000, Slovakia\\nDavid Duris, Left Winger, 25, Ascoli Calcio, 186, right, 12, 1, 600000, Slovakia\\nRobert Bozenik, Centre-Forward, 24, Boavista FC, 188, right, 39, 6, 5000000, Slovakia\\nDavid Strelec, Centre-Forward, 23, Slovan Bratislava, 185, left, 18, 3, 2800000, Slovakia\\nȘtefan Târnovanu, Goalkeeper, 24, FCSB, 197, right, 1, 0, 3000000, Romania\\nHorațiu Moldovan, Goalkeeper, 26, Atlético de Madrid, 189, right, 11, 0, 2500000, Romania\\nFlorin Niță, Goalkeeper, 36, Gaziantep FK, 184, right, 21, 0, 225000, Romania\\nRadu Drăgușin, Centre-Back, 22, Tottenham Hotspur, 191, right, 17, 0, 25000000, Romania\\nAndrei Burcă, Centre-Back, 31, Al-Okhdood Club, 188, right, 27, 1, 3000000, Romania\\nBogdan Racovițan, Centre-Back, 24, Raków Częstochowa, 187, nan, 2, 0, 1800000, Romania\\nIonuț Nedelcearu, Centre-Back, 28, Palermo FC, 190, right, 27, 2, 1000000, Romania\\nAdrian Rus, Centre-Back, 28, Pafos FC, 188, right, 20, 1, 700000, Romania\\nNicuşor Bancu, Left-Back, 31, CS Universitatea Craiova, 182, left, 36, 2, 1500000, Romania\\nAndrei Rațiu, Right-Back, 25, Rayo Vallecano, 183, right, 17, 1, 1400000, Romania\\nVasile Mogoș, Right-Back, 31, CFR Cluj, 186, right, 7, 0, 900000, Romania\\nAdrian Șut, Defensive Midfield, 25, FCSB, 186, right, 2, 0, 2700000, Romania\\nRăzvan Marin, Central Midfield, 28, FC Empoli, 178, right, 55, 3, 2700000, Romania\\nMarius Marin, Central Midfield, 25, Pisa Sporting Club, 180, right, 18, 0, 1600000, Romania\\nDarius Olaru, Attacking Midfield, 26, FCSB, 177, both, 18, 0, 7000000, Romania\\nNicolae Stanciu, Attacking Midfield, 31, Damac FC, 170, right, 70, 14, 4500000, Romania\\nAlexandru Cicâldău, Attacking Midfield, 26, Konyaspor, 178, right, 37, 4, 3000000, Romania\\nIanis Hagi, Attacking Midfield, 25, Deportivo Alavés, 182, both, 35, 5, 2000000, Romania\\nFlorinel Coman, Left Winger, 26, FCSB, 182, right, 15, 1, 7000000, Romania\\nValentin Mihăilă, Left Winger, 24, Parma Calcio 1913, 180, right, 21, 4, 2800000, Romania\\nDennis Man, Right Winger, 25, Parma Calcio 1913, 183, left, 24, 7, 9000000, Romania\\nDeian Sorescu, Right Winger, 26, Gaziantep FK, 175, right, 17, 0, 1000000, Romania\\nDenis Drăguș, Centre-Forward, 24, Gaziantep FK, 185, right, 11, 2, 4000000, Romania\\nDaniel Bîrligea, Centre-Forward, 24, CFR Cluj, 184, right, 2, 0, 1600000, Romania\\nGeorge Pușcaș, Centre-Forward, 28, SSC Bari, 188, right, 42, 11, 1500000, Romania\\nDenis Alibec, Centre-Forward, 33, Muaither SC, 187, left, 37, 5, 700000, Romania\\nAnatoliy Trubin, Goalkeeper, 22, SL Benfica, 199, right, 11, 0, 25000000, Ukraine\\nAndriy Lunin, Goalkeeper, 25, Real Madrid, 191, right, 11, 0, 25000000, Ukraine\\nGeorgiy Bushchan, Goalkeeper, 30, Dynamo Kyiv, 196, right, 18, 0, 7000000, Ukraine\\nIlya Zabarnyi, Centre-Back, 21, AFC Bournemouth, 189, right, 35, 1, 32000000, Ukraine\\nMykola Matvienko, Centre-Back, 28, Shakhtar Donetsk, 182, left, 64, 0, 18000000, Ukraine\\nValeriy Bondar, Centre-Back, 25, Shakhtar Donetsk, 185, right, 4, 0, 5000000, Ukraine\\nMaksym Taloverov, Centre-Back, 23, LASK, 196, right, 3, 0, 2500000, Ukraine\\nOleksandr Svatok, Centre-Back, 29, SK Dnipro-1, 186, right, 6, 0, 2000000, Ukraine\\nOleksandr Zinchenko, Left-Back, 27, Arsenal FC, 175, left, 62, 9, 38000000, Ukraine\\nVitaliy Mykolenko, Left-Back, 25, Everton FC, 180, left, 40, 1, 28000000, Ukraine\\nBogdan Mykhaylichenko, Left-Back, 27, Polissya Zhytomyr, 178, left, 8, 0, 2500000, Ukraine\\nYukhym Konoplya, Right-Back, 24, Shakhtar Donetsk, 180, right, 13, 1, 6000000, Ukraine\\nOleksandr Tymchyk, Right-Back, 27, Dynamo Kyiv, 180, right, 17, 1, 4000000, Ukraine\\nVolodymyr Brazhko, Defensive Midfield, 22, Dynamo Kyiv, 184, right, 3, 0, 5000000, Ukraine\\nTaras Stepanenko, Defensive Midfield, 34, Shakhtar Donetsk, 181, left, 82, 4, 2500000, Ukraine\\nSergiy Sydorchuk, Defensive Midfield, 33, KVC Westerlo, 189, right, 61, 3, 2000000, Ukraine\\nMykola Shaparenko, Central Midfield, 25, Dynamo Kyiv, 178, right, 30, 1, 9000000, Ukraine\\nGeorgiy Sudakov, Attacking Midfield, 21, Shakhtar Donetsk, 177, both, 16, 1, 35000000, Ukraine\\nRuslan Malinovskyi, Attacking Midfield, 31, Genoa CFC, 181, left, 60, 7, 8000000, Ukraine\\nMykhaylo Mudryk, Left Winger, 23, Chelsea FC, 175, right, 20, 2, 35000000, Ukraine\\nViktor Tsygankov, Right Winger, 26, Girona FC, 178, left, 53, 12, 30000000, Ukraine\\nOleksandr Zubkov, Right Winger, 27, Shakhtar Donetsk, 182, left, 32, 2, 7000000, Ukraine\\nAndriy Yarmolenko, Right Winger, 34, Dynamo Kyiv, 189, left, 118, 46, 2000000, Ukraine\\nArtem Dovbyk, Centre-Forward, 26, Girona FC, 189, left, 27, 9, 35000000, Ukraine\\nVladyslav Vanat, Centre-Forward, 22, Dynamo Kyiv, 182, left, 6, 0, 10000000, Ukraine\\nRoman Yaremchuk, Centre-Forward, 28, Valencia CF, 191, right, 49, 14, 3500000, Ukraine\\nAltay Bayındır, Goalkeeper, 26, Manchester United, 198, right, 9, 0, 10000000, Turkiye\\nUğurcan Çakır, Goalkeeper, 28, Trabzonspor, 191, right, 27, 0, 8000000, Turkiye\\nMert Günok, Goalkeeper, 35, Besiktas JK, 196, right, 28, 0, 1200000, Turkiye\\nMerih Demiral, Centre-Back, 26, Al-Ahli SFC, 190, right, 43, 2, 16000000, Turkiye\\nAhmetcan Kaplan, Centre-Back, 21, Ajax Amsterdam, 189, left, 0, 0, 10000000, Turkiye\\nAbdülkerim Bardakcı, Centre-Back, 29, Galatasaray, 185, left, 7, 1, 9000000, Turkiye\\nKaan Ayhan, Centre-Back, 29, Galatasaray, 185, right, 57, 5, 4700000, Turkiye\\nSamet Akaydin, Centre-Back, 30, Panathinaikos FC, 190, right, 5, 0, 2500000, Turkiye\\nFerdi Kadıoğlu, Left-Back, 24, Fenerbahce, 174, right, 15, 1, 21000000, Turkiye\\nZeki Çelik, Right-Back, 27, AS Roma, 180, right, 45, 2, 6000000, Turkiye\\nMert Müldür, Right-Back, 25, Fenerbahce, 184, right, 23, 1, 4200000, Turkiye\\nHakan Çalhanoğlu, Defensive Midfield, 30, Inter Milan, 178, right, 85, 18, 45000000, Turkiye\\nİsmail Yüksek, Defensive Midfield, 25, Fenerbahce, 183, right, 14, 1, 12000000, Turkiye\\nSalih Özcan, Defensive Midfield, 26, Borussia Dortmund, 183, right, 17, 0, 10000000, Turkiye\\nOkay Yokuşlu, Defensive Midfield, 30, West Bromwich Albion, 191, right, 39, 1, 3000000, Turkiye\\nOrkun Kökçü, Central Midfield, 23, SL Benfica, 175, both, 27, 2, 27000000, Turkiye\\nArda Güler, Attacking Midfield, 19, Real Madrid, 175, left, 6, 1, 30000000, Turkiye\\nYusuf Yazıcı, Attacking Midfield, 27, LOSC Lille, 184, left, 43, 3, 10000000, Turkiye\\nKerem Aktürkoğlu, Left Winger, 25, Galatasaray, 173, right, 28, 5, 15000000, Turkiye\\nBarış Alper Yılmaz, Right Winger, 24, Galatasaray, 186, right, 14, 1, 17000000, Turkiye\\nİrfan Can Kahveci, Right Winger, 28, Fenerbahce, 180, left, 31, 2, 10000000, Turkiye\\nYunus Akgün, Right Winger, 23, Leicester City, 173, left, 9, 2, 5000000, Turkiye\\nKenan Yıldız, Second Striker, 19, Juventus FC, 187, both, 6, 1, 30000000, Turkiye\\nSemih Kılıçsoy, Centre-Forward, 18, Besiktas JK, 178, right, 1, 0, 12000000, Turkiye\\nBertuğ Yıldırım, Centre-Forward, 21, Stade Rennais FC, 191, right, 3, 2, 3500000, Turkiye\\nCenk Tosun, Centre-Forward, 33, Besiktas JK, 183, right, 50, 20, 2000000, Turkiye\\nGiorgi Mamardashvili, Goalkeeper, 23, Valencia CF, 197, left, 16, 0, 35000000, Georgia\\nLuka Gugeshashvili, Goalkeeper, 25, Qarabağ FK, 196, left, 1, 0, 600000, Georgia\\nGiorgi Loria, Goalkeeper, 38, Dinamo Tbilisi, 197, right, 77, 0, 50000, Georgia\\nLuka Lochoshvili, Centre-Back, 26, US Cremonese, 192, left, 10, 1, 1100000, Georgia\\nLasha Dvali, Centre-Back, 29, APOEL Nicosia, 191, left, 31, 1, 900000, Georgia\\nSolomon Kvirkvelia, Centre-Back, 32, Al-Okhdood Club, 196, right, 58, 0, 700000, Georgia\\nJemal Tabidze, Centre-Back, 28, Panetolikos GFS, 187, left, 15, 1, 500000, Georgia\\nGiorgi Gvelesiani, Centre-Back, 33, Persepolis FC, 193, right, 0, 0, 400000, Georgia\\nGuram Kashia, Centre-Back, 36, Slovan Bratislava, 185, right, 112, 3, 250000, Georgia\\nGiorgi Gocholeishvili, Right-Back, 23, Shakhtar Donetsk, 178, right, 8, 0, 2500000, Georgia\\nAnzor Mekvabishvili, Defensive Midfield, 23, CS Universitatea Craiova, 174, right, 13, 0, 1200000, Georgia\\nNika Kvekveskiri, Defensive Midfield, 32, Lech Poznan, 186, right, 59, 0, 500000, Georgia\\nGabriel Sigua, Central Midfield, 18, FC Basel 1893, 190, right, 2, 0, 2500000, Georgia\\nGiorgi Kochorashvili, Central Midfield, 24, Levante UD, 178, right, 7, 0, 1000000, Georgia\\nSandro Altunashvili, Central Midfield, 27, Wolfsberger AC, 169, right, 4, 0, 800000, Georgia\\nOtar Kakabadze, Right Midfield, 28, Cracovia, 186, right, 60, 0, 600000, Georgia\\nOtar Kiteishvili, Attacking Midfield, 28, SK Sturm Graz, 173, both, 36, 2, 5000000, Georgia\\nGiorgi Chakvetadze, Attacking Midfield, 24, Watford FC, 183, right, 24, 8, 2500000, Georgia\\nKhvicha Kvaratskhelia, Left Winger, 23, SSC Napoli, 183, both, 29, 15, 80000000, Georgia\\nSaba Lobjanidze, Left Winger, 29, Atlanta United FC, 175, left, 36, 3, 2000000, Georgia\\nGeorgiy Tsitaishvili, Left Winger, 23, Dinamo Batumi, 171, left, 16, 1, 800000, Georgia\\nZuriko Davitashvili, Right Winger, 23, FC Girondins Bordeaux, 175, right, 34, 6, 3000000, Georgia\\nLevan Shengelia, Right Winger, 28, Panetolikos GFS, 184, left, 16, 1, 750000, Georgia\\nGeorges Mikautadze, Centre-Forward, 23, FC Metz, 176, right, 24, 9, 15000000, Georgia\\nGiorgi Kvilitaia, Centre-Forward, 30, APOEL Nicosia, 193, right, 37, 6, 1600000, Georgia\\nBudu Zivzivadze, Centre-Forward, 30, Karlsruher SC, 189, both, 25, 7, 900000, Georgia\\nDiogo Costa, Goalkeeper, 24, FC Porto, 186, right, 20, 0, 40000000, Portugal\\nJosé Sá, Goalkeeper, 31, Wolverhampton Wanderers, 192, right, 2, 0, 14000000, Portugal\\nRui Patrício, Goalkeeper, 36, AS Roma, 190, left, 108, 0, 1000000, Portugal\\nRúben Dias, Centre-Back, 27, Manchester City, 187, right, 55, 3, 80000000, Portugal\\nGonçalo Inácio, Centre-Back, 22, Sporting CP, 186, left, 7, 2, 45000000, Portugal\\nAntónio Silva, Centre-Back, 20, SL Benfica, 187, right, 10, 0, 45000000, Portugal\\nPepe, Centre-Back, 41, FC Porto, 187, right, 136, 8, 500000, Portugal\\nNuno Mendes, Left-Back, 21, Paris Saint-Germain, 183, left, 21, 0, 55000000, Portugal\\nDiogo Dalot, Right-Back, 25, Manchester United, 184, right, 18, 2, 35000000, Portugal\\nJoão Cancelo, Right-Back, 30, FC Barcelona, 182, right, 52, 10, 25000000, Portugal\\nNélson Semedo, Right-Back, 30, Wolverhampton Wanderers, 177, right, 28, 0, 12000000, Portugal\\nJoão Palhinha, Defensive Midfield, 28, Fulham FC, 190, right, 26, 2, 55000000, Portugal\\nJoão Neves, Defensive Midfield, 19, SL Benfica, 174, right, 6, 0, 55000000, Portugal\\nRúben Neves, Defensive Midfield, 27, Al-Hilal SFC, 180, right, 46, 0, 32000000, Portugal\\nDanilo Pereira, Defensive Midfield, 32, Paris Saint-Germain, 188, right, 72, 2, 8000000, Portugal\\nMatheus Nunes, Central Midfield, 25, Manchester City, 183, right, 12, 2, 50000000, Portugal\\nVitinha, Central Midfield, 24, Paris Saint-Germain, 172, right, 16, 0, 50000000, Portugal\\nBruno Fernandes, Attacking Midfield, 29, Manchester United, 179, right, 65, 22, 70000000, Portugal\\nBernardo Silva, Attacking Midfield, 29, Manchester City, 173, left, 88, 11, 70000000, Portugal\\nRafael Leão, Left Winger, 24, AC Milan, 188, right, 25, 4, 90000000, Portugal\\nDiogo Jota, Left Winger, 27, Liverpool FC, 178, right, 37, 13, 50000000, Portugal\\nPedro Neto, Right Winger, 24, Wolverhampton Wanderers, 172, left, 6, 1, 55000000, Portugal\\nFrancisco Conceição, Right Winger, 21, FC Porto, 170, left, 2, 0, 22000000, Portugal\\nJoão Félix, Second Striker, 24, FC Barcelona, 181, right, 37, 7, 30000000, Portugal\\nGonçalo Ramos, Centre-Forward, 22, Paris Saint-Germain, 185, right, 12, 8, 50000000, Portugal\\nCristiano Ronaldo, Centre-Forward, 39, Al-Nassr FC, 188, right, 206, 128, 15000000, Portugal\\nMatej Kovar, Goalkeeper, 24, Bayer 04 Leverkusen, 196, right, 1, 0, 7000000, Czech Republic\\nVitezslav Jaros, Goalkeeper, 22, SK Sturm Graz, 190, right, 0, 0, 5000000, Czech Republic\\nJindrich Stanek, Goalkeeper, 28, SK Slavia Prague, 192, right, 9, 0, 3500000, Czech Republic\\nMartin Vitík, Centre-Back, 21, AC Sparta Prague, 193, right, 1, 0, 12000000, Czech Republic\\nLadislav Krejci, Centre-Back, 25, AC Sparta Prague, 191, left, 9, 3, 10000000, Czech Republic\\nTomas Vlcek, Centre-Back, 23, SK Slavia Prague, 181, right, 1, 0, 6000000, Czech Republic\\nRobin Hranac, Centre-Back, 24, FC Viktoria Plzen, 190, right, 1, 0, 5000000, Czech Republic\\nDavid Zima, Centre-Back, 23, SK Slavia Prague, 192, right, 20, 1, 4000000, Czech Republic\\nTomas Holes, Centre-Back, 31, SK Slavia Prague, 180, right, 27, 2, 2200000, Czech Republic\\nDavid Jurásek, Left-Back, 23, TSG 1899 Hoffenheim, 183, left, 7, 0, 8000000, Czech Republic\\nVladimír Coufal, Right-Back, 31, West Ham United, 174, right, 40, 1, 8000000, Czech Republic\\nTomas Soucek, Defensive Midfield, 29, West Ham United, 192, right, 68, 12, 30000000, Czech Republic\\nMichal Sadílek, Central Midfield, 25, Twente Enschede FC, 169, left, 23, 1, 8000000, Czech Republic\\nLukas Cerv, Central Midfield, 23, FC Viktoria Plzen, 182, -, 0, 0, 1500000, Czech Republic\\nDavid Doudera, Right Midfield, 26, SK Slavia Prague, 175, right, 8, 1, 3000000, Czech Republic\\nLukas Provod, Left Midfield, 27, SK Slavia Prague, 189, left, 18, 2, 3000000, Czech Republic\\nPavel Sulc, Attacking Midfield, 23, FC Viktoria Plzen, 177, right, 1, 0, 6000000, Czech Republic\\nAntonín Barák, Attacking Midfield, 29, ACF Fiorentina, 190, left, 39, 8, 4500000, Czech Republic\\nOndrej Lingr, Attacking Midfield, 25, Feyenoord Rotterdam, 175, right, 13, 0, 3500000, Czech Republic\\nMatej Jurasek, Right Winger, 20, SK Slavia Prague, 181, -, 1, 0, 8000000, Czech Republic\\nVaclav Cerny, Right Winger, 26, VfL Wolfsburg, 182, left, 15, 5, 7000000, Czech Republic\\nAdam Hlozek, Second Striker, 21, Bayer 04 Leverkusen, 188, right, 31, 2, 12000000, Czech Republic\\nPatrik Schick, Centre-Forward, 28, Bayer 04 Leverkusen, 191, left, 37, 18, 22000000, Czech Republic\\nMojmír Chytil, Centre-Forward, 25, SK Slavia Prague, 187, -, 12, 4, 6500000, Czech Republic\\nJan Kuchta, Centre-Forward, 27, AC Sparta Prague, 185, right, 20, 3, 5000000, Czech Republic\\nTomas Chory, Centre-Forward, 29, FC Viktoria Plzen, 199, right, 3, 2, 3200000, Czech Republic\", path=None, url=None, mimetype=None), image_resource=None, audio_resource=None, video_resource=None, text_template='{metadata_str}\\n\\n{content}')]\n"
          ]
        }
      ]
    },
    {
      "cell_type": "markdown",
      "source": [
        "### Build index\n",
        "Creates a searchable vector index from the loaded documents\n",
        " - Converts text into numerical vectors using embeddings\n",
        " - Enables efficient semantic search and retrieval\n",
        " - Stores document vectors in memory for quick access\n",
        " - Used by chat engine to find relevant context when answering questions"
      ],
      "metadata": {
        "id": "NwyXaxAWyyIm"
      },
      "id": "NwyXaxAWyyIm"
    },
    {
      "cell_type": "code",
      "source": [
        "index = VectorStoreIndex.from_documents(documents)"
      ],
      "metadata": {
        "id": "h3koZpCFyzov"
      },
      "id": "h3koZpCFyzov",
      "execution_count": null,
      "outputs": []
    },
    {
      "cell_type": "code",
      "source": [
        "#setup LLM model\n",
        "llm = OpenAI(model=\"gpt-3.5-turbo\", temperature=0)"
      ],
      "metadata": {
        "id": "czmrwhORYrxD"
      },
      "id": "czmrwhORYrxD",
      "execution_count": null,
      "outputs": []
    },
    {
      "cell_type": "markdown",
      "source": [
        "#Configuring a Chat Engine\n",
        "\n",
        "Configuring a chat engine is very similar to configuring a query engine.\n",
        "\n",
        "##High-Level API\n",
        "\n",
        "You can directly build and configure a chat engine from an index in 1 line of code:\n",
        "\n",
        "\n",
        "*chat_engine = index.as_chat_engine(chat_mode=\"condense_question\", verbose=True)*\n",
        "\n",
        "**Note**: you can access different chat engines by specifying the chat_mode as a kwarg. condense_question corresponds to CondenseQuestionChatEngine, react corresponds to ReActChatEngine, context corresponds to a ContextChatEngine.\n",
        "\n",
        "**Note**: While the high-level API optimizes for ease-of-use, it does NOT expose full range of configurability."
      ],
      "metadata": {
        "id": "LJbGFXai0dvB"
      },
      "id": "LJbGFXai0dvB"
    },
    {
      "cell_type": "markdown",
      "source": [
        "\n",
        "##Available Chat Modes:\n",
        "\n",
        "**context** - Retrieve nodes from the index using every user message. The retrieved text is inserted into the system prompt, so that the chat engine can either respond naturally or use the context from the query engine.\n",
        "\n",
        "**condense_question** - Look at the chat history and re-write the user message to be a query for the index. Return the response after reading the response from the query engine.\n",
        "\n",
        "**condense_plus_context** - A combination of condense_question and context. Look at the chat history and re-write the user message to be a retrieval query for the index. The retrieved text is inserted into the system prompt, so that the chat engine can either respond naturally or use the context from the query engine.\n",
        "\n",
        "**simple** - A simple chat with the LLM directly, no query engine involved.\n",
        "\n",
        "**best** - Turn the query engine into a tool, for use with a ReAct data agent or an OpenAI data agent, depending on what your LLM supports. OpenAI data agents require gpt-3.5-turbo or gpt-4 as they use the function calling API from OpenAI.\n",
        "\n",
        "**react** - Same as best, but forces a ReAct data agent.\n",
        "\n",
        "**openai** - Same as best, but forces an OpenAI data agent.\n",
        "\n"
      ],
      "metadata": {
        "id": "WPJN1UH3zxc6"
      },
      "id": "WPJN1UH3zxc6"
    },
    {
      "cell_type": "markdown",
      "source": [
        "### Default Mode\n",
        "Default mode is the basic question-answering mode in LlamaIndex. It provides straightforward answers by directly querying the indexed documents without any additional processing like question reformulation or context maintenance.\n"
      ],
      "metadata": {
        "id": "mAXL7LGbK8fs"
      },
      "id": "mAXL7LGbK8fs"
    },
    {
      "cell_type": "code",
      "source": [
        "chat_engine = index.as_chat_engine()"
      ],
      "metadata": {
        "id": "u74-UQIzLH7l"
      },
      "id": "u74-UQIzLH7l",
      "execution_count": null,
      "outputs": []
    },
    {
      "cell_type": "code",
      "source": [
        "# Get response\n",
        "response = chat_engine.chat(\"Hello! What club played Toni Kroos during euro 2024?\")"
      ],
      "metadata": {
        "id": "mgleAKe3T9GT"
      },
      "id": "mgleAKe3T9GT",
      "execution_count": null,
      "outputs": []
    },
    {
      "cell_type": "code",
      "source": [
        "print(response)"
      ],
      "metadata": {
        "id": "2iHG_g07UDTW",
        "colab": {
          "base_uri": "https://localhost:8080/"
        },
        "outputId": "658dcfb6-1128-42d4-f605-84b33fedbfe8"
      },
      "id": "2iHG_g07UDTW",
      "execution_count": null,
      "outputs": [
        {
          "output_type": "stream",
          "name": "stdout",
          "text": [
            "Toni Kroos played for Real Madrid during Euro 2024.\n"
          ]
        }
      ]
    },
    {
      "cell_type": "markdown",
      "source": [
        "### Context mode\n",
        "Context mode in LlamaIndex is a chat engine configuration that provides more natural and complete responses by maintaining the conversational context. Unlike the default mode, it formats answers in complete sentences and includes relevant context from the source documents.\n",
        "\n",
        "#### Key Features\n",
        "- Generates complete, grammatically correct sentences\n",
        "- Maintains conversational history\n",
        "- Provides responses with better context\n",
        "- Doesn't reformulate the question (unlike condense_question mode)\n",
        "\n"
      ],
      "metadata": {
        "id": "q4criFdLI-k8"
      },
      "id": "q4criFdLI-k8"
    },
    {
      "cell_type": "code",
      "source": [
        "# Create chat engine with optimal settings\n",
        "chat_engine = index.as_chat_engine(\n",
        "    chat_mode=\"context\",  # For complete, natural responses\n",
        "    llm=llm,              # Directly set LLM in chat engine\n",
        "    verbose=True,        # To see the retrieval process\n",
        "    similarity_top_k=2   # Get top 2 most relevant chunks\n",
        ")\n"
      ],
      "metadata": {
        "id": "JL3NmHszWYew"
      },
      "id": "JL3NmHszWYew",
      "execution_count": null,
      "outputs": []
    },
    {
      "cell_type": "markdown",
      "source": [
        "### Understanding the Settings:\n",
        "- `chat_mode=\"context\"`: Provides complete, natural responses while maintaining context\n",
        "- `verbose=True`: Shows the retrieval process for debugging\n",
        "- `similarity_top_k=2`: Retrieves the 2 most relevant text chunks\n",
        "- `llm=llm` : Specifies which Language Model to use"
      ],
      "metadata": {
        "id": "8glbQ20vWwVG"
      },
      "id": "8glbQ20vWwVG"
    },
    {
      "cell_type": "code",
      "source": [
        "# Get response\n",
        "response = chat_engine.chat(\"Hello! What club played Toni Kroos during euro 2024?\")"
      ],
      "metadata": {
        "id": "fnOLtxCdWmx6"
      },
      "id": "fnOLtxCdWmx6",
      "execution_count": null,
      "outputs": []
    },
    {
      "cell_type": "code",
      "source": [
        "print(response)"
      ],
      "metadata": {
        "colab": {
          "base_uri": "https://localhost:8080/"
        },
        "id": "ctjQWOaOGcXC",
        "outputId": "3349389a-3739-47c8-ffaf-ed7cd835548a"
      },
      "id": "ctjQWOaOGcXC",
      "execution_count": null,
      "outputs": [
        {
          "output_type": "stream",
          "name": "stdout",
          "text": [
            "Toni Kroos played for Real Madrid during Euro 2024.\n"
          ]
        }
      ]
    },
    {
      "cell_type": "code",
      "source": [
        "chat_engine = index.as_chat_engine(chat_mode=\"context\", verbose=True)"
      ],
      "metadata": {
        "id": "ML3uzufHLZJp"
      },
      "id": "ML3uzufHLZJp",
      "execution_count": null,
      "outputs": []
    },
    {
      "cell_type": "markdown",
      "source": [
        "The `verbose=True` parameter in LlamaIndex enables detailed logging and debugging output during the query process. When enabled, it shows step-by-step information about how LlamaIndex processes your query.\n",
        "\n",
        "#### What It Shows\n",
        "- Query processing steps\n",
        "- Retrieved chunks of text\n",
        "- Similarity scores\n",
        "- Response generation process\n",
        "- Internal prompts being used"
      ],
      "metadata": {
        "id": "XzA0DgCCLbJ1"
      },
      "id": "XzA0DgCCLbJ1"
    },
    {
      "cell_type": "markdown",
      "source": [
        "### Condense_question\n",
        "Condense question is a simple chat mode built on top of a query engine over your data.\n",
        "\n",
        "For each chat interaction:\n",
        "\n",
        "- first generate a standalone question from conversation context and last message, then\n",
        "- query the query engine with the condensed question for a response.\n",
        "\n",
        "This approach is simple, and works for questions directly related to the knowledge base. Since it always queries the knowledge base, it can have difficulty answering meta questions like \"what did I ask you before?\""
      ],
      "metadata": {
        "id": "2irj1y3z18CY"
      },
      "id": "2irj1y3z18CY"
    },
    {
      "cell_type": "code",
      "source": [
        "chat_engine = index.as_chat_engine(chat_mode=\"condense_question\", verbose=True)"
      ],
      "metadata": {
        "id": "547COfE3bSEz"
      },
      "id": "547COfE3bSEz",
      "execution_count": null,
      "outputs": []
    },
    {
      "cell_type": "markdown",
      "source": [
        "\n",
        "###Chat with your data"
      ],
      "metadata": {
        "id": "4fqZImBq4gZC"
      },
      "id": "4fqZImBq4gZC"
    },
    {
      "cell_type": "code",
      "source": [
        "response = chat_engine.chat(\"Hello! What club played Toni Kroos during euro 2024?\")"
      ],
      "metadata": {
        "id": "mzQ44vI4bUfm",
        "outputId": "1222e5a8-83c1-4225-f213-7bd0d8e89607",
        "colab": {
          "base_uri": "https://localhost:8080/"
        }
      },
      "id": "mzQ44vI4bUfm",
      "execution_count": null,
      "outputs": [
        {
          "output_type": "stream",
          "name": "stdout",
          "text": [
            "Querying with: Hello! What club played Toni Kroos during euro 2024?\n"
          ]
        }
      ]
    },
    {
      "cell_type": "code",
      "source": [
        "print(response)"
      ],
      "metadata": {
        "id": "GDj-FWWqbYQ7",
        "outputId": "195b0ee5-4d41-40ca-d7c1-534f7d486ab9",
        "colab": {
          "base_uri": "https://localhost:8080/"
        }
      },
      "id": "GDj-FWWqbYQ7",
      "execution_count": null,
      "outputs": [
        {
          "output_type": "stream",
          "name": "stdout",
          "text": [
            "Real Madrid\n"
          ]
        }
      ]
    },
    {
      "cell_type": "code",
      "source": [
        "response = chat_engine.chat(\"What is his age?\")"
      ],
      "metadata": {
        "id": "WsLpXDJMd2nf",
        "colab": {
          "base_uri": "https://localhost:8080/"
        },
        "outputId": "eb188650-0db6-412b-dcb8-1aa2937091d1"
      },
      "id": "WsLpXDJMd2nf",
      "execution_count": null,
      "outputs": [
        {
          "output_type": "stream",
          "name": "stdout",
          "text": [
            "Querying with: How old is Toni Kroos, the player who played for Real Madrid during Euro 2024?\n"
          ]
        }
      ]
    },
    {
      "cell_type": "code",
      "source": [
        "print(response)"
      ],
      "metadata": {
        "id": "tOZNUPGgd4__",
        "outputId": "6df837c3-11d8-4406-986c-bde2489f00d5",
        "colab": {
          "base_uri": "https://localhost:8080/"
        }
      },
      "id": "tOZNUPGgd4__",
      "execution_count": null,
      "outputs": [
        {
          "output_type": "stream",
          "name": "stdout",
          "text": [
            "34\n"
          ]
        }
      ]
    },
    {
      "cell_type": "code",
      "source": [
        "response = chat_engine.chat(\"List all players from Real Madrid Club\")"
      ],
      "metadata": {
        "id": "rBZduC7G5L9_",
        "colab": {
          "base_uri": "https://localhost:8080/"
        },
        "outputId": "943b535d-b8c1-48f3-9729-b7fa50736a99"
      },
      "id": "rBZduC7G5L9_",
      "execution_count": null,
      "outputs": [
        {
          "output_type": "stream",
          "name": "stdout",
          "text": [
            "Querying with: Can you please list all players from the Real Madrid Club?\n"
          ]
        }
      ]
    },
    {
      "cell_type": "code",
      "source": [
        "print(response)"
      ],
      "metadata": {
        "colab": {
          "base_uri": "https://localhost:8080/"
        },
        "id": "ommOgYFc5O1U",
        "outputId": "931f5632-9ae3-4dc4-81d0-858816834773"
      },
      "id": "ommOgYFc5O1U",
      "execution_count": null,
      "outputs": [
        {
          "output_type": "stream",
          "name": "stdout",
          "text": [
            "Joselu, Centre-Forward, 34, Real Madrid, 191, right, 10, 5, 5000000, Spain\n"
          ]
        }
      ]
    },
    {
      "cell_type": "code",
      "source": [
        "response = chat_engine.chat(\"From which club is David Raum?\")"
      ],
      "metadata": {
        "id": "WNfdaL9K50K2",
        "colab": {
          "base_uri": "https://localhost:8080/"
        },
        "outputId": "f7086a3c-798b-478f-b9c7-b9ed10e942fa"
      },
      "id": "WNfdaL9K50K2",
      "execution_count": null,
      "outputs": [
        {
          "output_type": "stream",
          "name": "stdout",
          "text": [
            "Querying with: Which club did David Raum play for?\n"
          ]
        }
      ]
    },
    {
      "cell_type": "code",
      "source": [
        "print(response)"
      ],
      "metadata": {
        "colab": {
          "base_uri": "https://localhost:8080/"
        },
        "id": "S49pCAaK56MF",
        "outputId": "8d32b7c5-2d93-4494-d51d-6c589d65246c"
      },
      "id": "S49pCAaK56MF",
      "execution_count": null,
      "outputs": [
        {
          "output_type": "stream",
          "name": "stdout",
          "text": [
            "David Raum played for TSG Hoffenheim.\n"
          ]
        }
      ]
    },
    {
      "cell_type": "markdown",
      "source": [
        "\n",
        "##Reset conversation state"
      ],
      "metadata": {
        "id": "cTlFoBfP6MCB"
      },
      "id": "cTlFoBfP6MCB"
    },
    {
      "cell_type": "code",
      "source": [
        "chat_engine.reset()"
      ],
      "metadata": {
        "id": "G9KeQJw36N46"
      },
      "id": "G9KeQJw36N46",
      "execution_count": null,
      "outputs": []
    },
    {
      "cell_type": "markdown",
      "source": [
        "##Chat Engine - Condense Plus Context Mode\n",
        "\n",
        "This is a multi-step chat mode built on top of a retriever over your data.\n",
        "\n",
        "For each chat interaction:\n",
        "\n",
        "- First condense a conversation and latest user message to a standalone question\n",
        "- Then build a context for the standalone question from a retriever,\n",
        "- Then pass the context along with prompt and user message to LLM to generate a response.\n",
        "\n",
        "This approach is simple, and works for questions directly related to the knowledge base and general interactions."
      ],
      "metadata": {
        "id": "mK_kAYM_4ApA"
      },
      "id": "mK_kAYM_4ApA"
    },
    {
      "cell_type": "markdown",
      "source": [
        "\n",
        "\n",
        "Since the context retrieved can take up a large amount of the available LLM context, let's ensure we configure a smaller limit to the chat history!"
      ],
      "metadata": {
        "id": "RzkL2-2n4Tda"
      },
      "id": "RzkL2-2n4Tda"
    },
    {
      "cell_type": "code",
      "source": [
        "from llama_index.core.memory import ChatMemoryBuffer\n",
        "\n",
        "memory = ChatMemoryBuffer.from_defaults(token_limit=3900)\n",
        "\n",
        "chat_engine = index.as_chat_engine(\n",
        "    chat_mode=\"condense_plus_context\",\n",
        "    memory=memory,\n",
        "    llm=llm,\n",
        "    context_prompt=(\n",
        "        \"You are a chatbot, able to have normal interactions, as well as talk\"\n",
        "        \" about football players in Euro 2024 based on the provided data\"\n",
        "        \"Here are the relevant documents for the context:\\n\"\n",
        "        \"{context_str}\"\n",
        "        \"\\nInstruction: Use the previous chat history, or the context above, to interact and help the user.\"\n",
        "    ),\n",
        "    verbose=False,\n",
        ")"
      ],
      "metadata": {
        "id": "uZtGaDwpZu7I"
      },
      "id": "uZtGaDwpZu7I",
      "execution_count": null,
      "outputs": []
    },
    {
      "cell_type": "markdown",
      "source": [
        "\n",
        "###Chat with your data"
      ],
      "metadata": {
        "id": "0XuQ-vvt4lYU"
      },
      "id": "0XuQ-vvt4lYU"
    },
    {
      "cell_type": "code",
      "source": [
        "response = chat_engine.chat(\"Hello! What club played Toni Kroos during euro 2024?\")"
      ],
      "metadata": {
        "id": "MgCxNxyRaHU1"
      },
      "id": "MgCxNxyRaHU1",
      "execution_count": null,
      "outputs": []
    },
    {
      "cell_type": "code",
      "source": [
        "print(response)"
      ],
      "metadata": {
        "id": "G_YVWaL5aWl4",
        "outputId": "4345bdaf-e00b-4ea1-b799-b397549472f8",
        "colab": {
          "base_uri": "https://localhost:8080/"
        }
      },
      "id": "G_YVWaL5aWl4",
      "execution_count": null,
      "outputs": [
        {
          "output_type": "stream",
          "name": "stdout",
          "text": [
            "Toni Kroos played for Real Madrid during Euro 2024.\n"
          ]
        }
      ]
    },
    {
      "cell_type": "code",
      "source": [
        "response = chat_engine.chat(\"What is his age?\")"
      ],
      "metadata": {
        "id": "kGsZu6JthMvt"
      },
      "id": "kGsZu6JthMvt",
      "execution_count": null,
      "outputs": []
    },
    {
      "cell_type": "code",
      "source": [
        "print(response)"
      ],
      "metadata": {
        "id": "gksyTh2JhUwv",
        "outputId": "bbb75e8b-9fe2-46ee-8549-76b05e0d5ad2",
        "colab": {
          "base_uri": "https://localhost:8080/"
        }
      },
      "id": "gksyTh2JhUwv",
      "execution_count": null,
      "outputs": [
        {
          "output_type": "stream",
          "name": "stdout",
          "text": [
            "Toni Kroos was 34 years old during Euro 2024.\n"
          ]
        }
      ]
    },
    {
      "cell_type": "code",
      "source": [
        "response = chat_engine.chat(\"List all players from Real Madrid Club\")"
      ],
      "metadata": {
        "id": "sZ7u69Zm5WL1"
      },
      "id": "sZ7u69Zm5WL1",
      "execution_count": null,
      "outputs": []
    },
    {
      "cell_type": "code",
      "source": [
        "print(response)"
      ],
      "metadata": {
        "colab": {
          "base_uri": "https://localhost:8080/"
        },
        "id": "bgeJKxj95Y61",
        "outputId": "ff1c410d-1ac8-4430-fd38-ec7b206dc85d"
      },
      "id": "bgeJKxj95Y61",
      "execution_count": null,
      "outputs": [
        {
          "output_type": "stream",
          "name": "stdout",
          "text": [
            "Here are the players from Real Madrid Club in Euro 2024:\n",
            "\n",
            "1. Joselu, Centre-Forward, 34 years old\n",
            "2. Toni Kroos, Central Midfield, 34 years old\n"
          ]
        }
      ]
    },
    {
      "cell_type": "code",
      "source": [
        "response = chat_engine.chat(\"From which club is David Raum?\")"
      ],
      "metadata": {
        "id": "S-desa1_5_TZ"
      },
      "id": "S-desa1_5_TZ",
      "execution_count": null,
      "outputs": []
    },
    {
      "cell_type": "code",
      "source": [
        "print(response)"
      ],
      "metadata": {
        "colab": {
          "base_uri": "https://localhost:8080/"
        },
        "id": "qlzt8X5U6A2P",
        "outputId": "c26d4f05-7210-4c0b-a780-76b19348a44a"
      },
      "id": "qlzt8X5U6A2P",
      "execution_count": null,
      "outputs": [
        {
          "output_type": "stream",
          "name": "stdout",
          "text": [
            "David Raum is not listed in the provided data for Euro 2024 players. If you have any other players in mind or need information about the existing players, feel free to ask!\n"
          ]
        }
      ]
    },
    {
      "cell_type": "markdown",
      "source": [
        "\n",
        "###Reset conversation state"
      ],
      "metadata": {
        "id": "VaI-M3ej6g1Q"
      },
      "id": "VaI-M3ej6g1Q"
    },
    {
      "cell_type": "code",
      "source": [
        "chat_engine.reset()"
      ],
      "metadata": {
        "id": "0qBW03Oh6jNE"
      },
      "id": "0qBW03Oh6jNE",
      "execution_count": null,
      "outputs": []
    },
    {
      "cell_type": "code",
      "source": [
        "response = chat_engine.chat(\"Hello! What do you know?\")"
      ],
      "metadata": {
        "id": "jbPN4xhM6mOS"
      },
      "id": "jbPN4xhM6mOS",
      "execution_count": null,
      "outputs": []
    },
    {
      "cell_type": "code",
      "source": [
        "print(response)"
      ],
      "metadata": {
        "id": "kAoKUNtv6ogF",
        "colab": {
          "base_uri": "https://localhost:8080/"
        },
        "outputId": "1e39d0e4-e9ef-4ecb-fbf2-bac21a184eaf"
      },
      "id": "kAoKUNtv6ogF",
      "execution_count": null,
      "outputs": [
        {
          "output_type": "stream",
          "name": "stdout",
          "text": [
            "Hello! I know a lot of things. Is there anything specific you would like to talk about or learn more about?\n"
          ]
        }
      ]
    },
    {
      "cell_type": "markdown",
      "source": [
        "###Context chat engine"
      ],
      "metadata": {
        "id": "4uUPlRfO62Tq"
      },
      "id": "4uUPlRfO62Tq"
    },
    {
      "cell_type": "code",
      "source": [
        "chat_engine = index.as_chat_engine(chat_mode=\"context\", llm=llm, verbose=True)"
      ],
      "metadata": {
        "id": "lZFW4yrk61Z2"
      },
      "id": "lZFW4yrk61Z2",
      "execution_count": null,
      "outputs": []
    },
    {
      "cell_type": "markdown",
      "source": [
        "## Task 1\n",
        "Try different modes of chat engine: simple,\n",
        "best, react, openai. Chat with data. Copmare the output. Which engine mode is the best for this tasks? Don't forget to reset the chatbot after each conversation"
      ],
      "metadata": {
        "id": "LibzlH9M7Ejh"
      },
      "id": "LibzlH9M7Ejh"
    },
    {
      "cell_type": "markdown",
      "source": [
        "## Task 2\n",
        "##Test you chats. Chat with you data asking these questions:\n",
        "\n",
        "**Factual Questions (Direct Retrieval):**\n",
        "\n",
        "Which club does Manuel Neuer play for?\n",
        "\n",
        "What is the age of the youngest player in the dataset?\n",
        "\n",
        "How many international caps does Marc-André ter Stegen have?\n",
        "\n",
        "Which player has scored the most goals in international matches?\n",
        "\n",
        "What is the total market value of all players in the dataset?\n",
        "\n",
        "**Comparative Questions (Simple Inference):**\n",
        "\n",
        "Which goalkeeper has the higher market value, ter Stegen or Neuer?\n",
        "\n",
        "Which player is taller, Schlotterbeck or Tah?\n",
        "\n",
        "Who is older, Baumann or Neuer?\n",
        "\n",
        "Which centre-back has more international caps?\n",
        "\n",
        "**Complex Questions (Requires Reasoning):**\n",
        "\n",
        "Based on the data, who would you consider the most valuable goalkeeper for Germany? Explain your reasoning.\n",
        "\n",
        "Which centre-back might be a better fit for a team prioritizing defensive experience? Why?\n",
        "\n",
        "If you were a club manager looking for a young, promising centre-back, who would you be interested in signing? Justify your choice.\n",
        "\n",
        "**Open-ended Questions (Promotes Generation):**\n",
        "\n",
        "What potential strengths and weaknesses could this group of players bring to the German national team at Euro 2024?\n",
        "\n",
        "How might the combination of experience and youth in this dataset impact Germany's performance in the tournament?\n",
        "\n",
        "**Bonus Question (Tests Out-of-Domain Knowledge):**\n",
        "\n",
        "Which of these players were part of Germany's World Cup-winning squad in 2014? (This requires external knowledge, as it's not in the provided dataset)"
      ],
      "metadata": {
        "id": "YNki73qI7pmg"
      },
      "id": "YNki73qI7pmg"
    },
    {
      "cell_type": "markdown",
      "source": [
        "#**Part 2. Non-structural data**\n",
        "This part demonstrates how to use **LlamaIndex**  to build a document-based retrieval system.\n",
        "\n",
        "We will do step-by-step:\n",
        "\n",
        "1. Install necessary dependencies.\n",
        "2. Load a PDF document (GPT4 technical report paper).\n",
        "3. Build a vector-based index.\n",
        "4. Perform document retrieval and query with OpenAI’s GPT model.\n",
        "5. Stream query responses with page citations.\n",
        "\n",
        "This section demonstrates how to build a powerful document-based retrieval system using LlamaIndex. We'll analyze research papers using RAG (Retrieval-Augmented Generation) technology.\n",
        "\n",
        "\n",
        "\n",
        "## What We'll Build\n",
        "\n",
        "A complete document analysis system that can:\n",
        "- Load and process PDF documents\n",
        "- Create searchable vector indices\n",
        "- Answer questions with relevant citations\n",
        "- Stream responses in real-time\n",
        "- Provide source verification\n",
        "\n",
        "## Step-by-Step Process\n",
        "\n",
        "### 1. Install Dependencies\n",
        "We'll set up all necessary packages:\n",
        "- llama-index: Core framework for document processing\n",
        "- llama-index-llms-openai: OpenAI integration\n",
        "- Other supporting libraries\n",
        "\n",
        "### 2. Load PDF Document\n",
        "We'll work with the GPT-4 technical report to:\n",
        "- Create proper directory structure\n",
        "- Download paper from arXiv\n",
        "- Process PDF into analyzable text\n",
        "- Verify document loading\n",
        "\n",
        "### 3. Build Vector Index\n",
        "Transform document into searchable format:\n",
        "- Convert text to vector embeddings\n",
        "- Create efficient index structure\n",
        "- Optimize for quick retrieval\n",
        "\n",
        "### 4. Document Retrieval & Querying\n",
        "Implement intelligent querying:\n",
        "- Connect with OpenAI's GPT model\n",
        "- Set up query parameters\n",
        "- Configure response formats\n",
        "- Handle different types of questions\n",
        "\n",
        "### 5. Stream Responses\n",
        "Create interactive output system:\n",
        "- Real-time response streaming\n",
        "- Page number citations\n",
        "- Source verification\n",
        "- Relevance scoring"
      ],
      "metadata": {
        "id": "f8vQemAbc2Rf"
      },
      "id": "f8vQemAbc2Rf"
    },
    {
      "cell_type": "markdown",
      "source": [
        "###**Step 1. Import the necessary components from LlamaIndex**"
      ],
      "metadata": {
        "id": "6a2t_vWMAfzt"
      },
      "id": "6a2t_vWMAfzt"
    },
    {
      "cell_type": "code",
      "source": [
        "from llama_index.core import (\n",
        "    SimpleDirectoryReader,    # For reading documents\n",
        "    VectorStoreIndex,         # For creating vector embeddings\n",
        "    download_loader,          # For loading different document types\n",
        "    RAKEKeywordTableIndex,    # For keyword extraction\n",
        ")"
      ],
      "metadata": {
        "id": "0qYx-eunMTsG"
      },
      "id": "0qYx-eunMTsG",
      "execution_count": null,
      "outputs": []
    },
    {
      "cell_type": "markdown",
      "source": [
        "Configure LLM: Initialize the OpenAI LLM with a temperature of 0 for deterministic responses."
      ],
      "metadata": {
        "id": "sTsw5B2DA25Q"
      },
      "id": "sTsw5B2DA25Q"
    },
    {
      "cell_type": "code",
      "source": [
        "llm = OpenAI(temperature=0, model=\"gpt-3.5-turbo\")"
      ],
      "metadata": {
        "id": "BX9vmweFMV82"
      },
      "id": "BX9vmweFMV82",
      "execution_count": null,
      "outputs": []
    },
    {
      "cell_type": "markdown",
      "source": [
        "### **Step 2: Document Preparation**\n"
      ],
      "metadata": {
        "id": "ZHTgkPpfEVK2"
      },
      "id": "ZHTgkPpfEVK2"
    },
    {
      "cell_type": "code",
      "source": [
        "# Create data directory\n",
        "!mkdir -p 'data/'"
      ],
      "metadata": {
        "id": "RLJzekNq7bXh"
      },
      "id": "RLJzekNq7bXh",
      "execution_count": null,
      "outputs": []
    },
    {
      "cell_type": "code",
      "source": [
        "# Download research paper from arXiv  and save it in the data folder as chatGPT4_paper.pdf\n",
        "!wget \"https://arxiv.org/pdf/2303.08774.pdf\" -O \"data/chatGPT4_paper.pdf\""
      ],
      "metadata": {
        "colab": {
          "base_uri": "https://localhost:8080/"
        },
        "id": "aL-HaA5QfZiI",
        "outputId": "10e17855-e6a7-47da-9eea-ce683cc5b924"
      },
      "id": "aL-HaA5QfZiI",
      "execution_count": null,
      "outputs": [
        {
          "output_type": "stream",
          "name": "stdout",
          "text": [
            "--2025-02-14 10:10:09--  https://arxiv.org/pdf/2303.08774.pdf\n",
            "Resolving arxiv.org (arxiv.org)... 151.101.195.42, 151.101.131.42, 151.101.67.42, ...\n",
            "Connecting to arxiv.org (arxiv.org)|151.101.195.42|:443... connected.\n",
            "HTTP request sent, awaiting response... 301 Moved Permanently\n",
            "Location: http://arxiv.org/pdf/2303.08774 [following]\n",
            "--2025-02-14 10:10:09--  http://arxiv.org/pdf/2303.08774\n",
            "Connecting to arxiv.org (arxiv.org)|151.101.195.42|:80... connected.\n",
            "HTTP request sent, awaiting response... 200 OK\n",
            "Length: 5245564 (5.0M) [application/pdf]\n",
            "Saving to: ‘data/chatGPT4_paper.pdf’\n",
            "\n",
            "\rdata/chatGPT4_paper   0%[                    ]       0  --.-KB/s               \rdata/chatGPT4_paper 100%[===================>]   5.00M  --.-KB/s    in 0.06s   \n",
            "\n",
            "2025-02-14 10:10:09 (86.4 MB/s) - ‘data/chatGPT4_paper.pdf’ saved [5245564/5245564]\n",
            "\n"
          ]
        }
      ]
    },
    {
      "cell_type": "markdown",
      "source": [
        "### **Step 3. Load and Analyze Document**\n",
        "\n",
        "We use SimpleDirectoryReader to load the document and VectorStoreIndex to build an index."
      ],
      "metadata": {
        "id": "hqdBRXzjCjL2"
      },
      "id": "hqdBRXzjCjL2"
    },
    {
      "cell_type": "code",
      "source": [
        "reader = SimpleDirectoryReader(input_files=[\"./data/chatGPT4_paper.pdf\"])\n",
        "data = reader.load_data()"
      ],
      "metadata": {
        "id": "8FOxjiBa1QTH"
      },
      "id": "8FOxjiBa1QTH",
      "execution_count": null,
      "outputs": []
    },
    {
      "cell_type": "markdown",
      "source": [
        "Let's examine our loaded document:\n",
        "print basic document information (numbers of loaded documents and the abstract)"
      ],
      "metadata": {
        "id": "M1-JH-9-E3YZ"
      },
      "id": "M1-JH-9-E3YZ"
    },
    {
      "cell_type": "code",
      "source": [
        "# Print basic document information\n",
        "print(f\"Number of documents loaded: {len(data)}\")\n",
        "print(f\"Abstract text preview: {data[0].text[:1000]}...\")\n"
      ],
      "metadata": {
        "colab": {
          "base_uri": "https://localhost:8080/"
        },
        "id": "EdLTnqetcHmN",
        "outputId": "49f9376d-1a9e-4103-d3e5-e1e840f6f660"
      },
      "id": "EdLTnqetcHmN",
      "execution_count": null,
      "outputs": [
        {
          "output_type": "stream",
          "name": "stdout",
          "text": [
            "Number of documents loaded: 100\n",
            "Abstract text preview: GPT-4 Technical Report\n",
            "OpenAI∗\n",
            "Abstract\n",
            "We report the development of GPT-4, a large-scale, multimodal model which can\n",
            "accept image and text inputs and produce text outputs. While less capable than\n",
            "humans in many real-world scenarios, GPT-4 exhibits human-level performance\n",
            "on various professional and academic benchmarks, including passing a simulated\n",
            "bar exam with a score around the top 10% of test takers. GPT-4 is a Transformer-\n",
            "based model pre-trained to predict the next token in a document. The post-training\n",
            "alignment process results in improved performance on measures of factuality and\n",
            "adherence to desired behavior. A core component of this project was developing\n",
            "infrastructure and optimization methods that behave predictably across a wide\n",
            "range of scales. This allowed us to accurately predict some aspects of GPT-4’s\n",
            "performance based on models trained with no more than 1/1,000th the compute of\n",
            "GPT-4.\n",
            "1 Introduction\n",
            "This technical report presents GPT-4, a large multimodal model capa...\n"
          ]
        }
      ]
    },
    {
      "cell_type": "markdown",
      "source": [
        "##**Step 4: Create Vector Index**\n",
        "We create a vector-based index:"
      ],
      "metadata": {
        "id": "u90r335rFGbG"
      },
      "id": "u90r335rFGbG"
    },
    {
      "cell_type": "code",
      "source": [
        "#build a vector-based index from our documents:\n",
        "index = VectorStoreIndex.from_documents(data)"
      ],
      "metadata": {
        "id": "e_t09ywLMm0d"
      },
      "id": "e_t09ywLMm0d",
      "execution_count": null,
      "outputs": []
    },
    {
      "cell_type": "markdown",
      "source": [
        "## **Step 5: Setup Query Engine**\n",
        "We create a query engine that retrieves the most relevant information."
      ],
      "metadata": {
        "id": "ER6hQZDEFqbV"
      },
      "id": "ER6hQZDEFqbV"
    },
    {
      "cell_type": "code",
      "source": [
        "#create a query engine with streaming and top-k retrieval:\n",
        "query_engine = index.as_query_engine(streaming=True, similarity_top_k=3)"
      ],
      "metadata": {
        "id": "75E8m6v3MuDc"
      },
      "id": "75E8m6v3MuDc",
      "execution_count": null,
      "outputs": []
    },
    {
      "cell_type": "markdown",
      "source": [
        "## **Step 6: Query the Document**\n",
        "Let's ask some questions about the paper:\n"
      ],
      "metadata": {
        "id": "TcSJTQTRFyFt"
      },
      "id": "TcSJTQTRFyFt"
    },
    {
      "cell_type": "code",
      "source": [
        "#streaming query response with page citation\n",
        "response = query_engine.query(\n",
        "    \"How does GPT-4 perform on professional exams compared to GPT-3.5? Show statements in bullet form and show\"\n",
        "    \" page reference after each statement.\"\n",
        ")\n",
        "response.print_response_stream()"
      ],
      "metadata": {
        "colab": {
          "base_uri": "https://localhost:8080/"
        },
        "id": "xP6X9B4KMx8D",
        "outputId": "492301df-3d16-4391-bfaf-a953d07e8254"
      },
      "id": "xP6X9B4KMx8D",
      "execution_count": null,
      "outputs": [
        {
          "output_type": "stream",
          "name": "stdout",
          "text": [
            "- GPT-4 outperforms GPT-3.5 on most exams tested. (Page 6)\n",
            "- GPT-4 exhibits human-level performance on the majority of professional and academic exams. (Page 6)\n",
            "- GPT-4 passes a simulated version of the Uniform Bar Examination with a score in the top 10% of test takers. (Page 6)"
          ]
        }
      ]
    },
    {
      "cell_type": "markdown",
      "source": [
        "###Analyze the Sources\n",
        "Let's examine where this information came from:"
      ],
      "metadata": {
        "id": "9YLLSgYsl94F"
      },
      "id": "9YLLSgYsl94F"
    },
    {
      "cell_type": "code",
      "source": [
        "\n",
        "for node in response.source_nodes:\n",
        "    print(\"-----\")\n",
        "    text_fmt = node.node.get_content().strip().replace(\"\\n\", \" \")[:1000]\n",
        "    print(f\"Text:\\t {text_fmt} ...\")\n",
        "    print(f\"Metadata:\\t {node.node.metadata}\")\n",
        "    print(f\"Score:\\t {node.score:.3f}\")"
      ],
      "metadata": {
        "colab": {
          "base_uri": "https://localhost:8080/"
        },
        "id": "9BB-YCypM4AF",
        "outputId": "998812a2-4a72-40fd-b54d-a96bd3709c17"
      },
      "id": "9BB-YCypM4AF",
      "execution_count": null,
      "outputs": [
        {
          "output_type": "stream",
          "name": "stdout",
          "text": [
            "-----\n",
            "Text:\t AP Calculus BCAMC 12Codeforces RatingAP English LiteratureAMC 10Uniform Bar ExamAP English LanguageAP ChemistryGRE QuantitativeAP Physics 2USABO Semifinal 2020AP MacroeconomicsAP StatisticsLSATGRE WritingAP MicroeconomicsAP BiologyGRE VerbalAP World HistorySAT MathAP US HistoryAP US GovernmentAP PsychologyAP Art HistorySAT EBRWAP Environmental Science Exam 0% 20% 40% 60% 80% 100% Estimated percentile lower bound (among test takers) Exam results (ordered by GPT-3.5 performance) gpt-4 gpt-4 (no vision) gpt3.5 Figure 4. GPT performance on academic and professional exams. In each case, we simulate the conditions and scoring of the real exam. Exams are ordered from low to high based on GPT-3.5 performance. GPT-4 outperforms GPT-3.5 on most exams tested. To be conservative we report the lower end of the range of percentiles, but this creates some artifacts on the AP exams which have very wide scoring bins. For example although GPT-4 attains the highest possible score on AP Biology (5/5), thi ...\n",
            "Metadata:\t {'page_label': '6', 'file_name': 'chatGPT4_paper.pdf', 'file_path': 'data/chatGPT4_paper.pdf', 'file_type': 'application/pdf', 'file_size': 5245564, 'creation_date': '2025-02-14', 'last_modified_date': '2024-03-11'}\n",
            "Score:\t 0.847\n",
            "-----\n",
            "Text:\t 4 (74th - 89th) 4 (74th - 89th) AP World History 4 (65th - 87th) 4 (65th - 87th) 4 (65th - 87th) AMC 103 30 / 150 (6th - 12th) 36 / 150 (10th - 19th) 36 / 150 (10th - 19th) AMC 123 60 / 150 (45th - 66th) 48 / 150 (19th - 40th) 30 / 150 (4th - 8th) Introductory Sommelier (theory knowledge) 92 % 92 % 80 % Certified Sommelier (theory knowledge) 86 % 86 % 58 % Advanced Sommelier (theory knowledge) 77 % 77 % 46 % Leetcode (easy) 31 / 41 31 / 41 12 / 41 Leetcode (medium) 21 / 80 21 / 80 8 / 80 Leetcode (hard) 3 / 45 3 / 45 0 / 45 Table 1. GPT performance on academic and professional exams. In each case, we simulate the conditions and scoring of the real exam. We report GPT-4’s final score graded according to exam- specific rubrics, as well as the percentile of test-takers achieving GPT-4’s score. 5 ...\n",
            "Metadata:\t {'page_label': '5', 'file_name': 'chatGPT4_paper.pdf', 'file_path': 'data/chatGPT4_paper.pdf', 'file_type': 'application/pdf', 'file_size': 5245564, 'creation_date': '2025-02-14', 'last_modified_date': '2024-03-11'}\n",
            "Score:\t 0.846\n",
            "-----\n",
            "Text:\t Exam GPT-4 GPT-4 (no vision) GPT-3.5 Uniform Bar Exam (MBE+MEE+MPT) 298 / 400 (~90th) 298 / 400 (~90th) 213 / 400 (~10th) LSAT 163 (~88th) 161 (~83rd) 149 (~40th) SAT Evidence-Based Reading & Writing 710 / 800 (~93rd) 710 / 800 (~93rd) 670 / 800 (~87th) SAT Math 700 / 800 (~89th) 690 / 800 (~89th) 590 / 800 (~70th) Graduate Record Examination (GRE) Quantitative 163 / 170 (~80th) 157 / 170 (~62nd) 147 / 170 (~25th) Graduate Record Examination (GRE) Verbal 169 / 170 (~99th) 165 / 170 (~96th) 154 / 170 (~63rd) Graduate Record Examination (GRE) Writing 4 / 6 (~54th) 4 / 6 (~54th) 4 / 6 (~54th) USABO Semifinal Exam 2020 87 / 150 (99th - 100th) 87 / 150 (99th - 100th) 43 / 150 (31st - 33rd) USNCO Local Section Exam 2022 36 / 60 38 / 60 24 / 60 Medical Knowledge Self-Assessment Program 75 % 75 % 53 % Codeforces Rating 392 (below 5th) 392 (below 5th) 260 (below 5th) AP Art History 5 (86th - 100th) 5 (86th - 100th) 5 (86th - 100th) AP Biology 5 (85th - 100th) 5 (85th - 100th) 4 (62nd - 85th) AP ...\n",
            "Metadata:\t {'page_label': '5', 'file_name': 'chatGPT4_paper.pdf', 'file_path': 'data/chatGPT4_paper.pdf', 'file_type': 'application/pdf', 'file_size': 5245564, 'creation_date': '2025-02-14', 'last_modified_date': '2024-03-11'}\n",
            "Score:\t 0.827\n"
          ]
        }
      ]
    },
    {
      "cell_type": "code",
      "source": [
        "response = query_engine.query(\n",
        "    \"Can GPT-4 process images as inputs, and if so, how? Show statements in bullet form and show\"\n",
        "    \" page referencehttps://www.linkedin.com/posts/wids-geneva_datascience-machinelearning-digitalinnovation-activity-7295335890191613952-TEoG?utm_source=share&utm_medium=member_desktop&rcm=ACoAAAtg5T4BN_RTfJBY_yVvdg6n0wTVToTamc8after each statement.\"\n",
        ")\n",
        "response.print_response_stream()"
      ],
      "metadata": {
        "colab": {
          "base_uri": "https://localhost:8080/"
        },
        "id": "rrG7wskn9ED8",
        "outputId": "7acc1fb8-1c86-4c01-aa00-bd774e2ffa1b"
      },
      "id": "rrG7wskn9ED8",
      "execution_count": null,
      "outputs": [
        {
          "output_type": "stream",
          "name": "stdout",
          "text": [
            "- GPT-4 can process images as inputs by describing the content of the image in detail, panel by panel. (Page reference: 9)\n",
            "- It can analyze and identify elements in the image, such as objects and their interactions, to provide a description of what is depicted. (Page reference: 9)\n",
            "- GPT-4 can recognize and comment on the unusual or humorous aspects of an image based on the visual content presented. (Page reference: 36)\n",
            "- The model can interpret visual input to generate responses that capture the essence of the image and provide insights or explanations about the depicted scene. (Page reference: 36)"
          ]
        }
      ]
    },
    {
      "cell_type": "markdown",
      "source": [
        "### Test you chats. Chat with you data asking these questions:\n",
        "\n",
        "**Factuality and Benchmark Performance**\n",
        "\n",
        "- What score did GPT-4 achieve on the Uniform Bar Exam?\n",
        "- How does GPT-4’s performance on MMLU compare to previous models?\n",
        "- How does GPT-4’s performance on TruthfulQA change after RLHF fine-tuning?\n",
        "\n",
        "**Hallucination and Accuracy**\n",
        "\n",
        "- How does GPT-4's hallucination rate compare to GPT-3.5?\n",
        "- What impact does reinforcement learning from human feedback (RLHF) have on GPT-4’s factual accuracy?\n",
        "\n",
        "**Multimodal Capabilities**\n",
        "\n",
        "- What types of images can GPT-4 interpret in its multimodal setting?\n",
        "- Give an example of GPT-4 analyzing an image and producing a response.\n",
        "\n",
        "\n",
        "**Safety and Bias Mitigation**\n",
        "\n",
        "- What safety interventions were applied to GPT-4 during its development?\n",
        "- How does GPT-4 handle requests for sensitive or restricted information?\n",
        "- What methods did OpenAI use to test GPT-4’s safety before deployment?\n",
        "- What are rule-based reward models (RBRMs), and how do they improve GPT-4’s safety?\n",
        "\n"
      ],
      "metadata": {
        "id": "j6bq8cfI-TqT"
      },
      "id": "j6bq8cfI-TqT"
    }
  ],
  "metadata": {
    "kernelspec": {
      "display_name": "Python 3",
      "name": "python3"
    },
    "language_info": {
      "codemirror_mode": {
        "name": "ipython",
        "version": 3
      },
      "file_extension": ".py",
      "mimetype": "text/x-python",
      "name": "python",
      "nbconvert_exporter": "python",
      "pygments_lexer": "ipython3"
    },
    "colab": {
      "provenance": [],
      "gpuType": "T4",
      "include_colab_link": true
    },
    "accelerator": "GPU"
  },
  "nbformat": 4,
  "nbformat_minor": 5
}